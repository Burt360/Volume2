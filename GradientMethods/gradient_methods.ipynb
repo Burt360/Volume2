{
 "cells": [
  {
   "cell_type": "code",
   "execution_count": 1,
   "metadata": {},
   "outputs": [],
   "source": [
    "# gradient_methods.py\n",
    "\"\"\"Volume 2: Gradient Descent Methods.\n",
    "Nathan Schill\n",
    "Section 2\n",
    "Thurs. Mar. 2, 2023\n",
    "\"\"\"\n",
    "\n",
    "import numpy as np\n",
    "from scipy import optimize as opt\n",
    "from scipy import linalg as la\n",
    "import matplotlib.pyplot as plt"
   ]
  },
  {
   "cell_type": "code",
   "execution_count": 7,
   "metadata": {},
   "outputs": [
    {
     "data": {
      "text/plain": [
       "(array([0.00538056, 0.00697149, 0.003187  ]), True, 5)"
      ]
     },
     "execution_count": 7,
     "metadata": {},
     "output_type": "execute_result"
    }
   ],
   "source": [
    "# Problem 1\n",
    "def steepest_descent(f, Df, x0, tol=1e-5, maxiter=100):\n",
    "    \"\"\"Compute the minimizer of f using the exact method of steepest descent.\n",
    "\n",
    "    Parameters:\n",
    "        f (function): The objective function. Accepts a NumPy array of shape\n",
    "            (n,) and returns a float.\n",
    "        Df (function): The first derivative of f. Accepts and returns a NumPy\n",
    "            array of shape (n,).\n",
    "        x0 ((n,) ndarray): The initial guess.\n",
    "        tol (float): The stopping tolerance.\n",
    "        maxiter (int): The maximum number of iterations to compute.\n",
    "\n",
    "    Returns:\n",
    "        ((n,) ndarray): The approximate minimum of f.\n",
    "        (bool): Whether or not the algorithm converged.\n",
    "        (int): The number of iterations computed.\n",
    "    \"\"\"\n",
    "\n",
    "    # Init\n",
    "    converged = False    \n",
    "    xk = x0\n",
    "    dfxk = Df(xk)\n",
    "\n",
    "    for i in range(1, maxiter+1):\n",
    "        # Line search for a\n",
    "        line = lambda a: f(xk - a*dfxk)\n",
    "        ak = opt.minimize_scalar(line).x\n",
    "\n",
    "        # Set next iteration\n",
    "        xk = xk - ak*dfxk\n",
    "\n",
    "        # Compute next derivative; determine if converged\n",
    "        dfxk = Df(xk)\n",
    "        if np.linalg.norm(dfxk, ord=np.inf) < tol:\n",
    "            converged = True\n",
    "            break\n",
    "    \n",
    "    return xk, converged, i\n",
    "\n",
    "def f(t):\n",
    "    x,y,z = t\n",
    "    return x**4 + y**4 + z**4\n",
    "def df(t):\n",
    "    x,y,z = t\n",
    "    return np.array([4*x**3, 4*y**3, 4*z**3])\n",
    "\n",
    "x0 = np.array([1,2,3])\n",
    "steepest_descent(f, df, x0)"
   ]
  },
  {
   "cell_type": "code",
   "execution_count": 10,
   "metadata": {},
   "outputs": [
    {
     "data": {
      "text/plain": [
       "(array([0.99998513, 0.99997021]), True, 3757)"
      ]
     },
     "execution_count": 10,
     "metadata": {},
     "output_type": "execute_result"
    }
   ],
   "source": [
    "def f(t):\n",
    "    x,y = t\n",
    "    return 100*(y - x**2)**2 + (1 - x)**2\n",
    "def df(t):\n",
    "    x,y = t\n",
    "    return np.array([2*100*(y - x**2)*(-2)*x + 2*(1 - x)*(-1),\n",
    "                     2*100*(y - x**2)])\n",
    "\n",
    "x0 = np.array([0.5, 0.5])\n",
    "steepest_descent(f, df, x0, maxiter=10000)"
   ]
  },
  {
   "cell_type": "code",
   "execution_count": 33,
   "metadata": {},
   "outputs": [],
   "source": [
    "# Problem 2\n",
    "def conjugate_gradient(Q, b, x0, tol=1e-4):\n",
    "    \"\"\"Solve the linear system Qx = b with the conjugate gradient algorithm.\n",
    "\n",
    "    Parameters:\n",
    "        Q ((n,n) ndarray): A positive-definite square matrix.\n",
    "        b ((n, ) ndarray): The right-hand side of the linear system.\n",
    "        x0 ((n,) ndarray): An initial guess for the solution to Qx = b.\n",
    "        tol (float): The convergence tolerance.\n",
    "\n",
    "    Returns:\n",
    "        ((n,) ndarray): The solution to the linear system Qx = b.\n",
    "        (bool): Whether or not the algorithm converged.\n",
    "        (int): The number of iterations computed.\n",
    "    \"\"\"\n",
    "\n",
    "    converged = True\n",
    "    \n",
    "    # Get dimension of space\n",
    "    n = Q.shape[0]\n",
    "\n",
    "    ### Follow Algorithm 12.1 in the lab PDF\n",
    "    xk = x0\n",
    "    rk = Q@x0 - b\n",
    "    dk = -rk\n",
    "\n",
    "    k = 0\n",
    "    while np.linalg.norm(rk) >= tol:\n",
    "        if k >= n:\n",
    "            # Already completed n iterations, so break\n",
    "            converged = False\n",
    "            break\n",
    "        \n",
    "        ak = rk@rk / (dk@Q@dk)\n",
    "        xk = xk + ak*dk\n",
    "        rk1 = rk + ak*Q@dk\n",
    "        bk = rk1@rk1 / (rk@rk)\n",
    "        dk = -rk1 + bk*dk\n",
    "\n",
    "        rk = rk1\n",
    "        k += 1\n",
    "    \n",
    "    return xk, converged, k\n"
   ]
  },
  {
   "cell_type": "code",
   "execution_count": 42,
   "metadata": {},
   "outputs": [
    {
     "data": {
      "text/plain": [
       "(array([0.5, 2. ]), True, 2)"
      ]
     },
     "execution_count": 42,
     "metadata": {},
     "output_type": "execute_result"
    }
   ],
   "source": [
    "Q = np.array([[2, 0], [0, 4]])\n",
    "b = np.array([1, 8])\n",
    "\n",
    "x0 = np.array([0.6, 3])\n",
    "conjugate_gradient(Q, b, x0)"
   ]
  },
  {
   "cell_type": "code",
   "execution_count": 43,
   "metadata": {},
   "outputs": [
    {
     "data": {
      "text/plain": [
       "(array([0.50000475, 2.00000057]), True, 7)"
      ]
     },
     "execution_count": 43,
     "metadata": {},
     "output_type": "execute_result"
    }
   ],
   "source": [
    "def f(t):\n",
    "    x,y = t\n",
    "    return x**2 + 2*y**2 - x - 8*y\n",
    "def df(t):\n",
    "    x,y = t\n",
    "    return np.array([2*x - 1, 4*y - 8])\n",
    "\n",
    "x0 = np.array([1, 1])\n",
    "steepest_descent(f, df, x0)"
   ]
  },
  {
   "cell_type": "code",
   "execution_count": 51,
   "metadata": {},
   "outputs": [
    {
     "data": {
      "text/plain": [
       "True"
      ]
     },
     "execution_count": 51,
     "metadata": {},
     "output_type": "execute_result"
    }
   ],
   "source": [
    "# Generate Q, b, and the initial guess x0\n",
    "n = 4\n",
    "A = np.random.random((n,n))\n",
    "Q = A.T @ A\n",
    "b, x0 = np.random.random((2,n))\n",
    "x = conjugate_gradient(Q, b, x0)[0]\n",
    "np.allclose(Q @ x, b)"
   ]
  },
  {
   "cell_type": "code",
   "execution_count": 2,
   "metadata": {},
   "outputs": [],
   "source": [
    "# Problem 3\n",
    "def nonlinear_conjugate_gradient(f, df, x0, tol=1e-5, maxiter=100):\n",
    "    \"\"\"Compute the minimizer of f using the nonlinear conjugate gradient\n",
    "    algorithm.\n",
    "\n",
    "    Parameters:\n",
    "        f (function): The objective function. Accepts a NumPy array of shape\n",
    "            (n,) and returns a float.\n",
    "        Df (function): The first derivative of f. Accepts and returns a NumPy\n",
    "            array of shape (n,).\n",
    "        x0 ((n,) ndarray): The initial guess.\n",
    "        tol (float): The stopping tolerance.\n",
    "        maxiter (int): The maximum number of iterations to compute.\n",
    "\n",
    "    Returns:\n",
    "        ((n,) ndarray): The approximate minimum of f.\n",
    "        (bool): Whether or not the algorithm converged.\n",
    "        (int): The number of iterations computed.\n",
    "    \"\"\"\n",
    "    \n",
    "    converged = True\n",
    "   \n",
    "    ### Follow Algorithm 12.2 in the lab PDF\n",
    "    xk = x0\n",
    "    rk = -df(xk)\n",
    "    dk = rk\n",
    "    \n",
    "    line = lambda a: f(xk + a*dk)\n",
    "    ak = opt.minimize_scalar(line).x\n",
    "\n",
    "    xk = xk + ak*dk\n",
    "\n",
    "    k = 1\n",
    "    while np.linalg.norm(rk) >= tol:\n",
    "        if k >= maxiter:\n",
    "            converged = False\n",
    "            break\n",
    "        \n",
    "        rk1 = -df(xk)\n",
    "        bk = rk1@rk1 / (rk@rk)\n",
    "        dk = rk1 + bk*dk\n",
    "\n",
    "        line = lambda a: f(xk + a*dk)\n",
    "        ak = opt.minimize_scalar(line).x\n",
    "\n",
    "        xk = xk + ak*dk\n",
    "        \n",
    "        rk = rk1\n",
    "        k += 1\n",
    "    \n",
    "    return xk, converged, k"
   ]
  },
  {
   "cell_type": "code",
   "execution_count": 8,
   "metadata": {},
   "outputs": [
    {
     "data": {
      "text/plain": [
       "(array([1.00000121, 1.00000242]), True, 119)"
      ]
     },
     "execution_count": 8,
     "metadata": {},
     "output_type": "execute_result"
    }
   ],
   "source": [
    "def f(t):\n",
    "    x,y = t\n",
    "    return 100*(y - x**2)**2 + (1 - x)**2\n",
    "def df(t):\n",
    "    x,y = t\n",
    "    return np.array([2*100*(y - x**2)*(-2)*x + 2*(1 - x)*(-1),\n",
    "                     2*100*(y - x**2)])\n",
    "\n",
    "x0 = np.array([2,2])\n",
    "nonlinear_conjugate_gradient(f, df, x0, maxiter=1000)"
   ]
  },
  {
   "cell_type": "code",
   "execution_count": 24,
   "metadata": {},
   "outputs": [
    {
     "data": {
      "text/plain": [
       "(array([-3.69373570e-17, -9.18178140e-18, -1.13656354e-18]), True, 4)"
      ]
     },
     "execution_count": 24,
     "metadata": {},
     "output_type": "execute_result"
    }
   ],
   "source": [
    "def f(x):\n",
    "    Q = np.diag([1,2,3])\n",
    "    b = np.array([0,0,0])\n",
    "\n",
    "    return x@Q@x/2 - b@x\n",
    "def df(x):\n",
    "    b = np.array([0,0,0])\n",
    "    return x@Q - b\n",
    "\n",
    "x = np.array([1,2,3])\n",
    "# f(x), Q@x\n",
    "x0 = np.array([1,2,3])\n",
    "nonlinear_conjugate_gradient(f, df, x0, maxiter=1000)"
   ]
  },
  {
   "cell_type": "code",
   "execution_count": 55,
   "metadata": {},
   "outputs": [
    {
     "name": "stdout",
     "output_type": "stream",
     "text": [
      "Optimization terminated successfully.\n",
      "         Current function value: 0.000000\n",
      "         Iterations: 44\n",
      "         Function evaluations: 102\n",
      "         Gradient evaluations: 102\n"
     ]
    },
    {
     "data": {
      "text/plain": [
       "array([1.00000007, 1.00000015])"
      ]
     },
     "execution_count": 55,
     "metadata": {},
     "output_type": "execute_result"
    }
   ],
   "source": [
    "opt.fmin_cg(opt.rosen, np.array([10, 10]), fprime=opt.rosen_der)"
   ]
  },
  {
   "cell_type": "code",
   "execution_count": 80,
   "metadata": {},
   "outputs": [
    {
     "data": {
      "text/plain": [
       "array([-3.48225800e+06,  1.50163079e+01, -3.58158119e-02, -2.02018899e+00,\n",
       "       -1.03316876e+00, -5.10969536e-02,  1.82915214e+03])"
      ]
     },
     "execution_count": 80,
     "metadata": {},
     "output_type": "execute_result"
    }
   ],
   "source": [
    "# Problem 4\n",
    "def prob4(filename='linregression.txt',\n",
    "          x0=np.array([-3482258, 15, 0, -2, -1, 0, 1829])):\n",
    "    \"\"\"Use conjugate_gradient() to solve the linear regression problem with\n",
    "    the data from the given file, the given initial guess, and the default\n",
    "    tolerance. Return the solution to the corresponding Normal Equations.\n",
    "    \"\"\"\n",
    "    \n",
    "    # Load data\n",
    "    # Each row: y, x1, ..., xn\n",
    "    A = np.loadtxt(filename)\n",
    "\n",
    "    # Get vector of y\n",
    "    b = A[:, 0].copy()\n",
    "\n",
    "    # Set first column to 1\n",
    "    # Each row: 1, x1, ..., xn\n",
    "    A[:, 0] = 1\n",
    "\n",
    "    # Get Q = A^T A to solve normal eqn A^T A x = A^T b\n",
    "    Q = A.T@A\n",
    "    ATb = A.T@b\n",
    "\n",
    "    return conjugate_gradient(Q, ATb, x0)[0]\n",
    "    \n",
    "prob4()"
   ]
  },
  {
   "cell_type": "code",
   "execution_count": 122,
   "metadata": {},
   "outputs": [],
   "source": [
    "# Problem 5\n",
    "class LogisticRegression1D:\n",
    "    \"\"\"Binary logistic regression classifier for one-dimensional data.\"\"\"\n",
    "\n",
    "    def fit(self, x, y, guess):\n",
    "        \"\"\"Choose the optimal beta values by minimizing the negative log\n",
    "        likelihood function, given data and outcome labels.\n",
    "\n",
    "        Parameters:\n",
    "            x ((n,) ndarray): An array of n predictor variables.\n",
    "            y ((n,) ndarray): An array of n outcome variables.\n",
    "            guess (array): Initial guess for beta.\n",
    "        \"\"\"\n",
    "        \n",
    "        # Define negative log likelihood function\n",
    "        def NLL(b):\n",
    "            b0, b1 = b\n",
    "            return np.sum(np.log(1 + np.exp(-(b0 + b1*x))) + (1-y)*(b0 + b1*x))\n",
    "        \n",
    "        # Save b0, b1 minimizing NLL\n",
    "        self.b0, self.b1 = opt.fmin_cg(NLL, guess, disp=False)\n",
    "\n",
    "    def predict(self, x):\n",
    "        \"\"\"Calculate the probability of an unlabeled predictor variable\n",
    "        having an outcome of 1.\n",
    "\n",
    "        Parameters:\n",
    "            x (float): a predictor variable with an unknown label.\n",
    "        \"\"\"\n",
    "        \n",
    "        # Return sigma(x)\n",
    "        return 1/(1 + np.exp(-(self.b0 + self.b1*x)))\n",
    "\n",
    "\n",
    "LogReg = LogisticRegression1D()\n",
    "    \n",
    "# x: ambient temp\n",
    "# y: 1 if O-ring damage present, 0 else\n",
    "data = np.load('challenger.npy').T\n",
    "\n",
    "LogReg.fit(data[0], data[1], np.array([20., -1.]))"
   ]
  },
  {
   "cell_type": "code",
   "execution_count": 127,
   "metadata": {},
   "outputs": [
    {
     "data": {
      "image/png": "[encoded data removed]",
      "text/plain": [
       "<Figure size 432x288 with 1 Axes>"
      ]
     },
     "metadata": {
      "needs_background": "light"
     },
     "output_type": "display_data"
    },
    {
     "data": {
      "text/plain": [
       "0.999609671069125"
      ]
     },
     "execution_count": 127,
     "metadata": {},
     "output_type": "execute_result"
    }
   ],
   "source": [
    "# Problem 6\n",
    "def prob6(filename='challenger.npy', guess=np.array([20., -1.])):\n",
    "    \"\"\"Return the probability of O-ring damage at 31 degrees Farenheit.\n",
    "    Additionally, plot the logistic curve through the challenger data\n",
    "    on the interval [30, 100].\n",
    "\n",
    "    Parameters:\n",
    "        filename (str): The file to perform logistic regression on.\n",
    "                        Defaults to \"challenger.npy\"\n",
    "        guess (array): The initial guess for beta.\n",
    "                        Defaults to [20., -1.]\n",
    "    \"\"\"\n",
    "    \n",
    "    # x: ambient temp\n",
    "    # y: 1 if O-ring damage present, 0 else\n",
    "    data = np.load(filename).T\n",
    "\n",
    "    # Fit logistic regression\n",
    "    LogReg = LogisticRegression1D()\n",
    "    LogReg.fit(data[0], data[1], guess)\n",
    "\n",
    "    # Prediction for 31 degrees F\n",
    "    x = 31\n",
    "    y = LogReg.predict(x)\n",
    "\n",
    "    # Plot\n",
    "    domain = np.linspace(30, 100, 200)\n",
    "    plt.plot(domain, LogReg.predict(domain), color='orange')\n",
    "    plt.scatter(data[0], data[1], label='Previous damage')\n",
    "    plt.scatter(x, y, label='P(damage) at launch', color='green')\n",
    "    plt.legend()\n",
    "    plt.show()\n",
    "    \n",
    "    return y\n",
    "\n",
    "prob6()"
   ]
  }
 ],
 "metadata": {
  "kernelspec": {
   "display_name": "base",
   "language": "python",
   "name": "python3"
  },
  "language_info": {
   "codemirror_mode": {
    "name": "ipython",
    "version": 3
   },
   "file_extension": ".py",
   "mimetype": "text/x-python",
   "name": "python",
   "nbconvert_exporter": "python",
   "pygments_lexer": "ipython3",
   "version": "3.9.12"
  },
  "orig_nbformat": 4,
  "vscode": {
   "interpreter": {
    "hash": "ad2bdc8ecc057115af97d19610ffacc2b4e99fae6737bb82f5d7fb13d2f2c186"
   }
  }
 },
 "nbformat": 4,
 "nbformat_minor": 2
}

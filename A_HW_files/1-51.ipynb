{
 "cells": [
  {
   "cell_type": "code",
   "execution_count": 2,
   "metadata": {},
   "outputs": [
    {
     "name": "stdout",
     "output_type": "stream",
     "text": [
      "17 = 1*85 + -2*34\n",
      "17 = -2*119 + 3*85\n",
      "17 = 3*204 + -5*119\n",
      "17 = -5*323 + 8*204\n"
     ]
    },
    {
     "data": {
      "text/plain": [
       "(17, -5, 8)"
      ]
     },
     "execution_count": 2,
     "metadata": {},
     "output_type": "execute_result"
    }
   ],
   "source": [
    "def my_euclid(c, d):\n",
    "    \"\"\"Extended Euclidean algorithm:\n",
    "        return gcd(a, b), x, y such that gcd(a, b) = ax + by.\n",
    "    \"\"\"\n",
    "\n",
    "    reversed = False\n",
    "    if c >= d:\n",
    "        a = c\n",
    "        b = d\n",
    "    else:\n",
    "        a = d\n",
    "        b = c\n",
    "        reversed = True\n",
    "\n",
    "    def gcd(a, b):\n",
    "        r = a%b\n",
    "        c = a//b\n",
    "        #print(f'{a} = {c}*{b} + {r}')\n",
    "\n",
    "        if r == 0:\n",
    "            #print()\n",
    "            return b, 0, 1\n",
    "        else:\n",
    "            g, x, y = gcd(b, r)\n",
    "\n",
    "            tmp = x\n",
    "            x = y\n",
    "            y = tmp + y*-c\n",
    "\n",
    "            print(f'{g} = {x}*{a} + {y}*{b}')\n",
    "            #print(c, x, y)\n",
    "\n",
    "            return g, x, y\n",
    "        \n",
    "    g, x, y = gcd(a, b)\n",
    "    if not reversed:\n",
    "        return g, x, y\n",
    "    else:\n",
    "        return g, y, x\n",
    "\n",
    "my_euclid(323, 204)"
   ]
  },
  {
   "cell_type": "code",
   "execution_count": 4,
   "metadata": {},
   "outputs": [
    {
     "name": "stdout",
     "output_type": "stream",
     "text": [
      "1 = 1*127 + -7*18\n"
     ]
    },
    {
     "data": {
      "text/plain": [
       "(1, -7, 1)"
      ]
     },
     "execution_count": 4,
     "metadata": {},
     "output_type": "execute_result"
    }
   ],
   "source": [
    "my_euclid(18, 127)\n",
    "#my_euclid(2345, 72)"
   ]
  },
  {
   "cell_type": "code",
   "execution_count": 2,
   "metadata": {},
   "outputs": [
    {
     "data": {
      "text/plain": [
       "17"
      ]
     },
     "execution_count": 2,
     "metadata": {},
     "output_type": "execute_result"
    }
   ],
   "source": [
    "85-34*(85//34)\n",
    "\n",
    "a, b= 323, 204\n",
    "r = [a, b*(a//b)]\n",
    "\n",
    "i = 2\n",
    "while r[-1] != 0:\n",
    "    # Append the r_i remainder:\n",
    "    r.append(r[i-2] - r[i-1] * (r[i-2]//r[i-1]))\n",
    "    i += 1\n",
    "#return r"
   ]
  },
  {
   "cell_type": "code",
   "execution_count": 2,
   "metadata": {},
   "outputs": [
    {
     "name": "stdout",
     "output_type": "stream",
     "text": [
      "0\n",
      "1\n",
      "2\n"
     ]
    },
    {
     "ename": "KeyboardInterrupt",
     "evalue": "",
     "output_type": "error",
     "traceback": [
      "\u001b[1;31m---------------------------------------------------------------------------\u001b[0m",
      "\u001b[1;31mKeyboardInterrupt\u001b[0m                         Traceback (most recent call last)",
      "\u001b[1;32mc:\\Users\\BYU Rental\\Documents\\ACME\\Vol2\\HW_files\\1-52.ipynb Cell 3\u001b[0m in \u001b[0;36m<cell line: 3>\u001b[1;34m()\u001b[0m\n\u001b[0;32m      <a href='vscode-notebook-cell:/c%3A/Users/BYU%20Rental/Documents/ACME/Vol2/HW_files/1-52.ipynb#W2sZmlsZQ%3D%3D?line=2'>3</a>\u001b[0m \u001b[39mfor\u001b[39;00m i \u001b[39min\u001b[39;00m \u001b[39mrange\u001b[39m(\u001b[39m10\u001b[39m):\n\u001b[0;32m      <a href='vscode-notebook-cell:/c%3A/Users/BYU%20Rental/Documents/ACME/Vol2/HW_files/1-52.ipynb#W2sZmlsZQ%3D%3D?line=3'>4</a>\u001b[0m     \u001b[39mprint\u001b[39m(i)\n\u001b[1;32m----> <a href='vscode-notebook-cell:/c%3A/Users/BYU%20Rental/Documents/ACME/Vol2/HW_files/1-52.ipynb#W2sZmlsZQ%3D%3D?line=4'>5</a>\u001b[0m     time\u001b[39m.\u001b[39;49msleep(\u001b[39m1\u001b[39;49m)\n",
      "\u001b[1;31mKeyboardInterrupt\u001b[0m: "
     ]
    }
   ],
   "source": [
    "import time\n",
    "\n",
    "for i in range(10):\n",
    "    print(i)\n",
    "    time.sleep(1)"
   ]
  }
 ],
 "metadata": {
  "kernelspec": {
   "display_name": "Python 3.9.12 ('base')",
   "language": "python",
   "name": "python3"
  },
  "language_info": {
   "codemirror_mode": {
    "name": "ipython",
    "version": 3
   },
   "file_extension": ".py",
   "mimetype": "text/x-python",
   "name": "python",
   "nbconvert_exporter": "python",
   "pygments_lexer": "ipython3",
   "version": "3.9.12"
  },
  "orig_nbformat": 4,
  "vscode": {
   "interpreter": {
    "hash": "ad2bdc8ecc057115af97d19610ffacc2b4e99fae6737bb82f5d7fb13d2f2c186"
   }
  }
 },
 "nbformat": 4,
 "nbformat_minor": 2
}

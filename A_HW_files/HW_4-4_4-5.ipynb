{
 "cells": [
  {
   "cell_type": "code",
   "execution_count": 1,
   "metadata": {},
   "outputs": [],
   "source": [
    "SS = 'The harder I work, the luckier I get.'\n",
    "\n",
    "p = dict()\n",
    "for c in SS:\n",
    "    if c not in p:\n",
    "        p[c] = 1\n",
    "    else:\n",
    "        p[c] += 1"
   ]
  },
  {
   "cell_type": "code",
   "execution_count": 20,
   "metadata": {},
   "outputs": [
    {
     "name": "stdout",
     "output_type": "stream",
     "text": [
      "37\n"
     ]
    },
    {
     "data": {
      "text/plain": [
       "[('T', 1),\n",
       " ('a', 1),\n",
       " ('d', 1),\n",
       " ('w', 1),\n",
       " ('o', 1),\n",
       " (',', 1),\n",
       " ('l', 1),\n",
       " ('u', 1),\n",
       " ('c', 1),\n",
       " ('i', 1),\n",
       " ('g', 1),\n",
       " ('.', 1),\n",
       " ('I', 2),\n",
       " ('k', 2),\n",
       " ('t', 2),\n",
       " ('h', 3),\n",
       " ('r', 4),\n",
       " ('e', 5),\n",
       " (' ', 7)]"
      ]
     },
     "execution_count": 20,
     "metadata": {},
     "output_type": "execute_result"
    }
   ],
   "source": [
    "print(total := sum([p[c] for c in p]))\n",
    "[(c, p[c]) for c in sorted(p, key=p.get)]"
   ]
  },
  {
   "cell_type": "code",
   "execution_count": 2,
   "metadata": {},
   "outputs": [
    {
     "name": "stdout",
     "output_type": "stream",
     "text": [
      "['00000', '00001', '00010', '00011', '00100', '00101', '00110', '00111', '01000', '01001', '01010', '01011', '0110', '0111', '1000', '1001', '101', '110', '111']\n"
     ]
    },
    {
     "data": {
      "text/plain": [
       "{'T': '00000',\n",
       " 'a': '00001',\n",
       " 'd': '00010',\n",
       " 'w': '00011',\n",
       " 'o': '00100',\n",
       " ',': '00101',\n",
       " 'l': '00110',\n",
       " 'u': '00111',\n",
       " 'c': '01000',\n",
       " 'i': '01001',\n",
       " 'g': '01010',\n",
       " '.': '01011',\n",
       " 'I': '0110',\n",
       " 'k': '0111',\n",
       " 't': '1000',\n",
       " 'h': '1001',\n",
       " 'r': '101',\n",
       " 'e': '110',\n",
       " ' ': '111'}"
      ]
     },
     "execution_count": 2,
     "metadata": {},
     "output_type": "execute_result"
    }
   ],
   "source": [
    "C = dict()\n",
    "S = ['T','a','d','w','o',',','l','u','c','i','g','.',\\\n",
    "    'I','k','t','h','r','e',' ']\n",
    "A = [bin(i)[2:].zfill(5) for i in range(12)]\\\n",
    "    + [bin(i)[2:].zfill(4) for i in range(6, 10)]\\\n",
    "    + [bin(i)[2:].zfill(3) for i in range(5, 8)]\n",
    "print(A)\n",
    "\n",
    "for i in range(len(S)):\n",
    "    C[S[i]] = A[i]\n",
    "C"
   ]
  },
  {
   "cell_type": "code",
   "execution_count": 75,
   "metadata": {},
   "outputs": [
    {
     "name": "stdout",
     "output_type": "stream",
     "text": [
      "144\n"
     ]
    },
    {
     "data": {
      "text/plain": [
       "296"
      ]
     },
     "execution_count": 75,
     "metadata": {},
     "output_type": "execute_result"
    }
   ],
   "source": [
    "encoded = ''\n",
    "for c in SS:\n",
    "    encoded += C[c]\n",
    "\n",
    "print(len(encoded))\n",
    "8*37"
   ]
  }
 ],
 "metadata": {
  "kernelspec": {
   "display_name": "Python 3.9.12 ('base')",
   "language": "python",
   "name": "python3"
  },
  "language_info": {
   "codemirror_mode": {
    "name": "ipython",
    "version": 3
   },
   "file_extension": ".py",
   "mimetype": "text/x-python",
   "name": "python",
   "nbconvert_exporter": "python",
   "pygments_lexer": "ipython3",
   "version": "3.9.12"
  },
  "orig_nbformat": 4,
  "vscode": {
   "interpreter": {
    "hash": "ad2bdc8ecc057115af97d19610ffacc2b4e99fae6737bb82f5d7fb13d2f2c186"
   }
  }
 },
 "nbformat": 4,
 "nbformat_minor": 2
}

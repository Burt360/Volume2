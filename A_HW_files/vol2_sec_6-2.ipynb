{
 "cells": [
  {
   "cell_type": "code",
   "execution_count": 1,
   "id": "bef97d99",
   "metadata": {},
   "outputs": [],
   "source": [
    "import numpy as np\n",
    "import matplotlib.pyplot as plt"
   ]
  },
  {
   "cell_type": "code",
   "execution_count": 2,
   "id": "4b52295a",
   "metadata": {},
   "outputs": [],
   "source": [
    "\n",
    "def get_mius_bernoulli():\n",
    "    \"\"\"Sample from Bernoulli(0.5) 1000 times and caluculate miu_1000. Repeat 100 times.\n",
    "    Return list of miu_1000.\n",
    "    \"\"\"\n",
    "\n",
    "    mius = [None] * 100\n",
    "    for i in range(100):\n",
    "        # Take 1000 samples from Bernoulli(0.5)\n",
    "        # Take the first number as X_i = 0 and the second as X_i = 1\n",
    "        sample = np.random.multinomial(1000, (0.5, 0.5))\n",
    "        \n",
    "        # Store miu_1000\n",
    "        mius[i] = sample[1]/1000\n",
    "    \n",
    "    return mius\n"
   ]
  },
  {
   "cell_type": "code",
   "execution_count": 3,
   "id": "b5390c11",
   "metadata": {},
   "outputs": [
    {
     "name": "stdout",
     "output_type": "stream",
     "text": [
      "upper bounds\n",
      "\t 0.1 :  \t 0.024999999999999994\n",
      "\t 0.01 :  \t 2.5\n",
      "\t 0.001 :  \t 250.0\n",
      "\n",
      "proportion of times in bounds\n",
      "\t 0.1 :  \t 0.0\n",
      "\t 0.01 :  \t 0.59\n",
      "\t 0.001 :  \t 0.97\n"
     ]
    }
   ],
   "source": [
    "epsilons = (0.1, 0.01, 0.001)\n",
    "\n",
    "# Upper bounds given by weak law of large numbers for each epsilon with n = 1000\n",
    "# var Bernoulli(0.5) is 0.5(1-0.5) = 1/4\n",
    "upper_bounds = ((1/4) / (1000 * eps**2) for eps in epsilons)\n",
    "\n",
    "mius = get_mius_bernoulli()\n",
    "miu = 0.5\n",
    "\n",
    "# Calculate the number of times that |sample_miu - miu| >= eps, then get the proportion\n",
    "proportions = [[abs(sample_miu - miu) >= eps for sample_miu in mius].count(True)/len(mius) for eps in epsilons]\n",
    "\n",
    "print('upper bounds')\n",
    "for eps, upper_bound in zip(epsilons, upper_bounds):\n",
    "    print('\\t',eps,':  \\t',upper_bound)\n",
    "\n",
    "print('\\nproportion of times in bounds')\n",
    "for eps, prop in zip(epsilons, proportions):\n",
    "    print('\\t',eps,':  \\t',prop)"
   ]
  },
  {
   "cell_type": "code",
   "execution_count": 4,
   "id": "f1360e6f",
   "metadata": {},
   "outputs": [],
   "source": [
    "\n",
    "def get_mius_beta():\n",
    "    \"\"\"Sample from Beta(1, 9) 1000 times and caluculate miu_1000. Repeat 100 times.\n",
    "    Return list of miu_1000.\n",
    "    \"\"\"\n",
    "\n",
    "    mius = [None] * 100\n",
    "    for i in range(100):\n",
    "        # Take 1000 samples from Beta(1, 9)\n",
    "        # Take the first number as X_i = 0 and the second as X_i = 1.\n",
    "        sample = np.random.beta(1, 9, 1000)\n",
    "        \n",
    "        # Store miu_1000\n",
    "        mius[i] = np.mean(sample)\n",
    "    \n",
    "    return mius\n"
   ]
  },
  {
   "cell_type": "code",
   "execution_count": 5,
   "id": "3eaf90af",
   "metadata": {},
   "outputs": [
    {
     "name": "stdout",
     "output_type": "stream",
     "text": [
      "upper bounds\n",
      "\t 0.1 :  \t 0.000818181818181818\n",
      "\t 0.01 :  \t 0.08181818181818182\n",
      "\t 0.001 :  \t 8.181818181818182\n",
      "\n",
      "proportion of times in bounds\n",
      "\t 0.1 :  \t 0.0\n",
      "\t 0.01 :  \t 0.0\n",
      "\t 0.001 :  \t 0.71\n"
     ]
    }
   ],
   "source": [
    "epsilons = (0.1, 0.01, 0.001)\n",
    "\n",
    "# Upper bounds given by weak law of large numbers for each epsilon with n = 1000\n",
    "# var Beta(1, 9)\n",
    "a, b = 1, 9\n",
    "variance = a*b/((a+b)**2 * (a+b+1))\n",
    "\n",
    "upper_bounds = (variance / (1000 * eps**2) for eps in epsilons)\n",
    "\n",
    "mius = get_mius_beta()\n",
    "miu = a/(a+b)\n",
    "\n",
    "# Calculate the number of times that |sample_miu - miu| >= eps, then get the proportion\n",
    "proportions = [[abs(sample_miu - miu) >= eps for sample_miu in mius].count(True)/len(mius) for eps in epsilons]\n",
    "\n",
    "print('upper bounds')\n",
    "for eps, upper_bound in zip(epsilons, upper_bounds):\n",
    "    print('\\t',eps,':  \\t',upper_bound)\n",
    "\n",
    "print('\\nproportion of times in bounds')\n",
    "for eps, prop in zip(epsilons, proportions):\n",
    "    print('\\t',eps,':  \\t',prop)"
   ]
  }
 ],
 "metadata": {
  "kernelspec": {
   "display_name": "Python 3.9.12 ('base')",
   "language": "python",
   "name": "python3"
  },
  "language_info": {
   "codemirror_mode": {
    "name": "ipython",
    "version": 3
   },
   "file_extension": ".py",
   "mimetype": "text/x-python",
   "name": "python",
   "nbconvert_exporter": "python",
   "pygments_lexer": "ipython3",
   "version": "3.9.12"
  },
  "vscode": {
   "interpreter": {
    "hash": "ad2bdc8ecc057115af97d19610ffacc2b4e99fae6737bb82f5d7fb13d2f2c186"
   }
  }
 },
 "nbformat": 4,
 "nbformat_minor": 5
}

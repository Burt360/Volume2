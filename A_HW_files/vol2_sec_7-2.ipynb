{
 "cells": [
  {
   "cell_type": "code",
   "execution_count": 50,
   "metadata": {},
   "outputs": [],
   "source": [
    "import numpy as np\n",
    "import matplotlib.pyplot as plt\n",
    "from scipy.stats import norm, gamma, beta, uniform, logistic"
   ]
  },
  {
   "cell_type": "markdown",
   "metadata": {},
   "source": [
    "# Question 7.6\n",
    "\n",
    "Sampling from the standard normal distribution $10^5$ times, calculate a Monte Carlo estimate of the value of $\\int_{3}^{\\infty}e^{-\\frac{x^2}{2}}dx$, and estimate the standard error. Repeat the problem, sampling instead from $\\mathcal{N}(3,1)$, as in (7.2)."
   ]
  },
  {
   "cell_type": "code",
   "execution_count": 36,
   "metadata": {},
   "outputs": [
    {
     "name": "stdout",
     "output_type": "stream",
     "text": [
      "Method 1: sample from N(0, 1)\n",
      " E[k(x)] = 0.003233550474273988\n",
      "      SE ~ 0.0002845159775294295\n",
      "Method 2: sample from N(3, 1)\n",
      " E[g(x)] = 0.003357410842836899\n",
      " SE      ~ 1.9591295293134687e-05\n"
     ]
    }
   ],
   "source": [
    "def p6():\n",
    "    \"\"\"Complete problem 6\"\"\"\n",
    "\n",
    "    # Sample size\n",
    "    p = 5\n",
    "    n = 10**p\n",
    "    \n",
    "    ### Method 1: sample from N(0, 1)\n",
    "    def k(x):\n",
    "        \"\"\"k(x), the expectation of which is equal to the desired integral\"\"\"\n",
    "\n",
    "        if 3 <= x:\n",
    "            return np.exp(-x**2 / 2)/norm.pdf(x)\n",
    "        else:\n",
    "            return 0\n",
    "\n",
    "    # Sample n times from N(0, 1)\n",
    "    sample = norm.rvs(size=n)\n",
    "    \n",
    "    # Expectation E[k(x)]\n",
    "    Ek = 1/n * sum([k(x) for x in sample])\n",
    "\n",
    "    # Unbiased sample variance\n",
    "    s_hatk = (1/(n-1) * sum([(k(x)-Ek)**2 for x in sample]))**(1/2)\n",
    "\n",
    "    # Estimated standard error\n",
    "    SEk = s_hatk/n**(1/2)\n",
    "\n",
    "    print('Method 1: sample from N(0, 1)')\n",
    "    print(f' E[k(x)] = {Ek}')\n",
    "    print(f'      SE ~ {SEk}')\n",
    "    \n",
    "    ### Method 2: sample from N(3, 1)\n",
    "    def g(x):\n",
    "        \"\"\"k(x), the expectation of which is equal to the desired integral\"\"\"\n",
    "\n",
    "        if 3 <= x:\n",
    "            return np.exp(-x**2 / 2)/norm.pdf(x, 3, 1)\n",
    "        else:\n",
    "            return 0\n",
    "\n",
    "    # Sample n times from N(3, 1)\n",
    "    sample = norm.rvs(3, 1, size=n)\n",
    "    \n",
    "    # Expectation E[g(x)]\n",
    "    Eg = 1/n * sum([g(x) for x in sample])\n",
    "\n",
    "    # Unbiased sample variance\n",
    "    s_hatg = (1/(n-1) * sum([(g(x)-Eg)**2 for x in sample]))**(1/2)\n",
    "\n",
    "    # Estimated standard error\n",
    "    SEg = s_hatg/n**(1/2)\n",
    "\n",
    "    print('Method 2: sample from N(3, 1)')\n",
    "    print(f' E[g(x)] = {Eg}')\n",
    "    print(f' SE      ~ {SEg}')\n",
    "\n",
    "p6()"
   ]
  },
  {
   "cell_type": "markdown",
   "metadata": {},
   "source": [
    "# Question 7.7\n",
    "\n",
    "Use importance sampling, drawing from Beta $(a,b)$ for various values of $a$ and $b$, to estimate the integral $\\int_{0}^{2\\pi}\\frac{dx}{x^3+x+1}$. Find values of $a$, and $b$ and sample size $n$ that give a standard error less than $10^{-3}$.\n",
    "\n",
    "Hint: The domain of Beta $(a,b)$ is [0,1], but the integral is to be evaluated over $[0,2\\pi]$, so you will need to do a change of variables to be able to calculate this with samples from Beta $(a,b)$."
   ]
  },
  {
   "cell_type": "code",
   "execution_count": 35,
   "metadata": {},
   "outputs": [
    {
     "name": "stdout",
     "output_type": "stream",
     "text": [
      "Size 10**4 sample from B(1, 3)\n",
      " E[k(x)] = 0.14403485816863862\n",
      " SE      ~ 0.0009500298401791135\n"
     ]
    }
   ],
   "source": [
    "def p7():\n",
    "    \"\"\"Complete problem 7\"\"\"\n",
    "\n",
    "    # Beta distribution parameters\n",
    "    a, b = 1, 3\n",
    "\n",
    "    # Sample size\n",
    "    p = 4\n",
    "    n = 10**p\n",
    "    \n",
    "    def k(x):\n",
    "        \"\"\"k(x), the expectation of which is equal to the desired integral\"\"\"\n",
    "        \n",
    "        return 1/(((2*np.pi*x)**3 + 2*np.pi*x + 1) * beta.pdf(x, a, b))\n",
    "\n",
    "    # Sample n times from Beta(a, b)\n",
    "    sample = beta.rvs(a, b, size=n)\n",
    "    \n",
    "    # Expectation E[k(x)]\n",
    "    Ek = 1/n * sum([k(x) for x in sample])\n",
    "\n",
    "    # Unbiased sample variance\n",
    "    s_hat = (1/(n-1) * sum([(k(x)-Ek)**2 for x in sample]))**(1/2)\n",
    "\n",
    "    # Estimated standard error\n",
    "    SE = s_hat/n**(1/2)\n",
    "\n",
    "    print(f'Size 10**{p} sample from B({a}, {b})')\n",
    "    print(f' E[k(x)] = {Ek}')\n",
    "    print(f' SE      ~ {SE}')\n",
    "\n",
    "p7()"
   ]
  },
  {
   "cell_type": "markdown",
   "metadata": {},
   "source": [
    "# Question 7.8.iii\n",
    "\n",
    "iii) Thus, a draw from the exponential distribution can be constructed by drawing $u$ from Uniform(0,1) and computing $- \\frac{\\log(1-y)}{\\lambda}$. Write code to implement this, and use your code to draw $10^5$ times from Gamma(1,2). Plot a normed histogram of your results, and, on the same graph, plot the pdf of the exponential distribution for comparison."
   ]
  },
  {
   "cell_type": "code",
   "execution_count": 49,
   "metadata": {},
   "outputs": [
    {
     "data": {
      "image/png": "[encoded data removed]",
      "text/plain": [
       "<Figure size 432x288 with 1 Axes>"
      ]
     },
     "metadata": {
      "needs_background": "light"
     },
     "output_type": "display_data"
    }
   ],
   "source": [
    "def p8():\n",
    "    \"\"\"Complete problem 8\"\"\"\n",
    "\n",
    "    # Gamma(1, lam) parameters\n",
    "    lam = 2\n",
    "\n",
    "    # Sample size\n",
    "    p = 5\n",
    "    n = 10**p\n",
    "\n",
    "    # Sample n times from Uniform(0, 1)\n",
    "    sample_U = uniform.rvs(0, 1, size=n)\n",
    "\n",
    "    # Map sample through F^{-1} to get Gamma(1, lam) sample\n",
    "    sample = [-np.log(u)/lam for u in sample_U]\n",
    "    \n",
    "    # Plot bounds\n",
    "    x1, x2 = 0, 3\n",
    "\n",
    "    # Plot histogram of sample\n",
    "    plt.hist(sample, bins=30, range=(x1, x2), density=True, label='sample')\n",
    "\n",
    "    # Plot exponential distribution with scale=1/lam\n",
    "    x = np.linspace(x1, x2, 100)\n",
    "    y = gamma.pdf(x, 1, scale=1/lam)\n",
    "    plt.plot(x, y, label='pdf')\n",
    "\n",
    "    # Plot\n",
    "    plt.title(f'Sample from Gamma(1, {lam}) distribution')\n",
    "    plt.legend()\n",
    "    plt.show()\n",
    "\n",
    "p8()"
   ]
  },
  {
   "cell_type": "markdown",
   "metadata": {},
   "source": [
    "# Question 7.9.ii-iii\n",
    "\n",
    "ii) Code up the inversion sampling algorithm to sample from the logistic distribution, and use your code to deaw from the logisitc distribution $10^5$ times. Plot a normed histogram of your results, and on the same graph plot the pdf of the logistic distribution for comparison.\n",
    "\n",
    "iii) Using your sample, estimate the mean and variance of the distribution."
   ]
  },
  {
   "cell_type": "code",
   "execution_count": 60,
   "metadata": {},
   "outputs": [
    {
     "data": {
      "image/png": "[encoded data removed]",
      "text/plain": [
       "<Figure size 432x288 with 1 Axes>"
      ]
     },
     "metadata": {
      "needs_background": "light"
     },
     "output_type": "display_data"
    },
    {
     "name": "stdout",
     "output_type": "stream",
     "text": [
      "mu  ~ 0.005598834114380495\n",
      "var ~ 3.2996652360198007\n"
     ]
    }
   ],
   "source": [
    "def p9():\n",
    "    \"\"\"Complete problem 9\"\"\"\n",
    "\n",
    "    # Sample size\n",
    "    p = 5\n",
    "    n = 10**p\n",
    "\n",
    "    # Sample n times from Uniform(0, 1)\n",
    "    sample_U = uniform.rvs(0, 1, size=n)\n",
    "\n",
    "    # Map sample through F^{-1} to get logistic sample\n",
    "    sample = [np.log(u/(1-u)) for u in sample_U]\n",
    "    \n",
    "    # Plot bounds\n",
    "    x1, x2 = -10, 10\n",
    "\n",
    "    # Plot histogram of sample\n",
    "    plt.hist(sample, bins=50, range=(x1, x2), density=True, label='sample')\n",
    "\n",
    "    # Plot exponential distribution with scale=1/lam\n",
    "    x = np.linspace(x1, x2, 100)\n",
    "    y = logistic.pdf(x)\n",
    "    plt.plot(x, y, label='pdf')\n",
    "\n",
    "    # Plot\n",
    "    plt.title(f'Sample from logistic distribution')\n",
    "    plt.legend()\n",
    "    plt.show()\n",
    "\n",
    "    sample_mean = np.mean(sample)\n",
    "    sample_variance = np.var(sample)\n",
    "\n",
    "    print(f'mu  ~ {sample_mean}')\n",
    "    print(f'var ~ {sample_variance}')\n",
    "\n",
    "p9()"
   ]
  },
  {
   "cell_type": "markdown",
   "metadata": {},
   "source": [
    "# Question 7.10\n",
    "\n",
    "Code up a method for estimating the volume oof the unit ball in $d$-dimensional space using rejection sampling. Compute estimates for these values for $d\\in \\{1,\\dots,10\\}$ using enough samples to get a standard error less than $10^{-2}$."
   ]
  },
  {
   "cell_type": "code",
   "execution_count": 112,
   "metadata": {},
   "outputs": [
    {
     "name": "stdout",
     "output_type": "stream",
     "text": [
      "My computer takes too long to compute larger samples in order to minimize the SE.\n",
      "d =  1 | n = 10**5  | Area = 2.0      | SE ~ 0.006324586943350532\n",
      "d =  2 | n = 10**6  | Area = 3.14164  | SE ~ 0.00956691521038609\n",
      "d =  3 | n = 10**6  | Area = 4.19023  | SE ~ 0.029602514328438793\n",
      "d =  4 | n = 10**6  | Area = 4.93203  | SE ~ 0.0743485340886364\n",
      "d =  5 | n = 10**6  | Area = 5.24957  | SE ~ 0.16316757771994106\n",
      "d =  6 | n = 10**6  | Area = 5.16563  | SE ~ 0.32590158387481255\n",
      "d =  7 | n = 10**6  | Area = 4.71936  | SE ~ 0.5998441804138737\n",
      "d =  8 | n = 10**6  | Area = 4.03072  | SE ~ 1.028328052885978\n",
      "d =  9 | n = 10**6  | Area = 3.2553   | SE ~ 1.6639548067511223\n",
      "d = 10 | n = 10**6  | Area = 2.50368  | SE ~ 2.5617651373109016\n"
     ]
    }
   ],
   "source": [
    "def p10():\n",
    "    \"\"\"Complete problem 10\"\"\"\n",
    "\n",
    "    # Sample size 10**p for each d\n",
    "    P = (5, 6, 6, 6, 6, 6, 6, 6, 6, 6)\n",
    "\n",
    "    def k(x):\n",
    "        \"\"\"Return 1 if vector x is inside unit sphere, 0 otherwise\"\"\"\n",
    "        return 1 if np.linalg.norm(x) <= 1 else 0\n",
    "\n",
    "    for d, p in zip(range(1, 11), P):\n",
    "        # Sample size\n",
    "        n = 10**p\n",
    "\n",
    "        # Sample n times from Uniform(0, 1) x ... x Uniform(0, 1) in R^d\n",
    "        # Each row of sample is one point in R^d\n",
    "        sample = np.transpose([uniform.rvs(-1, 1, size=n) for _ in range(d)]) \n",
    "\n",
    "        # 2**d times E[k(x)]\n",
    "        E = 2**d / n * np.sum([k(x) for x in sample])\n",
    "\n",
    "        # Compute s_hat and approximate standard error\n",
    "        s_hat = (sum([(k(x)-E)**2 for x in sample])/(n-1))**(1/2)\n",
    "        SE = 2**d * s_hat / n**(1/2)\n",
    "\n",
    "        print(f'd = {d:>2} | n = 10**{p:<2} | Area = {round(E, 5):<8} | SE ~ {SE}')\n",
    "\n",
    "print('My computer takes too long to compute larger samples in order to minimize the SE.')\n",
    "p10()"
   ]
  },
  {
   "cell_type": "markdown",
   "metadata": {},
   "source": [
    "# Question 7.11\n",
    "\n",
    "Let $P$ be a distribution on $[0,\\infty)$ with pdf equal to $f_{P} = \\frac{1}{Z}e^{-x^2-x^3}$ for sampling with proposal distribution $Q \\sim \\text{Gamma}(1,1)$ to sample from this distribution as follows:\n",
    "\n",
    "i) Find the smallest $m$ for which $e^{-x^2-x^3} \\leq me^{-x}$\n",
    "\n",
    "ii) Find the smallest $M$ (expressed in terms of $m$ and $Z$) for which $f_{P}\\leq Mf_{Q}(x)$ for all $x\\in [0, \\infty)$. Show that the quanity $\\frac{f_{P}(x)}{Mf_{Q}(x)}$ can be computed without knowing $Z$.\n",
    "\n",
    "iii) Code up a rejection sampler that draws $z$ from Gamma(1,1) (using either a sample you wrote for Exercise 7.8 or another sampler), draws $u$ from Uniform([0,1]), and reject any $z$ such that the corresponding $u$ is greater than $\\frac{f_{P}(z)}{Mf_{Q}(z)}$.\n",
    "\n",
    "iv) Use your sampling method to draw $10^5$ times from $P$, and plot a normed histogram of the results, along with a plot of the pdf $f_{P}(x)$ (this last plot will require you to approximate $Z$)."
   ]
  },
  {
   "cell_type": "code",
   "execution_count": 141,
   "metadata": {},
   "outputs": [
    {
     "data": {
      "image/png": "[encoded data removed]",
      "text/plain": [
       "<Figure size 432x288 with 1 Axes>"
      ]
     },
     "metadata": {
      "needs_background": "light"
     },
     "output_type": "display_data"
    }
   ],
   "source": [
    "def p11():\n",
    "    \"\"\"Complete problem 11\"\"\"\n",
    "\n",
    "    # Sample size 10**p\n",
    "    p = 5\n",
    "    n = 10**p\n",
    "\n",
    "    # Bound such that e^(-x^2 - x^3) <= m e^(-x)\n",
    "    m = np.exp(5/27)\n",
    "\n",
    "    # Get n samples from P\n",
    "    X = [None] * n\n",
    "    for i in range(len(X)):\n",
    "        # Sample x from Gamma(1, 1) and y from Unif(0, 1) until y <= fP(x)/(M fQ(x)) = e^(x-x^2-x^3)/m\n",
    "        while X[i] is None:\n",
    "            x = gamma.rvs(1)\n",
    "            y = uniform.rvs(0, 1)\n",
    "            if y <= np.exp(x - x**2 - x**3)/m:\n",
    "                X[i] = x\n",
    "    \n",
    "    # Bounds on plot\n",
    "    x1, x2 = 0, 2\n",
    "    \n",
    "    # Plot histogram of sample from P\n",
    "    plt.hist(X, bins=40, range=(x1, x2), density=True, label='sample')\n",
    "\n",
    "    # Z computed in Mathematica\n",
    "    Z = 0.6637105705011184\n",
    "\n",
    "    # Plot pdf of P\n",
    "    x = np.linspace(x1, x2, 1000)\n",
    "    y = np.exp(-x**2 - x**3)/Z\n",
    "    plt.plot(x, y, label='pdf')\n",
    "\n",
    "    # Plot\n",
    "    plt.title('Sample from P')\n",
    "    plt.legend()\n",
    "    plt.show()\n",
    "\n",
    "p11()"
   ]
  }
 ],
 "metadata": {
  "kernelspec": {
   "display_name": "Python 3.9.12 ('base')",
   "language": "python",
   "name": "python3"
  },
  "language_info": {
   "codemirror_mode": {
    "name": "ipython",
    "version": 3
   },
   "file_extension": ".py",
   "mimetype": "text/x-python",
   "name": "python",
   "nbconvert_exporter": "python",
   "pygments_lexer": "ipython3",
   "version": "3.9.12"
  },
  "orig_nbformat": 4,
  "vscode": {
   "interpreter": {
    "hash": "ad2bdc8ecc057115af97d19610ffacc2b4e99fae6737bb82f5d7fb13d2f2c186"
   }
  }
 },
 "nbformat": 4,
 "nbformat_minor": 2
}

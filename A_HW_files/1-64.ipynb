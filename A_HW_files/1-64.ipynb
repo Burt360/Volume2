{
 "cells": [
  {
   "cell_type": "code",
   "execution_count": 1,
   "metadata": {},
   "outputs": [],
   "source": [
    "def max_unimodal(seq, start=0, end=-1):\n",
    "    \"\"\"Returns the maximal element in unimodal seq (list).\"\"\"\n",
    "\n",
    "    if end == -1:\n",
    "        end = len(seq)-1\n",
    "    \n",
    "    mid = (start + end)//2  # Rounds down, so a sublist of just the first two elements\n",
    "                            # of the original list may not have an element to the left of mid.\n",
    "    \n",
    "    print(seq[start:end+1])\n",
    "\n",
    "    #print('mid:', mid)\n",
    "    \"\"\"print('seq[mid]:', seq[mid])\n",
    "    print('seq[mid-1]:', seq[mid-1])\n",
    "    print('seq[mid+1]:', seq[mid+1])\"\"\"\n",
    "\n",
    "    # If the sublist has one element, then that's the maximal element.\n",
    "    if start == end:\n",
    "        return seq[mid]\n",
    "    \n",
    "    # If the element to the right of mid is greater, search the right half.\n",
    "    elif seq[mid] < seq[mid + 1]:\n",
    "        return max_unimodal(seq, mid+1, end)\n",
    "\n",
    "    # If mid is 0 (and the element to the right of mid is not greater),\n",
    "    # then the element at mid is the greatest.\n",
    "    # (This prevents mid-1 from being -1 which results in comparing with the last element in the list.)\n",
    "    elif mid == 0:\n",
    "        return seq[mid]\n",
    "\n",
    "    # If the element to the left of mid is greater, search the left half.\n",
    "    elif seq[mid-1] > seq[mid]:\n",
    "        return max_unimodal(seq, start, mid-1)\n",
    "\n",
    "    # Otherwise, the element at mid is the greatest.\n",
    "    else:\n",
    "        return seq[mid]\n",
    "\n",
    "def test_max_unimodal(test):\n",
    "    print(max_unimodal(test))"
   ]
  },
  {
   "cell_type": "code",
   "execution_count": 2,
   "metadata": {},
   "outputs": [
    {
     "name": "stdout",
     "output_type": "stream",
     "text": [
      "[0, 1, 2, 3, 4]\n",
      "[3, 4]\n",
      "[4]\n",
      "4\n",
      "[4, 3, 2, 1, 0]\n",
      "[4, 3]\n",
      "4\n",
      "[0, 1, 2, 3, 4, 3, 2, 1, 0]\n",
      "4\n",
      "[-1, 4, 6, 7, 100, 99, 0]\n",
      "[100, 99, 0]\n",
      "[100]\n",
      "100\n"
     ]
    }
   ],
   "source": [
    "tests = [\n",
    "    [0, 1, 2, 3, 4],\n",
    "    [4, 3, 2, 1, 0],\n",
    "    [0, 1, 2, 3, 4, 3, 2, 1, 0],\n",
    "    [-1, 4, 6, 7, 100, 99, 0]\n",
    "    ]\n",
    "for test in tests:\n",
    "    test_max_unimodal(test)"
   ]
  },
  {
   "cell_type": "code",
   "execution_count": null,
   "metadata": {},
   "outputs": [],
   "source": []
  }
 ],
 "metadata": {
  "kernelspec": {
   "display_name": "Python 3.9.12 ('base')",
   "language": "python",
   "name": "python3"
  },
  "language_info": {
   "codemirror_mode": {
    "name": "ipython",
    "version": 3
   },
   "file_extension": ".py",
   "mimetype": "text/x-python",
   "name": "python",
   "nbconvert_exporter": "python",
   "pygments_lexer": "ipython3",
   "version": "3.9.12"
  },
  "orig_nbformat": 4,
  "vscode": {
   "interpreter": {
    "hash": "ad2bdc8ecc057115af97d19610ffacc2b4e99fae6737bb82f5d7fb13d2f2c186"
   }
  }
 },
 "nbformat": 4,
 "nbformat_minor": 2
}

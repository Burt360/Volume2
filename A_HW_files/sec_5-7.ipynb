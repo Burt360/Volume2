{
 "cells": [
  {
   "cell_type": "code",
   "execution_count": 19,
   "metadata": {},
   "outputs": [],
   "source": [
    "from math import factorial as f\n",
    "\n",
    "# Probability of X_i\n",
    "p1, p2, p3, p4 = 1/10, 2/10, 3/10, 4/10\n",
    "# Expected value of X_i\n",
    "e1, e2, e3, e4 = 2, 4, 6, 8"
   ]
  },
  {
   "cell_type": "code",
   "execution_count": 34,
   "metadata": {},
   "outputs": [],
   "source": [
    "def ep(i, j):\n",
    "    \"\"\"Expectation of product X_i X_j\"\"\"\n",
    "\n",
    "    # Expected value of X_i\n",
    "    e = (2, 4, 6, 8)\n",
    "\n",
    "    s = 0\n",
    "    for x1 in range(0, 21):\n",
    "        for x2 in range(0, 21-x1):\n",
    "            for x3 in range(0, 21-x1-x2):\n",
    "                x4 = 20-x1-x2-x3\n",
    "                x = (x1, x2, x3, x4)\n",
    "                s += x[i-1] * x[j-1] * f(20)/(f(x1)*f(x2)*f(x3)*f(x4)) * p1**x1 * p2**x2 * p3**x3 * p4**x4\n",
    "    return s - e[i-1]*e[j-1]"
   ]
  },
  {
   "cell_type": "code",
   "execution_count": 36,
   "metadata": {},
   "outputs": [
    {
     "name": "stdout",
     "output_type": "stream",
     "text": [
      "-0.4000000000000066\n",
      "-0.5999999999999783\n",
      "-0.8000000000000114\n",
      "-1.1999999999999567\n",
      "-1.6000000000000227\n",
      "-2.3999999999999133\n"
     ]
    }
   ],
   "source": [
    "print(ep(1,2), ep(1,3), ep(1,4), ep(2,3), ep(2,4), ep(3,4), sep='\\n')"
   ]
  },
  {
   "cell_type": "code",
   "execution_count": null,
   "metadata": {},
   "outputs": [],
   "source": []
  }
 ],
 "metadata": {
  "kernelspec": {
   "display_name": "Python 3.9.12 ('base')",
   "language": "python",
   "name": "python3"
  },
  "language_info": {
   "codemirror_mode": {
    "name": "ipython",
    "version": 3
   },
   "file_extension": ".py",
   "mimetype": "text/x-python",
   "name": "python",
   "nbconvert_exporter": "python",
   "pygments_lexer": "ipython3",
   "version": "3.9.12"
  },
  "orig_nbformat": 4,
  "vscode": {
   "interpreter": {
    "hash": "ad2bdc8ecc057115af97d19610ffacc2b4e99fae6737bb82f5d7fb13d2f2c186"
   }
  }
 },
 "nbformat": 4,
 "nbformat_minor": 2
}

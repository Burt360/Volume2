{
 "cells": [
  {
   "cell_type": "code",
   "execution_count": 1,
   "metadata": {},
   "outputs": [],
   "source": [
    "import numpy as np"
   ]
  },
  {
   "cell_type": "code",
   "execution_count": 3,
   "metadata": {},
   "outputs": [
    {
     "data": {
      "text/plain": [
       "array([[0, 0, 0, 3, 0, 1],\n",
       "       [2, 0, 0, 0, 1, 1],\n",
       "       [4, 1, 1, 0, 2, 2],\n",
       "       [0, 3, 3, 1, 0, 0],\n",
       "       [2, 0, 0, 0, 1, 1],\n",
       "       [0, 0, 0, 3, 0, 1]])"
      ]
     },
     "execution_count": 3,
     "metadata": {},
     "output_type": "execute_result"
    }
   ],
   "source": [
    "A = np.array([\n",
    "[0,0,0,1,0,0],\n",
    "[1,0,0,0,0,0],\n",
    "[1,0,0,0,1,1],\n",
    "[0,1,1,0,0,0],\n",
    "[0,0,0,0,0,1],\n",
    "[0,0,0,1,0,0]])\n",
    "\n",
    "A@A@A@A"
   ]
  },
  {
   "cell_type": "code",
   "execution_count": 8,
   "metadata": {},
   "outputs": [
    {
     "data": {
      "text/plain": [
       "array([[2, 5, 6, 3, 3],\n",
       "       [5, 4, 7, 7, 3],\n",
       "       [6, 7, 6, 7, 6],\n",
       "       [3, 7, 7, 4, 5],\n",
       "       [3, 3, 6, 5, 2]])"
      ]
     },
     "execution_count": 8,
     "metadata": {},
     "output_type": "execute_result"
    }
   ],
   "source": [
    "B = np.array([\n",
    "    [0,1,1,0,0],\n",
    "    [1,0,1,1,0],\n",
    "    [1,1,0,1,1],\n",
    "    [0,1,1,0,1],\n",
    "    [0,0,1,1,0]])\n",
    "B@B@B"
   ]
  }
 ],
 "metadata": {
  "kernelspec": {
   "display_name": "Python 3.9.12 ('base')",
   "language": "python",
   "name": "python3"
  },
  "language_info": {
   "codemirror_mode": {
    "name": "ipython",
    "version": 3
   },
   "file_extension": ".py",
   "mimetype": "text/x-python",
   "name": "python",
   "nbconvert_exporter": "python",
   "pygments_lexer": "ipython3",
   "version": "3.9.12"
  },
  "orig_nbformat": 4,
  "vscode": {
   "interpreter": {
    "hash": "ad2bdc8ecc057115af97d19610ffacc2b4e99fae6737bb82f5d7fb13d2f2c186"
   }
  }
 },
 "nbformat": 4,
 "nbformat_minor": 2
}

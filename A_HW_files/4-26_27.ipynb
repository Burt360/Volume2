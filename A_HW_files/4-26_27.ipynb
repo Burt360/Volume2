{
 "cells": [
  {
   "cell_type": "code",
   "execution_count": 2,
   "metadata": {},
   "outputs": [],
   "source": [
    "import itertools"
   ]
  },
  {
   "cell_type": "code",
   "execution_count": 3,
   "metadata": {},
   "outputs": [],
   "source": [
    "### Exhaustive algorithm (generates all combinations of items)\n",
    "def eknapsack(W, Items):\n",
    "    \"\"\"Return the max value for the {0, 1}-knapsack problem.\n",
    "    Generate all combinations of items (yes/no) and find the maximum valid solution.\n",
    "    \n",
    "    Parameters:\n",
    "        W (int): max weight\n",
    "        Items (list): tuples representing items (weight [float], value [float])\n",
    "    \n",
    "    Return:\n",
    "        v (float): max value achieved\n",
    "        path (list): list of ints representing how many of each item in Items (in order)\n",
    "    \"\"\"\n",
    "\n",
    "    combos = [list(itertools.combinations(Items, i)) for i in range(len(Items) + 1)]\n",
    "    combos = [group for groups in combos for group in groups]\n",
    "\n",
    "    max_combo = tuple()\n",
    "    for combo in combos:\n",
    "        weight = sum(item[0] for item in combo)\n",
    "        if weight > W:\n",
    "            continue\n",
    "    \n",
    "        max_value = sum(item[1] for item in max_combo)\n",
    "        value = sum(item[1] for item in combo)\n",
    "        if value > max_value:\n",
    "            max_combo = combo\n",
    "\n",
    "    return sum(item[1] for item in max_combo), [1 if item in max_combo else 0 for item in Items]"
   ]
  },
  {
   "cell_type": "code",
   "execution_count": 10,
   "metadata": {},
   "outputs": [
    {
     "data": {
      "text/plain": [
       "(11, [1, 0, 1, 1, 1, 1])"
      ]
     },
     "execution_count": 10,
     "metadata": {},
     "output_type": "execute_result"
    }
   ],
   "source": [
    "### 4.26\n",
    "def knapsack(W, Items, solns={0 : (0, None)}):\n",
    "    \"\"\"Return the max value for the {0, 1}-knapsack problem.\n",
    "    \n",
    "    Parameters:\n",
    "        W (int): max weight\n",
    "        Items (list): tuples representing items (weight [float], value [float])\n",
    "        vals (dict): {weight : (value, list of ints representing how many of each item in Items (in order))}\n",
    "    \n",
    "    Return:\n",
    "        v (float): max value achieved\n",
    "        path (list): list of ints representing how many of each item in Items (in order)\n",
    "    \"\"\"\n",
    "    if solns[0][1] is None:\n",
    "        solns={0 : (0, [0] * len(Items))}\n",
    "    \n",
    "    # (item index, weight, value) for each item that doesn't go over the weight limit\n",
    "    valid_items = [(i, item[0], item[1]) for i, item in enumerate(Items) if item[0] <= W]\n",
    "    \n",
    "    # List of possible solns to check which is best later\n",
    "    possible_solns = list()\n",
    "\n",
    "    # Check the best value that can be achieved using each item\n",
    "    for item in valid_items:\n",
    "        item_index = item[0]\n",
    "        w_to_add = item[1]\n",
    "        w_remaining = W - w_to_add\n",
    "\n",
    "        # If the soln has been computed for the remaining weight:\n",
    "        if w_remaining in solns:\n",
    "            current_soln = solns[w_remaining]\n",
    "            new_path = current_soln[1].copy()\n",
    "\n",
    "            # If this soln doesn't already have 1 of the given item:\n",
    "            if current_soln[1][item_index] == 0:\n",
    "                # Store the solution with this item added\n",
    "                new_path[item_index] = 1\n",
    "                possible_solns.append((item[2] + current_soln[0], new_path))\n",
    "            \n",
    "            else:\n",
    "                # Otherwise store the soln without this item added\n",
    "                possible_solns.append((current_soln[0], new_path))\n",
    "        \n",
    "        # If the soln hasn't been computed for the remaining weight:\n",
    "        else:\n",
    "            # Compute the soln\n",
    "            value, path = knapsack(w_remaining, Items, solns)\n",
    "            new_path = path.copy()\n",
    "\n",
    "            # If this soln doesn't already have 1 of the given item:\n",
    "            if path[item_index] == 0 :\n",
    "                # Store the solution with this item added\n",
    "                new_path[item_index] = 1\n",
    "                possible_solns.append((item[2] + value, new_path))\n",
    "            else:\n",
    "                # Otherwise store the soln without this item added\n",
    "                possible_solns.append((value, new_path))\n",
    "    \n",
    "    # Save the best soln\n",
    "    best_soln = solns[0]\n",
    "    for possible_soln in possible_solns:\n",
    "        if possible_soln[0] > best_soln[0]:\n",
    "            best_soln = possible_soln\n",
    "    solns[W] = best_soln\n",
    "\n",
    "    return best_soln\n",
    "\n",
    "W = 100\n",
    "Items = [(50,5), (40,3), (20,2), (10,2), (7,1), (3,1)]\n",
    "knapsack(W, Items)\n"
   ]
  },
  {
   "cell_type": "code",
   "execution_count": 138,
   "metadata": {},
   "outputs": [
    {
     "data": {
      "text/plain": [
       "(11, [1, 0, 1, 1, 1, 1])"
      ]
     },
     "execution_count": 138,
     "metadata": {},
     "output_type": "execute_result"
    }
   ],
   "source": [
    "W = 100\n",
    "Items = [(50,5), (40,3), (20,2), (10,2), (7,1), (3,1)]\n",
    "eknapsack(W, Items)"
   ]
  },
  {
   "cell_type": "code",
   "execution_count": 203,
   "metadata": {},
   "outputs": [
    {
     "name": "stdout",
     "output_type": "stream",
     "text": [
      "(15, [1, 1, 0, 1, 1, 1, 1])\n",
      "(15, [1, 1, 0, 1, 1, 1, 1])\n"
     ]
    }
   ],
   "source": [
    "W = 200\n",
    "Items = [(100,4), (50,5), (40,3), (20,2), (10,2), (7,1), (3,1)]\n",
    "print(knapsack(W, Items))\n",
    "print(eknapsack(W, Items))"
   ]
  }
 ],
 "metadata": {
  "kernelspec": {
   "display_name": "Python 3.9.12 ('base')",
   "language": "python",
   "name": "python3"
  },
  "language_info": {
   "codemirror_mode": {
    "name": "ipython",
    "version": 3
   },
   "file_extension": ".py",
   "mimetype": "text/x-python",
   "name": "python",
   "nbconvert_exporter": "python",
   "pygments_lexer": "ipython3",
   "version": "3.9.12"
  },
  "orig_nbformat": 4,
  "vscode": {
   "interpreter": {
    "hash": "ad2bdc8ecc057115af97d19610ffacc2b4e99fae6737bb82f5d7fb13d2f2c186"
   }
  }
 },
 "nbformat": 4,
 "nbformat_minor": 2
}

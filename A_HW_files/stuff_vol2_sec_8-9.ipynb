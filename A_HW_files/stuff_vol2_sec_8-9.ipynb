{
 "cells": [
  {
   "cell_type": "code",
   "execution_count": 1,
   "metadata": {},
   "outputs": [],
   "source": [
    "import numpy as np"
   ]
  },
  {
   "cell_type": "code",
   "execution_count": 25,
   "metadata": {},
   "outputs": [],
   "source": [
    "def FWT(a, j=0):\n",
    "    '''Haar FWT of parameter a down to level j.'''\n",
    "\n",
    "    m = int(np.log2(len(a)))\n",
    "\n",
    "    # Ensure length of a is a power of 2\n",
    "    if m != np.log2(len(a)):\n",
    "        raise ValueError('length of a is not a power of 2')\n",
    "    \n",
    "    # List of partial transforms\n",
    "    L = list()\n",
    "\n",
    "    while m > j:\n",
    "        L.append(0.5 * (a[::2] - a[1::2]))\n",
    "        a = 0.5 * (a[::2] + a[1::2])\n",
    "        m -= 1\n",
    "    \n",
    "    return np.concatenate([a, np.concatenate(L[::-1])])"
   ]
  },
  {
   "cell_type": "code",
   "execution_count": 26,
   "metadata": {},
   "outputs": [
    {
     "data": {
      "text/plain": [
       "array([ 1.,  2.,  0.,  2., -1.,  0.,  0.,  0.])"
      ]
     },
     "execution_count": 26,
     "metadata": {},
     "output_type": "execute_result"
    }
   ],
   "source": [
    "FWT(np.array([2, 0.8, 3.1, -2]), 0)\n",
    "FWT(np.array([-2,4,2,-3]), 0)\n",
    "FWT(np.array([2,4,3,3,1,1,-3,-3]))"
   ]
  },
  {
   "cell_type": "code",
   "execution_count": null,
   "metadata": {},
   "outputs": [],
   "source": []
  }
 ],
 "metadata": {
  "kernelspec": {
   "display_name": "base",
   "language": "python",
   "name": "python3"
  },
  "language_info": {
   "codemirror_mode": {
    "name": "ipython",
    "version": 3
   },
   "file_extension": ".py",
   "mimetype": "text/x-python",
   "name": "python",
   "nbconvert_exporter": "python",
   "pygments_lexer": "ipython3",
   "version": "3.9.12 (main, Apr  4 2022, 05:22:27) [MSC v.1916 64 bit (AMD64)]"
  },
  "orig_nbformat": 4,
  "vscode": {
   "interpreter": {
    "hash": "ad2bdc8ecc057115af97d19610ffacc2b4e99fae6737bb82f5d7fb13d2f2c186"
   }
  }
 },
 "nbformat": 4,
 "nbformat_minor": 2
}

{
 "cells": [
  {
   "cell_type": "code",
   "execution_count": 16,
   "metadata": {},
   "outputs": [],
   "source": [
    "# oneD_optimization.py\n",
    "\"\"\"Volume 2: One-Dimensional Optimization.\n",
    "Nathan Schill\n",
    "Section 2\n",
    "Thurs. Feb. 9, 2023\n",
    "\"\"\"\n",
    "\n",
    "import numpy as np\n",
    "import matplotlib.pyplot as plt\n",
    "from scipy import optimize as opt"
   ]
  },
  {
   "cell_type": "code",
   "execution_count": 17,
   "metadata": {},
   "outputs": [
    {
     "data": {
      "image/png": "[encoded data removed]",
      "text/plain": [
       "<Figure size 432x288 with 1 Axes>"
      ]
     },
     "metadata": {
      "needs_background": "light"
     },
     "output_type": "display_data"
    },
    {
     "data": {
      "text/plain": [
       "((1.386290222451367, True, 24), 1.3862943731605457)"
      ]
     },
     "execution_count": 17,
     "metadata": {},
     "output_type": "execute_result"
    }
   ],
   "source": [
    "# Problem 1\n",
    "def golden_section(f, a, b, tol=1e-5, maxiter=100):\n",
    "    \"\"\"Use the golden section search to minimize the unimodal function f.\n",
    "\n",
    "    Parameters:\n",
    "        f (function): A unimodal, scalar-valued function on [a,b].\n",
    "        a (float): Left bound of the domain.\n",
    "        b (float): Right bound of the domain.\n",
    "        tol (float): The stopping tolerance.\n",
    "        maxiter (int): The maximum number of iterations to compute.\n",
    "\n",
    "    Returns:\n",
    "        (float): The approximate minimizer of f.\n",
    "        (bool): Whether or not the algorithm converged.\n",
    "        (int): The number of iterations computed.\n",
    "    \"\"\"\n",
    "\n",
    "    ### Algorithm 16.1 as given in the lab PDF\n",
    "    x0 = (a+b)/2\n",
    "    phi = (1+5**(1/2))/2\n",
    "\n",
    "    converged = False\n",
    "\n",
    "    for i in range(maxiter):\n",
    "        c = (b-a)/phi\n",
    "        at = b-c\n",
    "        bt = a+c\n",
    "\n",
    "        if f(at) <= f(bt):\n",
    "            b = bt\n",
    "        else:\n",
    "            a = at\n",
    "        \n",
    "        x1 = (a+b)/2\n",
    "        if abs(x0 - x1) < tol:\n",
    "            converged = True\n",
    "            break\n",
    "        x0 = x1\n",
    "    \n",
    "    return x1, converged, i+1\n",
    "\n",
    "f = lambda t: np.exp(t) - 4*t\n",
    "a, b = 0, 3\n",
    "\n",
    "minimizer = golden_section(f, a, b)\n",
    "sp_minimizer = opt.golden(f, brack=(a, b))\n",
    "\n",
    "x = np.linspace(0, 3, 100)\n",
    "plt.plot(x, f(x))\n",
    "plt.scatter(minimizer[0], f(minimizer[0]))\n",
    "plt.show()\n",
    "minimizer, sp_minimizer"
   ]
  },
  {
   "cell_type": "code",
   "execution_count": 19,
   "metadata": {},
   "outputs": [
    {
     "data": {
      "text/plain": [
       "((-1.4473142236328096, True, 48), -1.4473142236328096)"
      ]
     },
     "execution_count": 19,
     "metadata": {},
     "output_type": "execute_result"
    }
   ],
   "source": [
    "# Problem 2\n",
    "def newton1d(df, d2f, x0, tol=1e-5, maxiter=100):\n",
    "    \"\"\"Use Newton's method to minimize a function f:R->R.\n",
    "\n",
    "    Parameters:\n",
    "        df (function): The first derivative of f.\n",
    "        d2f (function): The second derivative of f.\n",
    "        x0 (float): An initial guess for the minimizer of f.\n",
    "        tol (float): The stopping tolerance.\n",
    "        maxiter (int): The maximum number of iterations to compute.\n",
    "\n",
    "    Returns:\n",
    "        (float): The approximate minimizer of f.\n",
    "        (bool): Whether or not the algorithm converged.\n",
    "        (int): The number of iterations computed.\n",
    "    \"\"\"\n",
    "\n",
    "    # Assume failure to converge unless tolerance is reached\n",
    "    converged = False\n",
    "\n",
    "    # Iterate at most N times\n",
    "    for k in range(maxiter):\n",
    "        \n",
    "        # Compute the next iteration\n",
    "        x1 = x0 - df(x0)/d2f(x0)\n",
    "        \n",
    "        # Check for convergence\n",
    "        if np.abs(x1 - x0) < tol:\n",
    "            # Upon convergence, stop iterating\n",
    "            converged = True\n",
    "            break\n",
    "\n",
    "        # Otherwise, update the guess for the next iteration\n",
    "        x0 = x1\n",
    "    \n",
    "    return x1, converged, k+1\n",
    "\n",
    "f = lambda x: x**2 + np.sin(5*x)\n",
    "df = lambda x : 2*x + 5*np.cos(5*x)\n",
    "d2f = lambda x : 2 - 25*np.sin(5*x)\n",
    "x0 = 0\n",
    "\n",
    "newton1d(df, d2f, x0), opt.newton(df, x0=0, fprime=d2f, tol=1e-10, maxiter=500)"
   ]
  },
  {
   "cell_type": "code",
   "execution_count": 36,
   "metadata": {},
   "outputs": [
    {
     "data": {
      "image/png": "[encoded data removed]",
      "text/plain": [
       "<Figure size 432x288 with 1 Axes>"
      ]
     },
     "metadata": {
      "needs_background": "light"
     },
     "output_type": "display_data"
    },
    {
     "data": {
      "text/plain": [
       "((-0.16367721846481662, True, 8), 0.45308663951300454)"
      ]
     },
     "execution_count": 36,
     "metadata": {},
     "output_type": "execute_result"
    }
   ],
   "source": [
    "# Problem 3\n",
    "def secant1d(df, x0, x1, tol=1e-5, maxiter=100):\n",
    "    \"\"\"Use the secant method to minimize a function f:R->R.\n",
    "\n",
    "    Parameters:\n",
    "        df (function): The first derivative of f.\n",
    "        x0 (float): An initial guess for the minimizer of f.\n",
    "        x1 (float): Another guess for the minimizer of f.\n",
    "        tol (float): The stopping tolerance.\n",
    "        maxiter (int): The maximum number of iterations to compute.\n",
    "\n",
    "    Returns:\n",
    "        (float): The approximate minimizer of f.\n",
    "        (bool): Whether or not the algorithm converged.\n",
    "        (int): The number of iterations computed.\n",
    "    \"\"\"\n",
    "    \n",
    "    # Assume failure to converge unless tolerance is reached\n",
    "    converged = False\n",
    "\n",
    "    # Compute first instances of df(x_{k-1}), df(x_k)\n",
    "    dfx0 = df(x0)\n",
    "    dfx1 = df(x1)\n",
    "\n",
    "    # Iterate at most N times\n",
    "    for k in range(maxiter):     \n",
    "        # Compute the next iteration\n",
    "        x2 = (x0*dfx1 - x1*dfx0) / (dfx1 - dfx0)\n",
    "        \n",
    "        # Check for convergence\n",
    "        if np.abs(x2 - x1) < tol:\n",
    "            # Upon convergence, stop iterating\n",
    "            converged = True\n",
    "            break\n",
    "\n",
    "        # Otherwise, update the xk and df(xk) for the next iteration\n",
    "        x0 = x1\n",
    "        x1 = x2\n",
    "        dfx0 = dfx1\n",
    "        dfx1 = df(x2)\n",
    "    \n",
    "    return x2, converged, k+1\n",
    "\n",
    "f = lambda x: x**2 + np.sin(x) + np.sin(10*x)\n",
    "df = lambda x: 2*x + np.cos(x) + 10*np.cos(10*x)\n",
    "x0, x1 = 0, -1\n",
    "\n",
    "minimizer = secant1d(df, x0, x1)\n",
    "newton_minimizer = opt.newton(df, x0=0, tol=1e-10, maxiter=500)\n",
    "\n",
    "x = np.linspace(-2, 1, 100)\n",
    "plt.plot(x, f(x))\n",
    "plt.scatter(minimizer[0], f(minimizer[0]))\n",
    "plt.scatter(newton_minimizer, f(newton_minimizer))\n",
    "plt.show()\n",
    "minimizer, newton_minimizer"
   ]
  },
  {
   "cell_type": "code",
   "execution_count": 45,
   "metadata": {},
   "outputs": [
    {
     "data": {
      "text/plain": [
       "0.04710128697246249"
      ]
     },
     "execution_count": 45,
     "metadata": {},
     "output_type": "execute_result"
    }
   ],
   "source": [
    "# Problem 4\n",
    "def backtracking(f, Df, x, p, alpha=1, rho=.9, c=1e-4):\n",
    "    \"\"\"Implement the backtracking line search to find a step size that\n",
    "    satisfies the Armijo condition.\n",
    "\n",
    "    Parameters:\n",
    "        f (function): A function f:R^n->R.\n",
    "        Df (function): The first derivative (gradient) of f.\n",
    "        x (float): The current approximation to the minimizer.\n",
    "        p (float): The current search direction.\n",
    "        alpha (float): A large initial step length.\n",
    "        rho (float): Parameter in (0, 1).\n",
    "        c (float): Parameter in (0, 1).\n",
    "\n",
    "    Returns:\n",
    "        alpha (float): Optimal step size.\n",
    "    \"\"\"\n",
    "    \n",
    "    ### Use Algorithm 16.2 as given in the lab PDF\n",
    "    Dfp = Df(x)@p\n",
    "    fx = f(x)\n",
    "\n",
    "    while f(x + alpha*p) > fx + c*alpha*Dfp:\n",
    "        alpha = rho*alpha\n",
    "    \n",
    "    return alpha\n",
    "\n",
    "f = lambda x: x[0]**2 + x[1]**2 + x[2]**2\n",
    "Df = lambda x: np.array([2*x[0], 2*x[1], 2*x[2]])\n",
    "\n",
    "# Current minimizer guess\n",
    "x = np.array([150., .03, 40.])\n",
    "p = np.array([-.5, -100., -4.5])\n",
    "\n",
    "backtracking(f, Df, x, p)"
   ]
  }
 ],
 "metadata": {
  "kernelspec": {
   "display_name": "base",
   "language": "python",
   "name": "python3"
  },
  "language_info": {
   "codemirror_mode": {
    "name": "ipython",
    "version": 3
   },
   "file_extension": ".py",
   "mimetype": "text/x-python",
   "name": "python",
   "nbconvert_exporter": "python",
   "pygments_lexer": "ipython3",
   "version": "3.9.12"
  },
  "orig_nbformat": 4,
  "vscode": {
   "interpreter": {
    "hash": "ad2bdc8ecc057115af97d19610ffacc2b4e99fae6737bb82f5d7fb13d2f2c186"
   }
  }
 },
 "nbformat": 4,
 "nbformat_minor": 2
}

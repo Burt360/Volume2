{
 "cells": [
  {
   "cell_type": "code",
   "execution_count": 1,
   "metadata": {},
   "outputs": [],
   "source": [
    "import numpy as np\n",
    "from numpy.linalg import inv, norm"
   ]
  },
  {
   "attachments": {},
   "cell_type": "markdown",
   "metadata": {},
   "source": [
    "# 12.30"
   ]
  },
  {
   "cell_type": "code",
   "execution_count": 17,
   "metadata": {},
   "outputs": [],
   "source": [
    "def BFGS(f, df, x0, A0, max_iter=40, tol=1e-8):\n",
    "    '''Minimize f using BFGS, given the derivative df, an\n",
    "    initial guess x0, and an initial approx A0 of D^2f(x0).\n",
    "    '''\n",
    "\n",
    "    done = False\n",
    "    iters = 0\n",
    "    A_inv = inv(A0)\n",
    "    x = x0 - A_inv @ df(x0)\n",
    "    s = x - x0\n",
    "    \n",
    "    while not done:\n",
    "        y = df(x) - df(x0)\n",
    "        sy = s@y\n",
    "        Ay = A_inv @ y\n",
    "\n",
    "        A_inv = (A_inv + ((sy + y @ Ay)/sy**2) * np.outer(s,s)\n",
    "                 - (np.outer(Ay, s) + np.outer(s,Ay))/sy)\n",
    "\n",
    "        x0 = x\n",
    "        x = x0 - A_inv @ df(x0)\n",
    "        s = x - x0\n",
    "        iters += 1\n",
    "\n",
    "        done = ((norm(s) < tol) or\n",
    "                (norm(df(x)) < tol) or\n",
    "                (np.abs(f(x) - f(x0)) < tol) or\n",
    "                (iters >= max_iter))\n",
    "    \n",
    "    return x, iters\n",
    "\n",
    "def f(xy):\n",
    "    '''xy: ndarray (2,)'''\n",
    "    x, y = xy\n",
    "    return x**3 - 3*x**2 + y**2\n",
    "\n",
    "def df(xy):\n",
    "    x, y = xy\n",
    "    return np.array([3*x**2 - 6*x, 2*y])\n",
    "\n",
    "# d2f = [[6x - 6, 0],\n",
    "#        [0,      2]]"
   ]
  },
  {
   "attachments": {},
   "cell_type": "markdown",
   "metadata": {},
   "source": [
    "## 12.30(a)"
   ]
  },
  {
   "cell_type": "code",
   "execution_count": 19,
   "metadata": {},
   "outputs": [
    {
     "name": "stdout",
     "output_type": "stream",
     "text": [
      "minimizer: (1.9999999666942383, 3.3275430212687627e-07) \n",
      "num iters: 6\n"
     ]
    }
   ],
   "source": [
    "x0 = np.array([4, 4])\n",
    "A0 = np.array([[18, 0], [0, 2]])\n",
    "\n",
    "result = BFGS(f, df, x0, A0)\n",
    "print('minimizer:', tuple(result[0]), '\\nnum iters:', result[1])"
   ]
  },
  {
   "attachments": {},
   "cell_type": "markdown",
   "metadata": {},
   "source": [
    "## 12.30(b)"
   ]
  },
  {
   "cell_type": "code",
   "execution_count": 22,
   "metadata": {},
   "outputs": [
    {
     "name": "stdout",
     "output_type": "stream",
     "text": [
      "minimizer: (1.9999997063849033, -9.366073702609691e-07) \n",
      "num iters: 14\n"
     ]
    }
   ],
   "source": [
    "x0 = np.array([4, 4])\n",
    "A0 = np.array([[1, 0], [0, 1]])\n",
    "\n",
    "result = BFGS(f, df, x0, A0)\n",
    "print('minimizer:', tuple(result[0]), '\\nnum iters:', result[1])"
   ]
  },
  {
   "attachments": {},
   "cell_type": "markdown",
   "metadata": {},
   "source": [
    "## 12.30(c)"
   ]
  },
  {
   "cell_type": "code",
   "execution_count": 24,
   "metadata": {},
   "outputs": [
    {
     "name": "stdout",
     "output_type": "stream",
     "text": [
      "minimizer: (2.000000005087349, -2.945072736340697e-09) \n",
      "num iters: 8\n"
     ]
    }
   ],
   "source": [
    "x0 = np.array([10, 10])\n",
    "A0 = np.array([[54, 0], [0, 2]])\n",
    "\n",
    "result = BFGS(f, df, x0, A0)\n",
    "print('minimizer:', tuple(result[0]), '\\nnum iters:', result[1])"
   ]
  },
  {
   "attachments": {},
   "cell_type": "markdown",
   "metadata": {},
   "source": [
    "## 12.30(d)"
   ]
  },
  {
   "cell_type": "code",
   "execution_count": 26,
   "metadata": {},
   "outputs": [
    {
     "name": "stdout",
     "output_type": "stream",
     "text": [
      "minimizer: (2.000000032260174, -7.826883487596503e-08) \n",
      "num iters: 18\n"
     ]
    }
   ],
   "source": [
    "x0 = np.array([10, 10])\n",
    "A0 = np.array([[1, 0], [0, 1]])\n",
    "\n",
    "result = BFGS(f, df, x0, A0)\n",
    "print('minimizer:', tuple(result[0]), '\\nnum iters:', result[1])"
   ]
  },
  {
   "attachments": {},
   "cell_type": "markdown",
   "metadata": {},
   "source": [
    "## 12.30(e)"
   ]
  },
  {
   "cell_type": "code",
   "execution_count": 29,
   "metadata": {},
   "outputs": [
    {
     "name": "stdout",
     "output_type": "stream",
     "text": [
      "minimizer: (nan, nan) \n",
      "num iters: 40\n"
     ]
    },
    {
     "name": "stderr",
     "output_type": "stream",
     "text": [
      "C:\\Users\\BYU Rental\\AppData\\Local\\Temp\\ipykernel_2680\\2452540233.py:17: RuntimeWarning: invalid value encountered in double_scalars\n",
      "  A_inv = (A_inv + ((sy + y @ Ay)/sy**2) * np.outer(s,s)\n",
      "C:\\Users\\BYU Rental\\AppData\\Local\\Temp\\ipykernel_2680\\2452540233.py:18: RuntimeWarning: invalid value encountered in true_divide\n",
      "  - (np.outer(Ay, s) + np.outer(s,Ay))/sy)\n"
     ]
    }
   ],
   "source": [
    "x0 = np.array([0, 0])\n",
    "A0 = np.array([[1, 0], [0, 1]])\n",
    "\n",
    "result = BFGS(f, df, x0, A0)\n",
    "print('minimizer:', tuple(result[0]), '\\nnum iters:', result[1])"
   ]
  },
  {
   "attachments": {},
   "cell_type": "markdown",
   "metadata": {},
   "source": [
    "When $x_0 = (0,0)$, $Df(x_0) = [0\\quad0]$, so whatever $A_0$ is, $x_{k+1} = x_k - A_k^{-1} [0\\quad0]^\\intercal = x_k = \\cdots = x_0 \\quad \\forall k$"
   ]
  }
 ],
 "metadata": {
  "kernelspec": {
   "display_name": "base",
   "language": "python",
   "name": "python3"
  },
  "language_info": {
   "codemirror_mode": {
    "name": "ipython",
    "version": 3
   },
   "file_extension": ".py",
   "mimetype": "text/x-python",
   "name": "python",
   "nbconvert_exporter": "python",
   "pygments_lexer": "ipython3",
   "version": "3.9.12"
  },
  "orig_nbformat": 4,
  "vscode": {
   "interpreter": {
    "hash": "ad2bdc8ecc057115af97d19610ffacc2b4e99fae6737bb82f5d7fb13d2f2c186"
   }
  }
 },
 "nbformat": 4,
 "nbformat_minor": 2
}

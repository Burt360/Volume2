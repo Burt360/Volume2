{
 "cells": [
  {
   "cell_type": "code",
   "execution_count": 15,
   "metadata": {},
   "outputs": [],
   "source": [
    "import numpy as np\n",
    "N = np.array([4, 16, 64, 256, 1024, 4096])\n",
    "trap = np.array([1.3803, 0.1074, 6.9562E-3, 4.36E-4, 2.7255E-5, 1.7034E-6])\n",
    "simp = np.array([0.3914, 0.01, 7.7541E-5, 3.3449E-7, 1.3162E-9, 5.1585E-12])"
   ]
  },
  {
   "cell_type": "code",
   "execution_count": 20,
   "metadata": {},
   "outputs": [
    {
     "name": "stdout",
     "output_type": "stream",
     "text": [
      "Approximations of a for trapezoid error using consecutive n and t\n",
      "[-1.8419579819194942, -1.9742753852281985, -1.997949686263407, -1.9998676547981897, -2.0000158801422243]\n",
      "\n",
      "Approximations of a for Simpson's error using consecutive n and t\n",
      "[-2.6452859254260397, -3.505412471938044, -3.928426225117641, -3.994720271560261, -3.997605697527937]\n"
     ]
    }
   ],
   "source": [
    "err = trap\n",
    "print('Approximations of a for trapezoid error using consecutive n and t')\n",
    "print([np.log(t1/t2) / np.log(n1/n2) for t1, t2, n1, n2 in zip(err, err[1:], N, N[1:])])\n",
    "print()\n",
    "\n",
    "err = simp\n",
    "print('Approximations of a for Simpson\\'s error using consecutive n and t')\n",
    "print([np.log(t1/t2) / np.log(n1/n2) for t1, t2, n1, n2 in zip(err, err[1:], N, N[1:])])"
   ]
  }
 ],
 "metadata": {
  "kernelspec": {
   "display_name": "base",
   "language": "python",
   "name": "python3"
  },
  "language_info": {
   "codemirror_mode": {
    "name": "ipython",
    "version": 3
   },
   "file_extension": ".py",
   "mimetype": "text/x-python",
   "name": "python",
   "nbconvert_exporter": "python",
   "pygments_lexer": "ipython3",
   "version": "3.9.12 (main, Apr  4 2022, 05:22:27) [MSC v.1916 64 bit (AMD64)]"
  },
  "orig_nbformat": 4,
  "vscode": {
   "interpreter": {
    "hash": "ad2bdc8ecc057115af97d19610ffacc2b4e99fae6737bb82f5d7fb13d2f2c186"
   }
  }
 },
 "nbformat": 4,
 "nbformat_minor": 2
}

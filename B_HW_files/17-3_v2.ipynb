{
 "cells": [
  {
   "cell_type": "code",
   "execution_count": 2,
   "metadata": {},
   "outputs": [],
   "source": [
    "import numpy as np\n",
    "\n",
    "import gittins"
   ]
  },
  {
   "attachments": {},
   "cell_type": "markdown",
   "metadata": {},
   "source": [
    "# 17.12"
   ]
  },
  {
   "cell_type": "code",
   "execution_count": 3,
   "metadata": {},
   "outputs": [
    {
     "data": {
      "text/plain": [
       "(3.7799229979569557,\n",
       " array([0.        , 0.        , 0.33333333, 0.5       , 0.4       ,\n",
       "        0.33333333, 0.28571429, 0.25      , 0.22222222, 0.2       ,\n",
       "        0.27272727, 0.33333333, 0.38461538, 0.35714286, 0.33333333,\n",
       "        0.375     , 0.41176471, 0.38888889, 0.36842105, 0.4       ,\n",
       "        0.42857143, 0.45454545, 0.43478261, 0.41666667, 0.44      ,\n",
       "        0.46153846, 0.48148148, 0.5       , 0.48275862, 0.5       ,\n",
       "        0.48387097, 0.5       , 0.48484848, 0.47058824, 0.45714286,\n",
       "        0.44444444, 0.45945946, 0.47368421, 0.48717949, 0.5       ,\n",
       "        0.51219512, 0.52380952, 0.51162791, 0.5       , 0.51111111,\n",
       "        0.52173913, 0.53191489, 0.54166667, 0.53061224, 0.54      ,\n",
       "        0.54901961, 0.53846154, 0.54716981, 0.55555556, 0.56363636,\n",
       "        0.57142857, 0.56140351, 0.55172414, 0.55932203, 0.56666667,\n",
       "        0.55737705, 0.56451613, 0.57142857, 0.578125  , 0.56923077,\n",
       "        0.57575758, 0.58208955, 0.58823529, 0.5942029 , 0.58571429,\n",
       "        0.57746479, 0.58333333, 0.57534247, 0.56756757, 0.57333333,\n",
       "        0.56578947, 0.55844156, 0.56410256, 0.55696203, 0.5625    ,\n",
       "        0.56790123, 0.56097561, 0.56626506, 0.55952381, 0.56470588,\n",
       "        0.56976744, 0.57471264, 0.56818182, 0.56179775, 0.56666667,\n",
       "        0.57142857, 0.57608696, 0.58064516, 0.58510638, 0.58947368,\n",
       "        0.58333333, 0.57731959, 0.58163265, 0.58585859, 0.58      ]))"
      ]
     },
     "execution_count": 3,
     "metadata": {},
     "output_type": "execute_result"
    }
   ],
   "source": [
    "def thompson_simulation(probabilities, payouts, T, beta):\n",
    "    \"\"\"Algorithm 17.1\"\"\"\n",
    "    # TODO: Incorporate payouts (in problem 17.16)\n",
    "\n",
    "    # Init\n",
    "    n = len(probabilities)\n",
    "    a = np.ones(n)\n",
    "    b = np.ones(n)\n",
    "    \n",
    "    X = np.random.random(T)\n",
    "    traj = np.zeros(T)\n",
    "    rewards = np.zeros(T)\n",
    "\n",
    "    for i in range(T):\n",
    "        draw = np.random.beta(a, b)\n",
    "        idx = np.argmax(draw)\n",
    "\n",
    "        if X[i] <= probabilities[idx]:\n",
    "            a[idx] += 1\n",
    "            traj[i] = traj[i-1] + 1\n",
    "            rewards[i] = payouts[idx]\n",
    "        else:\n",
    "            b[idx] += 1\n",
    "            traj[i] = traj[i-1]\n",
    "\n",
    "    # beta array\n",
    "    B = beta**np.arange(T)\n",
    "\n",
    "    return np.sum(rewards*B), traj/np.arange(1, T+1)\n",
    "\n",
    "# True probabilities; payouts\n",
    "PROBS = np.array([0.2, 0.5, 0.7])\n",
    "PAYOUTS = np.array([1,1,1])\n",
    "T = 100\n",
    "beta = 0.9\n",
    "\n",
    "thompson_simulation(PROBS, PAYOUTS, T, beta)"
   ]
  },
  {
   "cell_type": "code",
   "execution_count": 4,
   "metadata": {},
   "outputs": [
    {
     "data": {
      "text/plain": [
       "(array([5.35545677, 6.09356155]),\n",
       " array([5.32245149, 6.0573707 ]),\n",
       " array([5.49953075, 5.81331903]))"
      ]
     },
     "execution_count": 4,
     "metadata": {},
     "output_type": "execute_result"
    }
   ],
   "source": [
    "def thompson_v_gittins_sim(T=100):\n",
    "    \"\"\"Simulate three-armed bandit process with\n",
    "    all payouts equal to 1 for T iterations\n",
    "    using both Thompson sampling and Gittins index.\n",
    "\n",
    "    Return:\n",
    "        totals (ndarray): [thompson_total, gittins_total]\n",
    "    \"\"\"\n",
    "\n",
    "    # True probabilities; payouts\n",
    "    PROBS = np.array([0.2, 0.5, 0.7])\n",
    "    PAYOUTS = np.array([1,1,1])\n",
    "\n",
    "    M = 200\n",
    "    K = 19\n",
    "    beta = 0.9\n",
    "\n",
    "    thompson_total = thompson_simulation(PROBS, PAYOUTS, T, beta)[0]\n",
    "    gittins_total = gittins.simulation(PROBS, PAYOUTS, K, T, M, beta)[0]\n",
    "\n",
    "    return np.array([thompson_total, gittins_total])\n",
    "\n",
    "def thompson_v_gittins_sim_repeat(num_repeats=20, T=100):\n",
    "    \"\"\"Average 20 simulations of three-armed bandit processes for T iterations.\n",
    "\n",
    "    Return:\n",
    "        averages (ndarray): [thompson_average, gittins_average]\n",
    "    \"\"\"\n",
    "\n",
    "    return np.mean([thompson_v_gittins_sim(T) for _ in range(num_repeats)], axis=0)\n",
    "    \n",
    "thompson_v_gittins_sim_repeat(), thompson_v_gittins_sim_repeat(T=50), thompson_v_gittins_sim_repeat(T=200)"
   ]
  },
  {
   "attachments": {},
   "cell_type": "markdown",
   "metadata": {},
   "source": [
    "# 17.13"
   ]
  },
  {
   "cell_type": "code",
   "execution_count": 5,
   "metadata": {},
   "outputs": [],
   "source": [
    "def AB_testing(probabilities, payouts, m, T):\n",
    "    \"\"\"Test each of the n arms m times to estimate probabilities.\n",
    "    Then pull arm with highest probabilities for remaining T-nm pulls.\n",
    "\n",
    "    Return:\n",
    "        total reward\n",
    "    \"\"\"\n",
    "\n",
    "    n = len(probabilities)\n",
    "\n",
    "    # Pull each arm m times\n",
    "    AB_pulls = np.random.binomial(m, probabilities, n)\n",
    "\n",
    "    # TODO: incorporate payouts (so use arm with highest expected value)\n",
    "    # as well as for rewards from AB_pulls and pulls\n",
    "\n",
    "    # Choose arm for remaining T-nm pulls\n",
    "    arm_idx = np.argmax(AB_pulls)\n",
    "\n",
    "    pulls = np.random.binomial(T-n*m, probabilities[arm_idx])\n",
    "    \n",
    "    return np.sum(AB_pulls) + pulls"
   ]
  },
  {
   "cell_type": "code",
   "execution_count": 6,
   "metadata": {},
   "outputs": [
    {
     "data": {
      "text/plain": [
       "(63.0, 60)"
      ]
     },
     "execution_count": 6,
     "metadata": {},
     "output_type": "execute_result"
    }
   ],
   "source": [
    "# Compare with beta=1\n",
    "\n",
    "# True probabilities; payouts\n",
    "PROBS = np.array([0.2, 0.5, 0.7])\n",
    "PAYOUTS = np.array([1,1,1])\n",
    "m = 10\n",
    "T = 100\n",
    "beta = 1\n",
    "\n",
    "thompson_simulation(PROBS, PAYOUTS, T, beta)[0], AB_testing(PROBS, PAYOUTS, m, T)"
   ]
  },
  {
   "attachments": {},
   "cell_type": "markdown",
   "metadata": {},
   "source": [
    "# 17.14"
   ]
  },
  {
   "cell_type": "code",
   "execution_count": 7,
   "metadata": {},
   "outputs": [],
   "source": [
    "def random_testing(probabilities, payouts, m, T):\n",
    "    \"\"\"Test each of the n arms m times to estimate probabilities.\n",
    "    Then pull arm with highest probabilities for remaining T-nm pulls.\n",
    "\n",
    "    Return:\n",
    "        total reward\n",
    "    \"\"\"\n",
    "\n",
    "    n = len(probabilities)\n",
    "\n",
    "    # Count how many times to sample each arm\n",
    "    choices = np.random.choice(n, m, replace=True)\n",
    "    counts = np.unique(choices, return_counts=True)[1].astype(int)\n",
    "\n",
    "    # Pull each arm according to the counts found above\n",
    "    random_pulls = np.random.binomial(counts, probabilities, n)\n",
    "    # return random_pulls, counts, random_pulls/counts\n",
    "    \n",
    "    # TODO: incorporate payouts (so use arm with highest expected value)\n",
    "    # as well as for rewards from AB_pulls and pulls\n",
    "\n",
    "    # Choose arm for remaining T-nm pulls\n",
    "    arm_idx = np.argmax(random_pulls/counts)\n",
    "\n",
    "    pulls = np.random.binomial(T-m, probabilities[arm_idx])\n",
    "    return np.sum(random_pulls) + pulls"
   ]
  },
  {
   "cell_type": "code",
   "execution_count": 8,
   "metadata": {},
   "outputs": [
    {
     "data": {
      "text/plain": [
       "(69.0, 63, 42)"
      ]
     },
     "execution_count": 8,
     "metadata": {},
     "output_type": "execute_result"
    }
   ],
   "source": [
    "# Compare with beta=1\n",
    "\n",
    "# True probabilities; payouts\n",
    "PROBS = np.array([0.2, 0.5, 0.7])\n",
    "PAYOUTS = np.array([1,1,1])\n",
    "m = 10\n",
    "T = 100\n",
    "beta = 1\n",
    "\n",
    "thompson_simulation(PROBS, PAYOUTS, T, beta)[0], AB_testing(PROBS, PAYOUTS, m, T), random_testing(PROBS, PAYOUTS, m, T)"
   ]
  },
  {
   "attachments": {},
   "cell_type": "markdown",
   "metadata": {},
   "source": [
    "# 17.15"
   ]
  },
  {
   "cell_type": "code",
   "execution_count": 38,
   "metadata": {},
   "outputs": [],
   "source": [
    "def discounted_AB_testing(probabilities, payouts, m, T, beta):\n",
    "    \"\"\"Test each of the n arms m times to estimate probabilities.\n",
    "    Then pull arm with highest probabilities for remaining T-nm pulls.\n",
    "\n",
    "    Return:\n",
    "        total reward\n",
    "    \"\"\"\n",
    "\n",
    "    n = len(probabilities)\n",
    "\n",
    "    AB_pulls = np.zeros(n)\n",
    "    total_reward = 0\n",
    "\n",
    "    # beta array\n",
    "    B = beta**np.arange(T)\n",
    "\n",
    "    # Pull each arm m times in random order\n",
    "    pulls = np.random.choice(np.concatenate([i * np.ones(m, dtype=int) for i in range(3)]), n*m, replace=False)\n",
    "    for i, arm_prob in enumerate(probabilities):\n",
    "        # Count the sucessess\n",
    "        sequence = np.random.choice(2, m, replace=True, p=np.array([1-arm_prob, arm_prob]))\n",
    "        AB_pulls[i] = np.count_nonzero(sequence)\n",
    "\n",
    "        # Add reward, using random order of pulls to determine beta exponent\n",
    "        pull_indices = (pulls == i)\n",
    "        total_reward += np.sum(B[:m*n][pull_indices] * sequence)\n",
    "\n",
    "    # TODO: incorporate payouts (so use arm with highest expected value)\n",
    "    # as well as for rewards from AB_pulls and pulls\n",
    "\n",
    "    # Choose arm for remaining T-nm pulls\n",
    "    arm_idx = np.argmax(AB_pulls)\n",
    "\n",
    "    # Pull arm\n",
    "    arm_prob = probabilities[arm_idx]\n",
    "    sequence = np.random.choice(2, T-n*m, replace=True, p=np.array([1-arm_prob, arm_prob]))\n",
    "\n",
    "    # Add reward\n",
    "    total_reward += np.sum(B[n*m:] * sequence)\n",
    "    \n",
    "    return total_reward"
   ]
  },
  {
   "cell_type": "code",
   "execution_count": 43,
   "metadata": {},
   "outputs": [
    {
     "data": {
      "text/plain": [
       "array([5.40238521, 4.67063899])"
      ]
     },
     "execution_count": 43,
     "metadata": {},
     "output_type": "execute_result"
    }
   ],
   "source": [
    "def discounted_thompson_v_AB_sim(T=100):\n",
    "    \"\"\"Simulate three-armed bandit process with\n",
    "    all payouts equal to 1 for T iterations\n",
    "    using both Thompson sampling and AB testing.\n",
    "\n",
    "    Return:\n",
    "        totals (ndarray): [thompson_total, AB_total]\n",
    "    \"\"\"\n",
    "\n",
    "    # True probabilities; payouts\n",
    "    PROBS = np.array([0.2, 0.5, 0.7])\n",
    "    PAYOUTS = np.array([1,1,1])\n",
    "\n",
    "    beta = 0.9\n",
    "    m = 10\n",
    "\n",
    "    thompson_total = thompson_simulation(PROBS, PAYOUTS, T, beta)[0]\n",
    "    AB_total = discounted_AB_testing(PROBS, PAYOUTS, m, T, beta)\n",
    "\n",
    "    return np.array([thompson_total, AB_total])\n",
    "\n",
    "def discounted_thompson_v_AB_sim_repeat(num_repeats=20, T=100):\n",
    "    \"\"\"Average 20 simulations of three-armed bandit processes for T iterations.\n",
    "\n",
    "    Return:\n",
    "        averages (ndarray): [thompson_average, AB_average]\n",
    "    \"\"\"\n",
    "\n",
    "    return np.mean([discounted_thompson_v_AB_sim(T) for _ in range(num_repeats)], axis=0)\n",
    "\n",
    "discounted_thompson_v_AB_sim_repeat()"
   ]
  },
  {
   "attachments": {},
   "cell_type": "markdown",
   "metadata": {},
   "source": [
    "# 17.16"
   ]
  },
  {
   "cell_type": "code",
   "execution_count": 45,
   "metadata": {},
   "outputs": [
    {
     "data": {
      "text/plain": [
       "(37.64229538693381, 42.607826996686484)"
      ]
     },
     "execution_count": 45,
     "metadata": {},
     "output_type": "execute_result"
    }
   ],
   "source": [
    "def thompson(probabilities, payouts, T, beta):\n",
    "    \"\"\"Algorithm 17.1\"\"\"\n",
    "\n",
    "    # Init\n",
    "    n = len(probabilities)\n",
    "    a = np.ones(n)\n",
    "    b = np.ones(n)\n",
    "    \n",
    "    X = np.random.random(T)\n",
    "    traj = np.zeros(T)\n",
    "    rewards = np.zeros(T)\n",
    "\n",
    "    for i in range(T):\n",
    "        draw = np.random.beta(a, b)\n",
    "        idx = np.argmax(payouts*draw)\n",
    "\n",
    "        if X[i] <= probabilities[idx]:\n",
    "            a[idx] += 1\n",
    "            traj[i] = traj[i-1] + 1\n",
    "            rewards[i] = payouts[idx]\n",
    "        else:\n",
    "            b[idx] += 1\n",
    "            traj[i] = traj[i-1]\n",
    "\n",
    "    # beta array\n",
    "    B = beta**np.arange(T)\n",
    "\n",
    "    return np.sum(rewards*B), traj/np.arange(1, T+1)\n",
    "\n",
    "# True probabilities; payouts\n",
    "PROBS = np.array([0.2, 0.5, 0.7])\n",
    "PAYOUTS = np.array([1.5, 1, 0.5])\n",
    "T = 1000\n",
    "beta = 0.99\n",
    "\n",
    "thompson_simulation(PROBS, PAYOUTS, T, beta)[0], thompson(PROBS, PAYOUTS, T, beta)[0]"
   ]
  }
 ],
 "metadata": {
  "kernelspec": {
   "display_name": "base",
   "language": "python",
   "name": "python3"
  },
  "language_info": {
   "codemirror_mode": {
    "name": "ipython",
    "version": 3
   },
   "file_extension": ".py",
   "mimetype": "text/x-python",
   "name": "python",
   "nbconvert_exporter": "python",
   "pygments_lexer": "ipython3",
   "version": "3.9.12"
  },
  "orig_nbformat": 4
 },
 "nbformat": 4,
 "nbformat_minor": 2
}

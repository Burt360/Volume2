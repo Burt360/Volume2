{
 "cells": [
  {
   "cell_type": "code",
   "execution_count": 4,
   "id": "0aaf9c36",
   "metadata": {},
   "outputs": [],
   "source": [
    "import numpy as np\n",
    "import matplotlib.pyplot as plt"
   ]
  },
  {
   "cell_type": "markdown",
   "id": "97aaaa3a",
   "metadata": {},
   "source": [
    "### Problem 11.2 - verify"
   ]
  },
  {
   "cell_type": "code",
   "execution_count": 7,
   "id": "a432035c",
   "metadata": {},
   "outputs": [],
   "source": [
    "def prob11_2(b, p, num):\n",
    "    ''' PRINT YOUR RESULT AT EACH STEP \n",
    "    b - int, your base\n",
    "    p - int, precision\n",
    "    num - int, the number you're representing\n",
    "    '''\n",
    "\n",
    "    # convert num into your base (HINT - use np.base_repr)\n",
    "    # print converted number\n",
    "    print(s := np.base_repr(num, b))\n",
    "    \n",
    "    # find number of digits in converted number\n",
    "    # print num digits\n",
    "    print('num digits:', n := len(s))\n",
    "    \n",
    "    # check if within precision\n",
    "    # print True/False\n",
    "    \n",
    "    # If len is less than precision, then w/in precision\n",
    "    if n <= p:\n",
    "        print('True')\n",
    "    # Otherwise, if any nonzero digits after precision places, not w/in precision\n",
    "    elif set(s[p:]) != {'0'}:\n",
    "        print('False')\n",
    "    # Else, w/in precision\n",
    "    else:\n",
    "        print('True')\n"
   ]
  },
  {
   "cell_type": "code",
   "execution_count": 10,
   "id": "40052d7f",
   "metadata": {},
   "outputs": [
    {
     "name": "stdout",
     "output_type": "stream",
     "text": [
      "11111111111111111111111111111111111111111111111111111\n",
      "num digits: 53\n",
      "True\n"
     ]
    }
   ],
   "source": [
    "prob11_2(2,53,2**53-1)"
   ]
  },
  {
   "cell_type": "code",
   "execution_count": 50,
   "id": "33718284",
   "metadata": {},
   "outputs": [
    {
     "name": "stdout",
     "output_type": "stream",
     "text": [
      "100000000000000000000000000000000000000000000000000000\n",
      "num digits: 54\n",
      "True\n"
     ]
    }
   ],
   "source": [
    "prob11_2(2,53,2**53)"
   ]
  },
  {
   "cell_type": "code",
   "execution_count": 51,
   "id": "cac1c417",
   "metadata": {},
   "outputs": [
    {
     "name": "stdout",
     "output_type": "stream",
     "text": [
      "100000000000000000000000000000000000000000000000000010\n",
      "num digits: 54\n",
      "True\n"
     ]
    }
   ],
   "source": [
    "# PICK YOUR OWN EXAMPLE THAT IS TRUE\n",
    "prob11_2(2,53,2**53+2)"
   ]
  },
  {
   "cell_type": "code",
   "execution_count": 52,
   "id": "b334a88e",
   "metadata": {},
   "outputs": [
    {
     "name": "stdout",
     "output_type": "stream",
     "text": [
      "100000000000000000000000000000000000000000000000000001\n",
      "num digits: 54\n",
      "False\n"
     ]
    }
   ],
   "source": [
    "# PICK YOUR OWN EXAMPLE THAT IS FALSE\n",
    "prob11_2(2,53,2**53+1)"
   ]
  },
  {
   "attachments": {},
   "cell_type": "markdown",
   "id": "f0bb46ca",
   "metadata": {},
   "source": [
    "# Problem 11.3"
   ]
  },
  {
   "cell_type": "code",
   "execution_count": 73,
   "id": "08597640",
   "metadata": {},
   "outputs": [
    {
     "name": "stdout",
     "output_type": "stream",
     "text": [
      "0.0\n"
     ]
    }
   ],
   "source": [
    "# part 1\n",
    "print(2.**53 - (2.**53 + 1))"
   ]
  },
  {
   "cell_type": "code",
   "execution_count": 76,
   "id": "068d1621",
   "metadata": {},
   "outputs": [
    {
     "name": "stdout",
     "output_type": "stream",
     "text": [
      "2.4\n",
      "2.4000000000000004\n"
     ]
    }
   ],
   "source": [
    "# part 4\n",
    "x, y, z = 1./7, 1./5, 7.\n",
    "print((x+y)*z)\n",
    "print(x*z + y*z)"
   ]
  },
  {
   "cell_type": "markdown",
   "id": "57b7da97",
   "metadata": {},
   "source": [
    "### Problem 11.4 - summation"
   ]
  },
  {
   "cell_type": "code",
   "execution_count": 80,
   "id": "3aa34f92",
   "metadata": {},
   "outputs": [
    {
     "name": "stdout",
     "output_type": "stream",
     "text": [
      "16695.311365859838\n",
      "16695.311365859852\n"
     ]
    }
   ],
   "source": [
    "# sum from 1 to 10^7\n",
    "print(np.sum([1000./n for n in range(1, 10**7+1)]))"
   ]
  },
  {
   "cell_type": "code",
   "execution_count": 83,
   "id": "c4d8147e",
   "metadata": {},
   "outputs": [
    {
     "name": "stdout",
     "output_type": "stream",
     "text": [
      "16695.311365859852\n"
     ]
    }
   ],
   "source": [
    "# sum from 10^7 to 1\n",
    "print(np.sum([1000./n for n in range(10**7, 0, -1)]))"
   ]
  },
  {
   "attachments": {},
   "cell_type": "markdown",
   "id": "7c4dfc49",
   "metadata": {},
   "source": [
    "# Part 2\n",
    "\n",
    "We showed earlier that addition is not associative. Since the sums are being performed in different orders, they don't necessarily add to the same thing."
   ]
  },
  {
   "cell_type": "markdown",
   "id": "81759417",
   "metadata": {},
   "source": [
    "### Problem 11.5 - plot"
   ]
  },
  {
   "cell_type": "code",
   "execution_count": 84,
   "id": "dadf6aa1",
   "metadata": {},
   "outputs": [],
   "source": [
    "domain = np.linspace(-3*1e-15, 3*1e-15, 1000)\n",
    "\n",
    "f = lambda x: (1.-x)-1."
   ]
  },
  {
   "cell_type": "code",
   "execution_count": 90,
   "id": "fdacc277",
   "metadata": {},
   "outputs": [
    {
     "data": {
      "image/png": "[encoded data removed]",
      "text/plain": [
       "<Figure size 432x288 with 1 Axes>"
      ]
     },
     "metadata": {
      "needs_background": "light"
     },
     "output_type": "display_data"
    },
    {
     "data": {
      "image/png": "[encoded data removed]",
      "text/plain": [
       "<Figure size 432x288 with 1 Axes>"
      ]
     },
     "metadata": {
      "needs_background": "light"
     },
     "output_type": "display_data"
    }
   ],
   "source": [
    "# make sure to format your plots - labels and title\n",
    "\n",
    "plt.plot(domain, f(domain), label='$f$')\n",
    "plt.plot(domain, -domain, label='$-x$')\n",
    "plt.title('$f$ vs $-x$')\n",
    "plt.legend()\n",
    "plt.show()\n",
    "\n",
    "plt.plot(domain, f(domain)/domain)\n",
    "plt.title('ratio')\n",
    "plt.show()"
   ]
  },
  {
   "attachments": {},
   "cell_type": "markdown",
   "id": "3e5bf78b",
   "metadata": {},
   "source": [
    "The graph is jagged because of the floating point operations in f having to round to the nearest representable value.\n",
    "\n",
    "As x goes to zero, the absolute error doesn't go to zero at the same rate and so the relative error (the ratio of absolute error to x) reaches larger values."
   ]
  }
 ],
 "metadata": {
  "kernelspec": {
   "display_name": "base",
   "language": "python",
   "name": "python3"
  },
  "language_info": {
   "codemirror_mode": {
    "name": "ipython",
    "version": 3
   },
   "file_extension": ".py",
   "mimetype": "text/x-python",
   "name": "python",
   "nbconvert_exporter": "python",
   "pygments_lexer": "ipython3",
   "version": "3.9.12 (main, Apr  4 2022, 05:22:27) [MSC v.1916 64 bit (AMD64)]"
  },
  "vscode": {
   "interpreter": {
    "hash": "ad2bdc8ecc057115af97d19610ffacc2b4e99fae6737bb82f5d7fb13d2f2c186"
   }
  }
 },
 "nbformat": 4,
 "nbformat_minor": 5
}

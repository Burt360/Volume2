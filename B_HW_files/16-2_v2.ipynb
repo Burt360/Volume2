{
 "cells": [
  {
   "cell_type": "code",
   "execution_count": 93,
   "metadata": {},
   "outputs": [],
   "source": [
    "import numpy as np"
   ]
  },
  {
   "cell_type": "code",
   "execution_count": 105,
   "metadata": {},
   "outputs": [
    {
     "data": {
      "text/plain": [
       "{1: -0.6, 2: -0.6, 3: -0.6, 4: -0.6, 5: -0.6, 6: -0.6, 7: -2, 8: -0.6, 9: 0}"
      ]
     },
     "execution_count": 105,
     "metadata": {},
     "output_type": "execute_result"
    }
   ],
   "source": [
    "def V(T, u):\n",
    "    '''Compute maximum possible present value.\n",
    "    \n",
    "    Args:\n",
    "        T (int): max timestep -> t in {0, 1, ..., T}\n",
    "        u (dict {action : reward}): dictionary mapping\n",
    "            each action (the square moved to) to its reward\n",
    "    '''\n",
    "\n",
    "    # Allowable actions\n",
    "    actions = {1:(2,4), 2:(1,3,5), 3:(2,6),\n",
    "               4:(1,5,7), 5:(2,4,6,8), 6:(3,5,9),\n",
    "               7:(4,8), 8:(5,7,9), 9:()}\n",
    "\n",
    "    # Dict of returns, to be updated at each timestep\n",
    "    returns = {space : 0 for space in range(1, 9+1)}\n",
    "    current = returns.copy()\n",
    "\n",
    "    # Iterate through timesteps\n",
    "    for t in range(T+1):\n",
    "        # Update returns, one space at a time\n",
    "        for space in set(returns) - {9}:\n",
    "            current[space] = max([u[action] + returns[action] for action in actions[space]])\n",
    "        returns = current.copy()\n",
    "    \n",
    "    return returns\n",
    "\n",
    "# Init dict of reward\n",
    "u = {action : -1 for action in range(1, 9+1)}\n",
    "u[2] = 0.7\n",
    "\n",
    "T = 3\n",
    "{space : round(value, 1) for space, value in V(T, u).items()}"
   ]
  },
  {
   "cell_type": "code",
   "execution_count": 104,
   "metadata": {},
   "outputs": [
    {
     "name": "stdout",
     "output_type": "stream",
     "text": [
      "T/s\t1\t2\t3\t4\t5\t6\t7\t8\t9\n",
      "0\t0.7\t-1.0\t0.7\t-1.0\t0.7\t-1.0\t-1.0\t-1.0\t0.0\n",
      "1\t-0.3\t-0.3\t-0.3\t-0.3\t-0.3\t-0.3\t-2.0\t-0.3\t0.0\n",
      "2\t0.4\t-1.3\t0.4\t-1.3\t0.4\t-1.0\t-1.3\t-1.0\t0.0\n",
      "3\t-0.6\t-0.6\t-0.6\t-0.6\t-0.6\t-0.6\t-2.0\t-0.6\t0.0\n",
      "4\t0.1\t-1.6\t0.1\t-1.6\t0.1\t-1.0\t-1.6\t-1.0\t0.0\n",
      "5\t-0.9\t-0.9\t-0.9\t-0.9\t-0.9\t-0.9\t-2.0\t-0.9\t0.0\n",
      "6\t-0.2\t-1.9\t-0.2\t-1.9\t-0.2\t-1.0\t-1.9\t-1.0\t0.0\n",
      "7\t-1.2\t-1.2\t-1.2\t-1.2\t-1.2\t-1.0\t-2.0\t-1.0\t0.0\n",
      "8\t-0.5\t-2.2\t-0.5\t-2.2\t-0.5\t-1.0\t-2.0\t-1.0\t0.0\n",
      "9\t-1.5\t-1.5\t-1.5\t-1.5\t-1.5\t-1.0\t-2.0\t-1.0\t0.0\n",
      "10\t-0.8\t-2.5\t-0.8\t-2.5\t-0.8\t-1.0\t-2.0\t-1.0\t0.0\n",
      "11\t-1.8\t-1.8\t-1.8\t-1.8\t-1.8\t-1.0\t-2.0\t-1.0\t0.0\n",
      "12\t-1.1\t-2.8\t-1.1\t-2.8\t-1.1\t-1.0\t-2.0\t-1.0\t0.0\n",
      "13\t-2.1\t-2.1\t-2.0\t-2.1\t-2.0\t-1.0\t-2.0\t-1.0\t0.0\n",
      "14\t-1.4\t-3.0\t-1.4\t-3.0\t-1.4\t-1.0\t-2.0\t-1.0\t0.0\n",
      "15\t-2.3\t-2.4\t-2.0\t-2.4\t-2.0\t-1.0\t-2.0\t-1.0\t0.0\n",
      "16\t-1.7\t-3.0\t-1.7\t-3.0\t-1.7\t-1.0\t-2.0\t-1.0\t0.0\n",
      "17\t-2.3\t-2.7\t-2.0\t-2.7\t-2.0\t-1.0\t-2.0\t-1.0\t0.0\n",
      "18\t-2.0\t-3.0\t-2.0\t-3.0\t-2.0\t-1.0\t-2.0\t-1.0\t0.0\n",
      "19\t-2.3\t-3.0\t-2.0\t-3.0\t-2.0\t-1.0\t-2.0\t-1.0\t0.0\n",
      "20\t-2.3\t-3.0\t-2.0\t-3.0\t-2.0\t-1.0\t-2.0\t-1.0\t0.0\n",
      "True\n",
      "21\t-2.3\t-3.0\t-2.0\t-3.0\t-2.0\t-1.0\t-2.0\t-1.0\t0.0\n",
      "True\n",
      "22\t-2.3\t-3.0\t-2.0\t-3.0\t-2.0\t-1.0\t-2.0\t-1.0\t0.0\n",
      "True\n",
      "23\t-2.3\t-3.0\t-2.0\t-3.0\t-2.0\t-1.0\t-2.0\t-1.0\t0.0\n",
      "True\n",
      "24\t-2.3\t-3.0\t-2.0\t-3.0\t-2.0\t-1.0\t-2.0\t-1.0\t0.0\n",
      "True\n",
      "25\t-2.3\t-3.0\t-2.0\t-3.0\t-2.0\t-1.0\t-2.0\t-1.0\t0.0\n",
      "True\n",
      "26\t-2.3\t-3.0\t-2.0\t-3.0\t-2.0\t-1.0\t-2.0\t-1.0\t0.0\n",
      "True\n",
      "27\t-2.3\t-3.0\t-2.0\t-3.0\t-2.0\t-1.0\t-2.0\t-1.0\t0.0\n",
      "True\n",
      "28\t-2.3\t-3.0\t-2.0\t-3.0\t-2.0\t-1.0\t-2.0\t-1.0\t0.0\n",
      "True\n",
      "29\t-2.3\t-3.0\t-2.0\t-3.0\t-2.0\t-1.0\t-2.0\t-1.0\t0.0\n",
      "True\n"
     ]
    }
   ],
   "source": [
    "# Header\n",
    "print('T/s', *[i for i in range(1, 9+1)], sep='\\t')\n",
    "\n",
    "# First t to init prev\n",
    "returns = V(0, u)\n",
    "prev = np.array([round(returns[s], 1) for s in range(1, 10)])\n",
    "print(0, *prev, sep='\\t')\n",
    "\n",
    "# Iterate through t\n",
    "for t in range(1, 30):\n",
    "    # Get returns\n",
    "    returns = V(t, u)\n",
    "    curr = np.array([round(returns[s], 1) for s in range(1, 10)])\n",
    "    print(t, *curr, sep='\\t')\n",
    "\n",
    "    # Check for previous and current returns remaining unchanged\n",
    "    if all(prev == curr):\n",
    "        print(True)\n",
    "    prev = curr.copy()"
   ]
  }
 ],
 "metadata": {
  "kernelspec": {
   "display_name": "base",
   "language": "python",
   "name": "python3"
  },
  "language_info": {
   "codemirror_mode": {
    "name": "ipython",
    "version": 3
   },
   "file_extension": ".py",
   "mimetype": "text/x-python",
   "name": "python",
   "nbconvert_exporter": "python",
   "pygments_lexer": "ipython3",
   "version": "3.9.12"
  },
  "orig_nbformat": 4
 },
 "nbformat": 4,
 "nbformat_minor": 2
}

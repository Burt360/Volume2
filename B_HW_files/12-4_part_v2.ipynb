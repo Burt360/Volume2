{
 "cells": [
  {
   "cell_type": "code",
   "execution_count": 1,
   "metadata": {},
   "outputs": [],
   "source": [
    "import sympy as sy"
   ]
  },
  {
   "attachments": {},
   "cell_type": "markdown",
   "metadata": {},
   "source": [
    "# 12.19"
   ]
  },
  {
   "cell_type": "code",
   "execution_count": 35,
   "metadata": {},
   "outputs": [
    {
     "data": {
      "text/latex": [
       "$\\displaystyle \\left(1 - x\\right)^{2} + 100 \\left(- x^{2} + y\\right)^{2}$"
      ],
      "text/plain": [
       "(1 - x)**2 + 100*(-x**2 + y)**2"
      ]
     },
     "metadata": {},
     "output_type": "display_data"
    },
    {
     "data": {
      "text/latex": [
       "$\\displaystyle \\left[\\begin{matrix}- 400 x \\left(- x^{2} + y\\right) + 2 x - 2\\\\- 200 x^{2} + 200 y\\end{matrix}\\right]$"
      ],
      "text/plain": [
       "Matrix([\n",
       "[-400*x*(-x**2 + y) + 2*x - 2],\n",
       "[           -200*x**2 + 200*y]])"
      ]
     },
     "metadata": {},
     "output_type": "display_data"
    },
    {
     "data": {
      "text/latex": [
       "$\\displaystyle \\left[\\begin{matrix}1200 x^{2} - 400 y + 2 & - 400 x\\\\- 400 x & 200\\end{matrix}\\right]$"
      ],
      "text/plain": [
       "Matrix([\n",
       "[1200*x**2 - 400*y + 2, -400*x],\n",
       "[               -400*x,    200]])"
      ]
     },
     "metadata": {},
     "output_type": "display_data"
    },
    {
     "data": {
      "text/plain": [
       "(None, None, None)"
      ]
     },
     "execution_count": 35,
     "metadata": {},
     "output_type": "execute_result"
    }
   ],
   "source": [
    "# Symbols, expression for f\n",
    "x, y = sy.symbols('x y')\n",
    "expr = 100*(y-x**2)**2 + (1-x)**2\n",
    "\n",
    "# f, f', f''\n",
    "f = sy.lambdify((x,y), expr)\n",
    "fp = sy.Matrix([f(x,y).diff(x), f(x,y).diff(y)])\n",
    "fpp = fp.jacobian(([x,y]))\n",
    "\n",
    "# Verify\n",
    "display(f(x,y)), display(fp), display(fpp)"
   ]
  },
  {
   "cell_type": "code",
   "execution_count": 43,
   "metadata": {},
   "outputs": [
    {
     "data": {
      "text/plain": [
       "[0.399360767487633, 1001.60063923251]"
      ]
     },
     "execution_count": 43,
     "metadata": {},
     "output_type": "execute_result"
    }
   ],
   "source": [
    "# Verify fpp is positive definite at x0\n",
    "x0 = (-1,1)\n",
    "pt = {x:x0[0], y:x0[1]}\n",
    "\n",
    "# Get eigenvalues of f'' at x0\n",
    "[sy.N(eval) for eval in tuple(fpp.subs(pt).eigenvals().keys())]"
   ]
  },
  {
   "cell_type": "code",
   "execution_count": 45,
   "metadata": {},
   "outputs": [
    {
     "data": {
      "text/latex": [
       "$\\displaystyle \\left[\\begin{matrix}1\\\\-3\\end{matrix}\\right]$"
      ],
      "text/plain": [
       "Matrix([\n",
       "[ 1],\n",
       "[-3]])"
      ]
     },
     "metadata": {},
     "output_type": "display_data"
    },
    {
     "data": {
      "text/plain": [
       "(None, 1600, 4)"
      ]
     },
     "execution_count": 45,
     "metadata": {},
     "output_type": "execute_result"
    }
   ],
   "source": [
    "# x1, f(x1), f(x0)\n",
    "x1 = sy.Matrix(x0) - fpp.subs(pt).inv() * fp.subs(pt)\n",
    "display(x1), f(*x1), f(*x0)"
   ]
  }
 ],
 "metadata": {
  "kernelspec": {
   "display_name": "base",
   "language": "python",
   "name": "python3"
  },
  "language_info": {
   "codemirror_mode": {
    "name": "ipython",
    "version": 3
   },
   "file_extension": ".py",
   "mimetype": "text/x-python",
   "name": "python",
   "nbconvert_exporter": "python",
   "pygments_lexer": "ipython3",
   "version": "3.9.12"
  },
  "orig_nbformat": 4,
  "vscode": {
   "interpreter": {
    "hash": "ad2bdc8ecc057115af97d19610ffacc2b4e99fae6737bb82f5d7fb13d2f2c186"
   }
  }
 },
 "nbformat": 4,
 "nbformat_minor": 2
}

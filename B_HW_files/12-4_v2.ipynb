{
 "cells": [
  {
   "attachments": {},
   "cell_type": "markdown",
   "metadata": {},
   "source": [
    "# 12.4 Coding Problems\n",
    "\n",
    "Name: Nathan Schill"
   ]
  },
  {
   "cell_type": "code",
   "execution_count": 1,
   "metadata": {},
   "outputs": [],
   "source": [
    "import numpy as np\n",
    "import matplotlib\n",
    "import matplotlib.pyplot as plt\n",
    "import sympy as sy"
   ]
  },
  {
   "attachments": {},
   "cell_type": "markdown",
   "metadata": {},
   "source": [
    "## 12.19"
   ]
  },
  {
   "cell_type": "code",
   "execution_count": 2,
   "metadata": {},
   "outputs": [
    {
     "data": {
      "text/latex": [
       "$\\displaystyle \\left(1 - x\\right)^{2} + 100 \\left(- x^{2} + y\\right)^{2}$"
      ],
      "text/plain": [
       "(1 - x)**2 + 100*(-x**2 + y)**2"
      ]
     },
     "metadata": {},
     "output_type": "display_data"
    },
    {
     "data": {
      "text/latex": [
       "$\\displaystyle \\left[\\begin{matrix}- 400 x \\left(- x^{2} + y\\right) + 2 x - 2\\\\- 200 x^{2} + 200 y\\end{matrix}\\right]$"
      ],
      "text/plain": [
       "Matrix([\n",
       "[-400*x*(-x**2 + y) + 2*x - 2],\n",
       "[           -200*x**2 + 200*y]])"
      ]
     },
     "metadata": {},
     "output_type": "display_data"
    },
    {
     "data": {
      "text/latex": [
       "$\\displaystyle \\left[\\begin{matrix}1200 x^{2} - 400 y + 2 & - 400 x\\\\- 400 x & 200\\end{matrix}\\right]$"
      ],
      "text/plain": [
       "Matrix([\n",
       "[1200*x**2 - 400*y + 2, -400*x],\n",
       "[               -400*x,    200]])"
      ]
     },
     "metadata": {},
     "output_type": "display_data"
    },
    {
     "data": {
      "text/plain": [
       "(None, None, None)"
      ]
     },
     "execution_count": 2,
     "metadata": {},
     "output_type": "execute_result"
    }
   ],
   "source": [
    "# Symbols, expression for f\n",
    "x, y = sy.symbols('x y')\n",
    "expr = 100*(y-x**2)**2 + (1-x)**2\n",
    "\n",
    "# f, f', f''\n",
    "f = sy.lambdify((x,y), expr)\n",
    "fp = sy.Matrix([f(x,y).diff(x), f(x,y).diff(y)])\n",
    "fpp = fp.jacobian(([x,y]))\n",
    "\n",
    "# Verify\n",
    "display(f(x,y)), display(fp), display(fpp)"
   ]
  },
  {
   "cell_type": "code",
   "execution_count": 3,
   "metadata": {},
   "outputs": [
    {
     "data": {
      "text/plain": [
       "[0.399360767487633, 1001.60063923251]"
      ]
     },
     "execution_count": 3,
     "metadata": {},
     "output_type": "execute_result"
    }
   ],
   "source": [
    "# Verify fpp is positive definite at x0\n",
    "x0 = (-1,1)\n",
    "pt = {x:x0[0], y:x0[1]}\n",
    "\n",
    "# Get eigenvalues of f'' at x0\n",
    "[sy.N(eval) for eval in tuple(fpp.subs(pt).eigenvals().keys())]"
   ]
  },
  {
   "cell_type": "code",
   "execution_count": 4,
   "metadata": {},
   "outputs": [
    {
     "data": {
      "text/latex": [
       "$\\displaystyle \\left[\\begin{matrix}1\\\\-3\\end{matrix}\\right]$"
      ],
      "text/plain": [
       "Matrix([\n",
       "[ 1],\n",
       "[-3]])"
      ]
     },
     "metadata": {},
     "output_type": "display_data"
    },
    {
     "data": {
      "text/plain": [
       "(None, 1600, 4)"
      ]
     },
     "execution_count": 4,
     "metadata": {},
     "output_type": "execute_result"
    }
   ],
   "source": [
    "# x1, f(x1), f(x0)\n",
    "x1 = sy.Matrix(x0) - fpp.subs(pt).inv() * fp.subs(pt)\n",
    "display(x1), f(*x1), f(*x0)"
   ]
  },
  {
   "attachments": {},
   "cell_type": "markdown",
   "metadata": {},
   "source": [
    "## 12.20\n",
    "\n",
    "Write an implementation of Newton's method for finding a local minimizer of a function $f : \\R^n \\to \\R$. Your code should accept a twice-differentiable function $f$, an initial guess $x_0$, a desired level of accuracy $\\varepsilon$, and a maximum number of iterations $M$. At each step it should calculate $x_{k_1} = x_k - D^2f(x_k)^{-1}Df(x_k)^\\mathbf{\\top} $ and then repeat step until it reaches a good approximation to a critical point of $f$ or exceeds $M$ iterations. For the stopping criterion, use $\\| x_{k+1}  -  x_k \\|  < \\varepsilon$. Be sure your code has methods for identifying and handling cases where the algorithm fails or the sequence does not converge. "
   ]
  },
  {
   "cell_type": "code",
   "execution_count": 5,
   "metadata": {},
   "outputs": [],
   "source": [
    "def newton(f, df, d2f, x0, eps=1e-5, M=1000):\n",
    "    '''Return: \n",
    "    - minimizer (array)\n",
    "    - guesses (array)\n",
    "    - number of steps/iterations (int)\n",
    "    - whether it converged (bool)\n",
    "    '''\n",
    "    \n",
    "    xs = [x0] + [None]*M\n",
    "    converged = False\n",
    "    \n",
    "    for i in range(M):\n",
    "        # Get D2f(xk)^-1 Df(xk)^T by solving D2f(xk) yk = Df(xk)^T\n",
    "        y0 = np.linalg.solve(d2f(x0), df(x0))\n",
    "\n",
    "        # Get next iteration\n",
    "        x0 = x0 - y0\n",
    "\n",
    "        # Store\n",
    "        xs[i+1] = x0\n",
    "\n",
    "        # Check if converged\n",
    "        if np.linalg.norm(xs[i+1] - xs[i]) < eps:\n",
    "            converged = True\n",
    "            break\n",
    "\n",
    "    return x0, np.array([xk for xk in xs if xk is not None]), i+1, converged"
   ]
  },
  {
   "cell_type": "markdown",
   "metadata": {},
   "source": [
    "## 12.21\n",
    "\n",
    "Apply your Newton code from **Exercise 12.20** to the Rosenbrock function with an initial guess of $x_0 = (x_0 ,y_0 ) = (-2,2)$. Does it converge? If not, explain why not. If it does, how many iterations does it take to get within $10^{-5}$ of the true minimizer? "
   ]
  },
  {
   "cell_type": "code",
   "execution_count": 6,
   "metadata": {},
   "outputs": [],
   "source": [
    "# Rosenbrock\n",
    "f = lambda x : (1-x[0])**2 + 100*(x[1]-x[0]**2)**2\n",
    "df = lambda x : np.array([-2*(1-x[0]) - 400*x[0]*(x[1]-x[0]**2), 200*(x[1]-x[0]**2)])\n",
    "d2f = lambda x : np.array([[2-400*x[1] + 1200*x[0]**2, -400*x[0]],[-400*x[0], 200]])\n",
    "\n",
    "x0 = np.array([-2, 2])"
   ]
  },
  {
   "cell_type": "code",
   "execution_count": 7,
   "metadata": {},
   "outputs": [
    {
     "data": {
      "text/plain": [
       "(array([1., 1.]),\n",
       " array([[-2.        ,  2.        ],\n",
       "        [-1.9925187 ,  3.97007481],\n",
       "        [ 0.96687269, -7.82315462],\n",
       "        [ 0.96689159,  0.93487935],\n",
       "        [ 1.        ,  0.99890383],\n",
       "        [ 1.        ,  1.        ],\n",
       "        [ 1.        ,  1.        ]]),\n",
       " 6,\n",
       " True)"
      ]
     },
     "execution_count": 7,
     "metadata": {},
     "output_type": "execute_result"
    }
   ],
   "source": [
    "newton(f, df, d2f, x0)"
   ]
  },
  {
   "attachments": {},
   "cell_type": "markdown",
   "metadata": {},
   "source": [
    "It converged.\n",
    "\n",
    "Number of iterations: 6"
   ]
  },
  {
   "cell_type": "markdown",
   "metadata": {},
   "source": [
    "### Not Required: Use this to plot the convergence!"
   ]
  },
  {
   "cell_type": "code",
   "execution_count": 8,
   "metadata": {},
   "outputs": [
    {
     "data": {
      "image/png": "[encoded data removed]",
      "text/plain": [
       "<Figure size 432x288 with 2 Axes>"
      ]
     },
     "metadata": {
      "needs_background": "light"
     },
     "output_type": "display_data"
    }
   ],
   "source": [
    "my_min, xs, num_step, conv = newton(f, df, d2f, np.array([-2,2]))\n",
    "\n",
    "dom = np.linspace(-8,8,1000)\n",
    "X, Y = np.meshgrid(dom, dom)\n",
    "Z = f(np.array([X,Y]))\n",
    "\n",
    "plt.pcolor(X,Y,Z, norm=matplotlib.colors.LogNorm())\n",
    "plt.scatter(1,1, color='red')\n",
    "\n",
    "# estimated minimizer at each iteration\n",
    "plt.plot(xs[:,0],xs[:,1], color='purple')\n",
    "\n",
    "# final estimate\n",
    "plt.scatter(my_min[0],my_min[1], color='purple')\n",
    "\n",
    "plt.title('Rosenbrock')\n",
    "plt.colorbar()\n",
    "plt.show()"
   ]
  },
  {
   "cell_type": "markdown",
   "metadata": {},
   "source": [
    "## 12.23\n",
    "\n",
    "Code up an implementation of the Gauss-Newton algorithm for solving NLS problems. Your code should accept a differentiable function $r : \\R^n \\to \\R^m$, defining an objective function $f(x) = r(x)^\\mathbf{\\top} r(x)$, an initial guess $x_0 \\in \\R^n$, a desired level of accuracy $\\varepsilon$, and a maximum number of iterations $M$. At each step it should calculate $J(x_k) = Dr(x_k)^\\mathbf{\\top}$ and compute $x_{k+1}$ via **(12.23)**, and then repeat until it reaches a good approximation to a critical point of $f$, or exceeds $M$ iterations. For the stopping criterion, use $\\| x_{k+1}  -  x_k\\| < \\varepsilon$. Apply your code to the range finder problem **(Example 12.4.10 and Figure 12.9)** with the data given in the example. \n",
    "\n",
    "Verify that when starting at $x_0 = (2,0)$ your code converges in eight steps to the minimizer $(2.9546367, 2.88618843)$. "
   ]
  },
  {
   "cell_type": "code",
   "execution_count": 56,
   "metadata": {},
   "outputs": [],
   "source": [
    "# Machine precision for df function below and for precision in problem\n",
    "E = np.finfo(float).eps\n",
    "\n",
    "def df(f, x, h=1.4*E**(1/3)):\n",
    "    '''(My code from section 11.4 HW.)\n",
    "    Given f: Rn -> Rm, get estimate for Df(x) using centered differences.\n",
    "\n",
    "    Parameters:\n",
    "        f (callable function): Rn -> Rm\n",
    "        x (ndarray, float): point in Rn\n",
    "        h (float): step size, default 1.4*cuberoot(machine epsilon)\n",
    "    Return:\n",
    "        Estimate of Df(x)\n",
    "    '''\n",
    "\n",
    "    def ek(n, k):\n",
    "        '''Return kth standard basis vector in R^n.''' \n",
    "        ek = np.zeros(n)\n",
    "        ek[k] = 1\n",
    "        return ek\n",
    "\n",
    "    # Get n, m\n",
    "    n = 1 if np.isscalar(x) else len(x)\n",
    "    m = 1 if np.isscalar(f(x)) else len(f(x))\n",
    "\n",
    "    # Define J\n",
    "    J = np.zeros((m, n))\n",
    "\n",
    "    # Get columns of J\n",
    "    for j in range(n):\n",
    "        J[:,j] = (f(x + h*ek(n,j)) - f(x - h*ek(n,j)))/(2*h)\n",
    "\n",
    "    return J"
   ]
  },
  {
   "cell_type": "code",
   "execution_count": 35,
   "metadata": {},
   "outputs": [],
   "source": [
    "# xtrue = np.array([3,3]) for reference\n",
    "\n",
    "# Coordinates of range finders\n",
    "a = [[0,0], [1,1], [2,0], [-1,3]]\n",
    "a = np.array(a)\n",
    "\n",
    "# Measured distances\n",
    "d = np.array([3.88506517, 2.87540403, 3.10537735, 3.99674185])\n",
    "\n",
    "# Initial guess for xtrue\n",
    "x0 = np.array([2, 0])\n",
    "\n",
    "def r_def(d, a):\n",
    "    '''Function r composed of r_i, used for objective function f = r(x)^T r(x)'''\n",
    "    return lambda x: d - np.linalg.norm(x-a, axis=1)\n",
    "\n",
    "r = r_def(d, a)"
   ]
  },
  {
   "cell_type": "code",
   "execution_count": 57,
   "metadata": {},
   "outputs": [],
   "source": [
    "def gn(r, x0, eps=1e-5, M=1000):\n",
    "    '''Gauss-Newton algorithm'''\n",
    "\n",
    "    # Objective function r(x)^T r (not used in actual computation)\n",
    "    # f = lambda x: r(x)@r(x)\n",
    "\n",
    "    # Successive approximations\n",
    "    xs = [x0] + [None]*M\n",
    "    converged = False\n",
    "    \n",
    "    for i in range(M):\n",
    "        # Derivative of r at x0\n",
    "        rx = r(x0)\n",
    "        Drx = df(r, x0)\n",
    "\n",
    "        # Get (DrxT Drx)^-1 DrxT rx by solving (DrxT Drx) y0 = DrxT rx\n",
    "        y0 = np.linalg.solve(Drx.T @ Drx, Drx.T @ rx)\n",
    "\n",
    "        # Get next iteration\n",
    "        x0 = x0 - y0\n",
    "\n",
    "        # Store\n",
    "        xs[i+1] = x0\n",
    "\n",
    "        # Check if converged\n",
    "        if np.linalg.norm(xs[i+1] - xs[i]) < eps:\n",
    "            converged = True\n",
    "            break\n",
    "\n",
    "    return x0, np.array([xk for xk in xs if xk is not None]), i+1, converged"
   ]
  },
  {
   "cell_type": "code",
   "execution_count": 59,
   "metadata": {},
   "outputs": [
    {
     "name": "stdout",
     "output_type": "stream",
     "text": [
      "Num steps: 8\n",
      "Minimizer: [2.9546367  2.88618843]\n"
     ]
    }
   ],
   "source": [
    "minimizer, steps, num_steps, converged = gn(r, x0, np.sqrt(E))\n",
    "\n",
    "print('Num steps:', num_steps)\n",
    "\n",
    "print('Minimizer:', minimizer)"
   ]
  }
 ],
 "metadata": {
  "kernelspec": {
   "display_name": "base",
   "language": "python",
   "name": "python3"
  },
  "language_info": {
   "codemirror_mode": {
    "name": "ipython",
    "version": 3
   },
   "file_extension": ".py",
   "mimetype": "text/x-python",
   "name": "python",
   "nbconvert_exporter": "python",
   "pygments_lexer": "ipython3",
   "version": "3.9.12"
  },
  "vscode": {
   "interpreter": {
    "hash": "ad2bdc8ecc057115af97d19610ffacc2b4e99fae6737bb82f5d7fb13d2f2c186"
   }
  }
 },
 "nbformat": 4,
 "nbformat_minor": 2
}

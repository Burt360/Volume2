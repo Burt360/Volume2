{
 "cells": [
  {
   "cell_type": "code",
   "execution_count": 3,
   "metadata": {},
   "outputs": [],
   "source": [
    "import numpy as np\n",
    "from numpy.polynomial.legendre import leggauss"
   ]
  },
  {
   "attachments": {},
   "cell_type": "markdown",
   "metadata": {},
   "source": [
    "# 9.45\n",
    "\n",
    "1. Using built-in methods for finding the zeros and weights for Gaussian quadrature, code up a method that accepts any callable function $f$ on $[-1, 1]$ and any integer $n>1$ and uses Gaussian quadrature at $n+1$ points to approximate the integral $\\int_{-1}^1 f(x) dx$."
   ]
  },
  {
   "cell_type": "code",
   "execution_count": 18,
   "metadata": {},
   "outputs": [],
   "source": [
    "def quad(f, n):\n",
    "    '''Use Gaussian quadrature at n+1 points to approximate the integral of f on [-1, 1].\n",
    "    \n",
    "    Parameters:\n",
    "        f (callable): function R -> R to approximately integrate\n",
    "        n (int): n > 1\n",
    "    '''\n",
    "\n",
    "    # Get zeros, weights\n",
    "    zeros, weights = leggauss(n+1)\n",
    "\n",
    "    # Return sum as in Theorem 9.7.2\n",
    "    return np.sum([f(z)*w for z, w in zip(zeros, weights)])"
   ]
  },
  {
   "attachments": {},
   "cell_type": "markdown",
   "metadata": {},
   "source": [
    "2. Using your method, compute the Gaussian quadrature estimate of the integral $\\int_{-1}^1 |x| dx$ for $n=10,20,30,\\ldots,100$. Compare your results to the true answer (which is 1).\n",
    "3. Repeat the computation for $\\int_{-1}^1 \\cos(x) dx$. Compare your results to the true answer of $2\\sin(1)$."
   ]
  },
  {
   "cell_type": "code",
   "execution_count": 20,
   "metadata": {},
   "outputs": [
    {
     "name": "stdout",
     "output_type": "stream",
     "text": [
      "Absolute errors\n",
      "\n",
      "|x|\n",
      "[0.01247689052636125, 0.00356168911559529, 0.0016584645701767098, 0.0009553340579422365, 0.0006202987061660892, 0.00043495579931462913, 0.00032178891449130553, 0.0002476623319277449, 0.0001964841277154461, 0.0001596737816450533]\n",
      "\n",
      "cos(x)\n",
      "[4.440892098500626e-16, 2.220446049250313e-16, 1.1102230246251565e-15, 2.6645352591003757e-15, 3.1086244689504383e-15, 0.0, 2.4424906541753444e-15, 8.881784197001252e-16, 5.773159728050814e-15, 2.6645352591003757e-15]\n"
     ]
    }
   ],
   "source": [
    "# Define g, h, and true integral values\n",
    "g = lambda t: np.abs(t)\n",
    "h = lambda t: np.cos(t)\n",
    "g_true = 1\n",
    "h_true = 2*np.sin(1)\n",
    "\n",
    "# Report absolute errors for g, h\n",
    "print('Absolute errors')\n",
    "print()\n",
    "\n",
    "print('|x|')\n",
    "print([np.abs(quad(g, n) - g_true) for n in range(10, 101, 10)])\n",
    "print()\n",
    "\n",
    "print('cos(x)')\n",
    "print([np.abs(quad(h, n) - h_true) for n in range(10, 101, 10)])"
   ]
  },
  {
   "attachments": {},
   "cell_type": "markdown",
   "metadata": {},
   "source": [
    "4. Explain why the computations for one of these integrals are so much more accurate than for the other integral.\n",
    "\n",
    "$\\cos(x)$ is a smooth function and can be closely approximated by polynomials, so by the discussion above Theorem 9.7.2 its integral can be closely approximated by Gaussian quadrature. On the other hand, $|x|$ is not even differentiable and cannot be closely approximated by polynomials, so Guassian quadrature isn't likely to closely approximate its integral."
   ]
  }
 ],
 "metadata": {
  "kernelspec": {
   "display_name": "base",
   "language": "python",
   "name": "python3"
  },
  "language_info": {
   "codemirror_mode": {
    "name": "ipython",
    "version": 3
   },
   "file_extension": ".py",
   "mimetype": "text/x-python",
   "name": "python",
   "nbconvert_exporter": "python",
   "pygments_lexer": "ipython3",
   "version": "3.9.12"
  },
  "orig_nbformat": 4,
  "vscode": {
   "interpreter": {
    "hash": "ad2bdc8ecc057115af97d19610ffacc2b4e99fae6737bb82f5d7fb13d2f2c186"
   }
  }
 },
 "nbformat": 4,
 "nbformat_minor": 2
}

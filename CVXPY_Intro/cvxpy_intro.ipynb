{
 "cells": [
  {
   "cell_type": "code",
   "execution_count": 1,
   "metadata": {},
   "outputs": [
    {
     "ename": "ModuleNotFoundError",
     "evalue": "No module named 'cvxpy'",
     "output_type": "error",
     "traceback": [
      "\u001b[1;31m---------------------------------------------------------------------------\u001b[0m",
      "\u001b[1;31mModuleNotFoundError\u001b[0m                       Traceback (most recent call last)",
      "\u001b[1;32mc:\\Users\\BYU Rental\\Documents\\ACME\\Vol2\\CVXPY_Intro\\cvxpy_intro.ipynb Cell 1\u001b[0m in \u001b[0;36m<cell line: 8>\u001b[1;34m()\u001b[0m\n\u001b[0;32m      <a href='vscode-notebook-cell:/c%3A/Users/BYU%20Rental/Documents/ACME/Vol2/CVXPY_Intro/cvxpy_intro.ipynb#W0sZmlsZQ%3D%3D?line=0'>1</a>\u001b[0m \u001b[39m# cvxpy_intro.py\u001b[39;00m\n\u001b[0;32m      <a href='vscode-notebook-cell:/c%3A/Users/BYU%20Rental/Documents/ACME/Vol2/CVXPY_Intro/cvxpy_intro.ipynb#W0sZmlsZQ%3D%3D?line=1'>2</a>\u001b[0m \u001b[39m\"\"\"Volume 2: Intro to CVXPY.\u001b[39;00m\n\u001b[0;32m      <a href='vscode-notebook-cell:/c%3A/Users/BYU%20Rental/Documents/ACME/Vol2/CVXPY_Intro/cvxpy_intro.ipynb#W0sZmlsZQ%3D%3D?line=2'>3</a>\u001b[0m \u001b[39mNathan Schill\u001b[39;00m\n\u001b[0;32m      <a href='vscode-notebook-cell:/c%3A/Users/BYU%20Rental/Documents/ACME/Vol2/CVXPY_Intro/cvxpy_intro.ipynb#W0sZmlsZQ%3D%3D?line=3'>4</a>\u001b[0m \u001b[39mSection 2\u001b[39;00m\n\u001b[0;32m      <a href='vscode-notebook-cell:/c%3A/Users/BYU%20Rental/Documents/ACME/Vol2/CVXPY_Intro/cvxpy_intro.ipynb#W0sZmlsZQ%3D%3D?line=4'>5</a>\u001b[0m \u001b[39mThurs. Mar. 23, 2023\u001b[39;00m\n\u001b[0;32m      <a href='vscode-notebook-cell:/c%3A/Users/BYU%20Rental/Documents/ACME/Vol2/CVXPY_Intro/cvxpy_intro.ipynb#W0sZmlsZQ%3D%3D?line=5'>6</a>\u001b[0m \u001b[39m\"\"\"\u001b[39;00m\n\u001b[1;32m----> <a href='vscode-notebook-cell:/c%3A/Users/BYU%20Rental/Documents/ACME/Vol2/CVXPY_Intro/cvxpy_intro.ipynb#W0sZmlsZQ%3D%3D?line=7'>8</a>\u001b[0m \u001b[39mimport\u001b[39;00m \u001b[39mcvxpy\u001b[39;00m \u001b[39mas\u001b[39;00m \u001b[39mcp\u001b[39;00m\n\u001b[0;32m      <a href='vscode-notebook-cell:/c%3A/Users/BYU%20Rental/Documents/ACME/Vol2/CVXPY_Intro/cvxpy_intro.ipynb#W0sZmlsZQ%3D%3D?line=8'>9</a>\u001b[0m \u001b[39mimport\u001b[39;00m \u001b[39mnumpy\u001b[39;00m \u001b[39mas\u001b[39;00m \u001b[39mnp\u001b[39;00m\n",
      "\u001b[1;31mModuleNotFoundError\u001b[0m: No module named 'cvxpy'"
     ]
    }
   ],
   "source": [
    "# cvxpy_intro.py\n",
    "\"\"\"Volume 2: Intro to CVXPY.\n",
    "Nathan Schill\n",
    "Section 2\n",
    "Thurs. Mar. 23, 2023\n",
    "\"\"\"\n",
    "\n",
    "import cvxpy as cp\n",
    "import numpy as np"
   ]
  },
  {
   "cell_type": "code",
   "execution_count": 2,
   "metadata": {},
   "outputs": [
    {
     "ename": "NameError",
     "evalue": "name 'cp' is not defined",
     "output_type": "error",
     "traceback": [
      "\u001b[1;31m---------------------------------------------------------------------------\u001b[0m",
      "\u001b[1;31mNameError\u001b[0m                                 Traceback (most recent call last)",
      "\u001b[1;32mc:\\Users\\BYU Rental\\Documents\\ACME\\Vol2\\CVXPY_Intro\\cvxpy_intro.ipynb Cell 2\u001b[0m in \u001b[0;36m<cell line: 35>\u001b[1;34m()\u001b[0m\n\u001b[0;32m     <a href='vscode-notebook-cell:/c%3A/Users/BYU%20Rental/Documents/ACME/Vol2/CVXPY_Intro/cvxpy_intro.ipynb#W2sZmlsZQ%3D%3D?line=30'>31</a>\u001b[0m     soln \u001b[39m=\u001b[39m problem\u001b[39m.\u001b[39msolve()\n\u001b[0;32m     <a href='vscode-notebook-cell:/c%3A/Users/BYU%20Rental/Documents/ACME/Vol2/CVXPY_Intro/cvxpy_intro.ipynb#W2sZmlsZQ%3D%3D?line=32'>33</a>\u001b[0m     \u001b[39mreturn\u001b[39;00m soln, x\u001b[39m.\u001b[39mvalue\n\u001b[1;32m---> <a href='vscode-notebook-cell:/c%3A/Users/BYU%20Rental/Documents/ACME/Vol2/CVXPY_Intro/cvxpy_intro.ipynb#W2sZmlsZQ%3D%3D?line=34'>35</a>\u001b[0m prob1()\n",
      "\u001b[1;32mc:\\Users\\BYU Rental\\Documents\\ACME\\Vol2\\CVXPY_Intro\\cvxpy_intro.ipynb Cell 2\u001b[0m in \u001b[0;36mprob1\u001b[1;34m()\u001b[0m\n\u001b[0;32m      <a href='vscode-notebook-cell:/c%3A/Users/BYU%20Rental/Documents/ACME/Vol2/CVXPY_Intro/cvxpy_intro.ipynb#W2sZmlsZQ%3D%3D?line=0'>1</a>\u001b[0m \u001b[39mdef\u001b[39;00m \u001b[39mprob1\u001b[39m():\n\u001b[0;32m      <a href='vscode-notebook-cell:/c%3A/Users/BYU%20Rental/Documents/ACME/Vol2/CVXPY_Intro/cvxpy_intro.ipynb#W2sZmlsZQ%3D%3D?line=1'>2</a>\u001b[0m     \u001b[39m\"\"\"Solve the following convex optimization problem:\u001b[39;00m\n\u001b[0;32m      <a href='vscode-notebook-cell:/c%3A/Users/BYU%20Rental/Documents/ACME/Vol2/CVXPY_Intro/cvxpy_intro.ipynb#W2sZmlsZQ%3D%3D?line=2'>3</a>\u001b[0m \n\u001b[0;32m      <a href='vscode-notebook-cell:/c%3A/Users/BYU%20Rental/Documents/ACME/Vol2/CVXPY_Intro/cvxpy_intro.ipynb#W2sZmlsZQ%3D%3D?line=3'>4</a>\u001b[0m \u001b[39m    minimize        2x + y + 3z\u001b[39;00m\n\u001b[1;32m   (...)\u001b[0m\n\u001b[0;32m     <a href='vscode-notebook-cell:/c%3A/Users/BYU%20Rental/Documents/ACME/Vol2/CVXPY_Intro/cvxpy_intro.ipynb#W2sZmlsZQ%3D%3D?line=13'>14</a>\u001b[0m \u001b[39m        The optimal value (float)\u001b[39;00m\n\u001b[0;32m     <a href='vscode-notebook-cell:/c%3A/Users/BYU%20Rental/Documents/ACME/Vol2/CVXPY_Intro/cvxpy_intro.ipynb#W2sZmlsZQ%3D%3D?line=14'>15</a>\u001b[0m \u001b[39m    \"\"\"\u001b[39;00m\n\u001b[1;32m---> <a href='vscode-notebook-cell:/c%3A/Users/BYU%20Rental/Documents/ACME/Vol2/CVXPY_Intro/cvxpy_intro.ipynb#W2sZmlsZQ%3D%3D?line=16'>17</a>\u001b[0m     x \u001b[39m=\u001b[39m cp\u001b[39m.\u001b[39mVariable(\u001b[39m3\u001b[39m, nonneg\u001b[39m=\u001b[39m\u001b[39mTrue\u001b[39;00m)\n\u001b[0;32m     <a href='vscode-notebook-cell:/c%3A/Users/BYU%20Rental/Documents/ACME/Vol2/CVXPY_Intro/cvxpy_intro.ipynb#W2sZmlsZQ%3D%3D?line=17'>18</a>\u001b[0m     c \u001b[39m=\u001b[39m np\u001b[39m.\u001b[39marray([\u001b[39m2\u001b[39m, \u001b[39m1\u001b[39m, \u001b[39m3\u001b[39m])\n\u001b[0;32m     <a href='vscode-notebook-cell:/c%3A/Users/BYU%20Rental/Documents/ACME/Vol2/CVXPY_Intro/cvxpy_intro.ipynb#W2sZmlsZQ%3D%3D?line=18'>19</a>\u001b[0m     objective \u001b[39m=\u001b[39m cp\u001b[39m.\u001b[39mMinimize(c\u001b[39m.\u001b[39mT \u001b[39m@\u001b[39m x)\n",
      "\u001b[1;31mNameError\u001b[0m: name 'cp' is not defined"
     ]
    }
   ],
   "source": [
    "def prob1():\n",
    "    \"\"\"Solve the following convex optimization problem:\n",
    "\n",
    "    minimize        2x + y + 3z\n",
    "    subject to      x  + 2y         <= 3\n",
    "                         y   - 4z   <= 1\n",
    "                    2x + 10y + 3z   >= 12\n",
    "                    x               >= 0\n",
    "                          y         >= 0\n",
    "                                z   >= 0\n",
    "\n",
    "    Returns (in order):\n",
    "        The optimizer x (ndarray)\n",
    "        The optimal value (float)\n",
    "    \"\"\"\n",
    "    \n",
    "    x = cp.Variable(3, nonneg=True)\n",
    "    c = np.array([2, 1, 3])\n",
    "    objective = cp.Minimize(c.T @ x)\n",
    "\n",
    "    G = np.array([[1,  2],\n",
    "                  [1, -4]])\n",
    "    h = np.array([3, 1])\n",
    "\n",
    "    P = np.array([2, 10, 3])\n",
    "    q = 12\n",
    "\n",
    "    constraints = [G@x <= h, P@x >= q]\n",
    "    problem = cp.Problem(objective, constraints)\n",
    "\n",
    "    soln = problem.solve()\n",
    "\n",
    "    return soln, x.value\n",
    "\n",
    "prob1()"
   ]
  },
  {
   "cell_type": "code",
   "execution_count": null,
   "metadata": {},
   "outputs": [],
   "source": [
    "# Problem 2\n",
    "def l1Min(A, b):\n",
    "    \"\"\"Calculate the solution to the optimization problem\n",
    "\n",
    "        minimize    ||x||_1\n",
    "        subject to  Ax = b\n",
    "\n",
    "    Parameters:\n",
    "        A ((m,n) ndarray)\n",
    "        b ((m, ) ndarray)\n",
    "\n",
    "    Returns:\n",
    "        The optimizer x (ndarray)\n",
    "        The optimal value (float)\n",
    "    \"\"\"\n",
    "    raise NotImplementedError(\"Problem 2 Incomplete\")\n",
    "\n",
    "\n"
   ]
  },
  {
   "cell_type": "code",
   "execution_count": null,
   "metadata": {},
   "outputs": [],
   "source": [
    "# Problem 3\n",
    "def prob3():\n",
    "    \"\"\"Solve the transportation problem by converting the last equality constraint\n",
    "    into inequality constraints.\n",
    "\n",
    "    Returns (in order):\n",
    "        The optimizer x (ndarray)\n",
    "        The optimal value (float)\n",
    "    \"\"\"\n",
    "    raise NotImplementedError(\"Problem 3 Incomplete\")\n",
    "\n",
    "\n"
   ]
  },
  {
   "cell_type": "code",
   "execution_count": null,
   "metadata": {},
   "outputs": [],
   "source": [
    "# Problem 4\n",
    "def prob4():\n",
    "    \"\"\"Find the minimizer and minimum of\n",
    "\n",
    "    g(x,y,z) = (3/2)x^2 + 2xy + xz + 2y^2 + 2yz + (3/2)z^2 + 3x + z\n",
    "\n",
    "    Returns (in order):\n",
    "        The optimizer x (ndarray)\n",
    "        The optimal value (float)\n",
    "    \"\"\"\n",
    "    raise NotImplementedError(\"Problem 4 Incomplete\")\n",
    "\n",
    "\n"
   ]
  },
  {
   "cell_type": "code",
   "execution_count": null,
   "metadata": {},
   "outputs": [],
   "source": [
    "# Problem 5\n",
    "def prob5(A, b):\n",
    "    \"\"\"Calculate the solution to the optimization problem\n",
    "        minimize    ||Ax - b||_2\n",
    "        subject to  ||x||_1 == 1\n",
    "                    x >= 0\n",
    "    Parameters:\n",
    "        A ((m,n), ndarray)\n",
    "        b ((m,), ndarray)\n",
    "        \n",
    "    Returns (in order):\n",
    "        The optimizer x (ndarray)\n",
    "        The optimal value (float)\n",
    "    \"\"\"\n",
    "    raise NotImplementedError(\"Problem 5 Incomplete\")\n",
    "\n",
    "\n"
   ]
  },
  {
   "cell_type": "code",
   "execution_count": null,
   "metadata": {},
   "outputs": [],
   "source": [
    "# Problem 6\n",
    "def prob6():\n",
    "    \"\"\"Solve the college student food problem. Read the data in the file \n",
    "    food.npy to create a convex optimization problem. The first column is \n",
    "    the price, second is the number of servings, and the rest contain\n",
    "    nutritional information. Use cvxpy to find the minimizer and primal \n",
    "    objective.\n",
    "    \n",
    "    Returns (in order):\n",
    "        The optimizer x (ndarray)\n",
    "        The optimal value (float)\n",
    "    \"\"\"\t \n",
    "    raise NotImplementedError(\"Problem 6 Incomplete\")"
   ]
  }
 ],
 "metadata": {
  "kernelspec": {
   "display_name": "base",
   "language": "python",
   "name": "python3"
  },
  "language_info": {
   "codemirror_mode": {
    "name": "ipython",
    "version": 3
   },
   "file_extension": ".py",
   "mimetype": "text/x-python",
   "name": "python",
   "nbconvert_exporter": "python",
   "pygments_lexer": "ipython3",
   "version": "3.9.12"
  },
  "orig_nbformat": 4
 },
 "nbformat": 4,
 "nbformat_minor": 2
}

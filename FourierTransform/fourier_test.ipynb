{
 "cells": [
  {
   "cell_type": "code",
   "execution_count": 1,
   "metadata": {},
   "outputs": [],
   "source": [
    "import numpy as np\n",
    "from scipy.fftpack import fft as spfft"
   ]
  },
  {
   "cell_type": "code",
   "execution_count": 16,
   "metadata": {},
   "outputs": [],
   "source": [
    "def simple_dft(samples):\n",
    "    \"\"\"Compute the DFT of an array of samples.\n",
    "\n",
    "    Parameters:\n",
    "        samples ((n,) ndarray): an array of samples.\n",
    "    \n",
    "    Returns:\n",
    "        ((n,) ndarray): The DFT of the given array.\n",
    "    \"\"\"\n",
    "\n",
    "    n = len(samples)\n",
    "\n",
    "    # Calculate matrix F_n as given in the lab PDF\n",
    "    F_n = np.array([[np.exp(-2*np.pi*1j/n * i * k) for i in range(n)] for k in range(n)]).T\n",
    "\n",
    "    return 1/n * F_n @ samples\n",
    "\n",
    "def simple_fft(samples, threshold=1):\n",
    "    \"\"\"Compute the DFT using the FFT algorithm.\n",
    "    \n",
    "    Parameters:\n",
    "        samples ((n,) ndarray): an array of samples.\n",
    "        threshold (int): when a subarray of samples has fewer\n",
    "            elements than this integer, use simple_dft() to\n",
    "            compute the DFT of that subarray.\n",
    "    \n",
    "    Returns:\n",
    "        ((n,) ndarray): The DFT of the given array.\n",
    "    \"\"\"\n",
    "\n",
    "    # Raise a ValueError if the length of samples is not a power of two\n",
    "    length = len(samples)\n",
    "    if int(log_length := np.log2(length)) != log_length:\n",
    "        raise ValueError('length of samples should be a power of two')\n",
    "    \n",
    "    # Implement algorithm 6.1 as given in the lab PDF\n",
    "    def split(g):\n",
    "        n = len(g)\n",
    "        if n <= threshold:\n",
    "            return n * simple_dft(g)\n",
    "        else:\n",
    "            even = split(g[::2])\n",
    "            odd = split(g[1::2])\n",
    "            \n",
    "            z = np.exp(-2*np.pi*1j/n * np.arange(n/2))\n",
    "            m = n//2\n",
    "            \n",
    "            return np.concatenate((even + z*odd, even - z*odd))\n",
    "    \n",
    "    return split(samples)/length"
   ]
  },
  {
   "cell_type": "code",
   "execution_count": 21,
   "metadata": {},
   "outputs": [
    {
     "name": "stdout",
     "output_type": "stream",
     "text": [
      "test 0: True\n",
      "test 1: True\n",
      "test 2: True\n",
      "test 3: True\n",
      "test 4: True\n",
      "test 5: True\n",
      "test 6: True\n",
      "test 7: True\n",
      "test 8: True\n",
      "test 9: True\n"
     ]
    }
   ],
   "source": [
    "n = 16\n",
    "for i in range(10):\n",
    "    sample = np.random.randint(-32768, 32767, n, dtype=np.int16)\n",
    "    fft, sp = n*simple_fft(sample), spfft(sample)\n",
    "    print(f'test {i}: {np.allclose(fft, sp)}')"
   ]
  },
  {
   "cell_type": "code",
   "execution_count": null,
   "metadata": {},
   "outputs": [],
   "source": []
  }
 ],
 "metadata": {
  "kernelspec": {
   "display_name": "Python 3.9.12 ('base')",
   "language": "python",
   "name": "python3"
  },
  "language_info": {
   "codemirror_mode": {
    "name": "ipython",
    "version": 3
   },
   "file_extension": ".py",
   "mimetype": "text/x-python",
   "name": "python",
   "nbconvert_exporter": "python",
   "pygments_lexer": "ipython3",
   "version": "3.9.12"
  },
  "orig_nbformat": 4,
  "vscode": {
   "interpreter": {
    "hash": "ad2bdc8ecc057115af97d19610ffacc2b4e99fae6737bb82f5d7fb13d2f2c186"
   }
  }
 },
 "nbformat": 4,
 "nbformat_minor": 2
}

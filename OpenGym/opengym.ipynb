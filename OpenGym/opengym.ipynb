{
  "cells": [
    {
      "cell_type": "markdown",
      "metadata": {
        "id": "xQ1tKnrK4TcN"
      },
      "source": [
        "\n",
        "# Volume 2: OpenGym\n",
        "\n"
      ]
    },
    {
      "cell_type": "markdown",
      "metadata": {
        "id": "3qbA8CjB3_IL"
      },
      "source": [
        "Nathan Schill\n",
        "\n",
        "Section 2\n",
        "\n",
        "Thurs. Mar. 16, 2023\n",
        "\n",
        "\n",
        "\n"
      ]
    },
    {
      "cell_type": "code",
      "execution_count": 1,
      "metadata": {
        "colab": {
          "base_uri": "https://localhost:8080/"
        },
        "id": "awgSD99vp4hn",
        "outputId": "9da4c9ec-95a9-4e05-e23b-ad00dc25deac"
      },
      "outputs": [
        {
          "output_type": "stream",
          "name": "stdout",
          "text": [
            "Looking in indexes: https://pypi.org/simple, https://us-python.pkg.dev/colab-wheels/public/simple/\n",
            "Requirement already satisfied: gym[classic_control] in /usr/local/lib/python3.9/dist-packages (0.25.2)\n",
            "Requirement already satisfied: numpy>=1.18.0 in /usr/local/lib/python3.9/dist-packages (from gym[classic_control]) (1.22.4)\n",
            "Requirement already satisfied: gym-notices>=0.0.4 in /usr/local/lib/python3.9/dist-packages (from gym[classic_control]) (0.0.8)\n",
            "Requirement already satisfied: importlib-metadata>=4.8.0 in /usr/local/lib/python3.9/dist-packages (from gym[classic_control]) (6.0.0)\n",
            "Requirement already satisfied: cloudpickle>=1.2.0 in /usr/local/lib/python3.9/dist-packages (from gym[classic_control]) (2.2.1)\n",
            "Collecting pygame==2.1.0\n",
            "  Downloading pygame-2.1.0-cp39-cp39-manylinux_2_17_x86_64.manylinux2014_x86_64.whl (18.3 MB)\n",
            "\u001b[2K     \u001b[90m━━━━━━━━━━━━━━━━━━━━━━━━━━━━━━━━━━━━━━━━\u001b[0m \u001b[32m18.3/18.3 MB\u001b[0m \u001b[31m64.9 MB/s\u001b[0m eta \u001b[36m0:00:00\u001b[0m\n",
            "\u001b[?25hRequirement already satisfied: zipp>=0.5 in /usr/local/lib/python3.9/dist-packages (from importlib-metadata>=4.8.0->gym[classic_control]) (3.15.0)\n",
            "Installing collected packages: pygame\n",
            "Successfully installed pygame-2.1.0\n",
            "Looking in indexes: https://pypi.org/simple, https://us-python.pkg.dev/colab-wheels/public/simple/\n",
            "Collecting gym-toytext\n",
            "  Downloading gym_toytext-0.26.0-py3-none-any.whl (10 kB)\n",
            "Collecting gym>=0.26.0\n",
            "  Downloading gym-0.26.2.tar.gz (721 kB)\n",
            "\u001b[2K     \u001b[90m━━━━━━━━━━━━━━━━━━━━━━━━━━━━━━━━━━━━━━\u001b[0m \u001b[32m721.7/721.7 KB\u001b[0m \u001b[31m26.9 MB/s\u001b[0m eta \u001b[36m0:00:00\u001b[0m\n",
            "\u001b[?25h  Installing build dependencies ... \u001b[?25l\u001b[?25hdone\n",
            "  Getting requirements to build wheel ... \u001b[?25l\u001b[?25hdone\n",
            "  Preparing metadata (pyproject.toml) ... \u001b[?25l\u001b[?25hdone\n",
            "Requirement already satisfied: importlib-metadata>=4.8.0 in /usr/local/lib/python3.9/dist-packages (from gym>=0.26.0->gym-toytext) (6.0.0)\n",
            "Requirement already satisfied: cloudpickle>=1.2.0 in /usr/local/lib/python3.9/dist-packages (from gym>=0.26.0->gym-toytext) (2.2.1)\n",
            "Requirement already satisfied: gym-notices>=0.0.4 in /usr/local/lib/python3.9/dist-packages (from gym>=0.26.0->gym-toytext) (0.0.8)\n",
            "Requirement already satisfied: numpy>=1.18.0 in /usr/local/lib/python3.9/dist-packages (from gym>=0.26.0->gym-toytext) (1.22.4)\n",
            "Requirement already satisfied: zipp>=0.5 in /usr/local/lib/python3.9/dist-packages (from importlib-metadata>=4.8.0->gym>=0.26.0->gym-toytext) (3.15.0)\n",
            "Building wheels for collected packages: gym\n",
            "  Building wheel for gym (pyproject.toml) ... \u001b[?25l\u001b[?25hdone\n",
            "  Created wheel for gym: filename=gym-0.26.2-py3-none-any.whl size=827648 sha256=5fc396abea1451bf992fba2de01a629ff406f2b87b5fe8bb45d9e974a2853450\n",
            "  Stored in directory: /root/.cache/pip/wheels/af/2b/30/5e78b8b9599f2a2286a582b8da80594f654bf0e18d825a4405\n",
            "Successfully built gym\n",
            "Installing collected packages: gym, gym-toytext\n",
            "  Attempting uninstall: gym\n",
            "    Found existing installation: gym 0.25.2\n",
            "    Uninstalling gym-0.25.2:\n",
            "      Successfully uninstalled gym-0.25.2\n",
            "Successfully installed gym-0.26.2 gym-toytext-0.26.0\n",
            "Reading package lists... Done\n",
            "Building dependency tree       \n",
            "Reading state information... Done\n",
            "The following additional packages will be installed:\n",
            "  libpython3.10-minimal libpython3.10-stdlib python3.10-minimal\n",
            "Suggested packages:\n",
            "  python3.10-venv binfmt-support\n",
            "The following NEW packages will be installed:\n",
            "  libpython3.10-minimal libpython3.10-stdlib python3.10 python3.10-minimal\n",
            "0 upgraded, 4 newly installed, 0 to remove and 22 not upgraded.\n",
            "Need to get 5,225 kB of archives.\n",
            "After this operation, 20.2 MB of additional disk space will be used.\n",
            "Get:1 http://ppa.launchpad.net/deadsnakes/ppa/ubuntu focal/main amd64 libpython3.10-minimal amd64 3.10.10-1+focal1 [822 kB]\n",
            "Get:2 http://ppa.launchpad.net/deadsnakes/ppa/ubuntu focal/main amd64 python3.10-minimal amd64 3.10.10-1+focal1 [2,093 kB]\n",
            "Get:3 http://ppa.launchpad.net/deadsnakes/ppa/ubuntu focal/main amd64 libpython3.10-stdlib amd64 3.10.10-1+focal1 [1,759 kB]\n",
            "Get:4 http://ppa.launchpad.net/deadsnakes/ppa/ubuntu focal/main amd64 python3.10 amd64 3.10.10-1+focal1 [551 kB]\n",
            "Fetched 5,225 kB in 0s (15.0 MB/s)\n",
            "debconf: unable to initialize frontend: Dialog\n",
            "debconf: (No usable dialog-like program is installed, so the dialog based frontend cannot be used. at /usr/share/perl5/Debconf/FrontEnd/Dialog.pm line 76, <> line 4.)\n",
            "debconf: falling back to frontend: Readline\n",
            "debconf: unable to initialize frontend: Readline\n",
            "debconf: (This frontend requires a controlling tty.)\n",
            "debconf: falling back to frontend: Teletype\n",
            "dpkg-preconfigure: unable to re-open stdin: \n",
            "Selecting previously unselected package libpython3.10-minimal:amd64.\n",
            "(Reading database ... 130699 files and directories currently installed.)\n",
            "Preparing to unpack .../libpython3.10-minimal_3.10.10-1+focal1_amd64.deb ...\n",
            "Unpacking libpython3.10-minimal:amd64 (3.10.10-1+focal1) ...\n",
            "Selecting previously unselected package python3.10-minimal.\n",
            "Preparing to unpack .../python3.10-minimal_3.10.10-1+focal1_amd64.deb ...\n",
            "Unpacking python3.10-minimal (3.10.10-1+focal1) ...\n",
            "Selecting previously unselected package libpython3.10-stdlib:amd64.\n",
            "Preparing to unpack .../libpython3.10-stdlib_3.10.10-1+focal1_amd64.deb ...\n",
            "Unpacking libpython3.10-stdlib:amd64 (3.10.10-1+focal1) ...\n",
            "Selecting previously unselected package python3.10.\n",
            "Preparing to unpack .../python3.10_3.10.10-1+focal1_amd64.deb ...\n",
            "Unpacking python3.10 (3.10.10-1+focal1) ...\n",
            "Setting up libpython3.10-minimal:amd64 (3.10.10-1+focal1) ...\n",
            "Setting up python3.10-minimal (3.10.10-1+focal1) ...\n",
            "Setting up libpython3.10-stdlib:amd64 (3.10.10-1+focal1) ...\n",
            "Setting up python3.10 (3.10.10-1+focal1) ...\n",
            "Processing triggers for mime-support (3.64ubuntu1) ...\n",
            "Processing triggers for man-db (2.9.1-1) ...\n",
            "update-alternatives: using /usr/bin/python3.10 to provide /usr/bin/python3 (python3) in manual mode\n"
          ]
        }
      ],
      "source": [
        "!pip install gym pyvirtualdisplay > /dev/null 2>&1\n",
        "!apt-get install -y xvfb python-opengl ffmpeg > /dev/null 2>&1\n",
        "!pip install gym[classic_control]\n",
        "!pip install gym-toytext\n",
        "\n",
        "!sudo apt-get install python3.10\n",
        "!sudo update-alternatives --install /usr/bin/python3 python3 /usr/bin/python3.10 1\n",
        "!sudo update-alternatives --set python3 /usr/bin/python3.10"
      ]
    },
    {
      "cell_type": "code",
      "execution_count": 2,
      "metadata": {
        "id": "ZlMKi7Fx35TI"
      },
      "outputs": [],
      "source": [
        "import gym\n",
        "import gym_toytext\n",
        "import random\n",
        "import numpy as np\n",
        "from IPython import display\n",
        "from matplotlib import pyplot as plt"
      ]
    },
    {
      "cell_type": "markdown",
      "metadata": {
        "id": "W-rNQLwd429z"
      },
      "source": [
        "# Problem 1\n",
        "\n",
        "*   Implement `random_blackjack()`.\n",
        "*   Run the game 50,000 times and print the percentage of games that are wins.\n",
        "\n"
      ]
    },
    {
      "cell_type": "code",
      "execution_count": 113,
      "metadata": {
        "id": "lrhUolvq45vh"
      },
      "outputs": [],
      "source": [
        "# Problem 1\n",
        "def random_blackjack(n):\n",
        "    \"\"\"\n",
        "    Play a random game of Blackjack. Determine the\n",
        "    percentage the player wins out of n times.\n",
        "    Parameters:\n",
        "        n (int): number of iterations\n",
        "    Returns:\n",
        "        percent (float): percentage that the player\n",
        "                         wins\n",
        "    \"\"\"\n",
        "\n",
        "    try:\n",
        "        # Init environment\n",
        "        env = gym.make('Blackjack-v1')\n",
        "        env.reset()\n",
        "        random_action = env.action_space.sample\n",
        "\n",
        "        # Play n random games and record wins\n",
        "        wins = 0\n",
        "        for i in range(n):\n",
        "            env.reset()\n",
        "            \n",
        "            # Take random actions until game terminates; record wins\n",
        "            while True:\n",
        "                _, win, done, _, _ = env.step(random_action())\n",
        "                \n",
        "                if done:\n",
        "                    if win == 1:\n",
        "                        wins += 1\n",
        "                    break\n",
        "        \n",
        "        return wins/n\n",
        "    \n",
        "    finally:\n",
        "        # Make sure to close env\n",
        "        env.close()"
      ]
    },
    {
      "cell_type": "code",
      "execution_count": 114,
      "metadata": {
        "id": "JF-bS3gyIx4k",
        "colab": {
          "base_uri": "https://localhost:8080/"
        },
        "outputId": "558500be-10a6-4ba2-e65c-c184cca90f44"
      },
      "outputs": [
        {
          "output_type": "execute_result",
          "data": {
            "text/plain": [
              "0.28298"
            ]
          },
          "metadata": {},
          "execution_count": 114
        }
      ],
      "source": [
        "# Percentage of wins after 50,000 games\n",
        "random_blackjack(50000)"
      ]
    },
    {
      "cell_type": "markdown",
      "metadata": {
        "id": "xfZPCIMC5JmB"
      },
      "source": [
        "# Problem 2\n",
        "\n",
        "* Implement `blackjack()`.\n",
        "* For `n` = 1, 2, ..., 21, plot the win percentage after 10,000 games of Blackjack.\n",
        "* Identify which value of `n` gives the highest win rate."
      ]
    },
    {
      "cell_type": "code",
      "execution_count": 163,
      "metadata": {
        "id": "6Uv7AD8I5LWk",
        "colab": {
          "base_uri": "https://localhost:8080/"
        },
        "outputId": "a97a0464-dcf5-4910-8cd1-b561d5261d47"
      },
      "outputs": [
        {
          "output_type": "execute_result",
          "data": {
            "text/plain": [
              "0.4055"
            ]
          },
          "metadata": {},
          "execution_count": 163
        }
      ],
      "source": [
        "# Problem 2\n",
        "def blackjack(n=11):\n",
        "    \"\"\"\n",
        "    Play blackjack with naive algorithm.\n",
        "    Parameters:\n",
        "        n (int): maximum accepted player hand\n",
        "    Return:\n",
        "        percent (float): percentage of 10000 iterations\n",
        "                         that the player wins\n",
        "    \"\"\"\n",
        "    if n < 1 or n > 21:\n",
        "        raise ValueError('n should be between 1 and 21 inclusive')\n",
        "    \n",
        "    # Number of runs to test\n",
        "    NUM_RUNS = 10000\n",
        "    \n",
        "    try:\n",
        "        # Init environment\n",
        "        env = gym.make('Blackjack-v1')\n",
        "        env.reset()\n",
        "        random_action = env.action_space.sample\n",
        "\n",
        "        # Play n random games and record wins\n",
        "        wins = 0\n",
        "        for i in range(NUM_RUNS):\n",
        "            (current_hand, _, _), _ = env.reset()\n",
        "            \n",
        "            # Hit until hand exceeds n\n",
        "            # Note that 1 <= n <= 21, so don't need to check if done if\n",
        "            # a hit loses the game by going over 21\n",
        "            while current_hand <= n:\n",
        "                (current_hand, _, _), win, done, _, _ = env.step(1)\n",
        "            \n",
        "            # Stick\n",
        "            (current_hand, _, _), win, done, _, _ = env.step(0)\n",
        "\n",
        "            # Game should now be over; record wins\n",
        "            if win == 1:\n",
        "                wins += 1\n",
        "        \n",
        "        return wins/NUM_RUNS\n",
        "    \n",
        "    finally:\n",
        "        # Make sure to close env\n",
        "        env.close()"
      ]
    },
    {
      "cell_type": "code",
      "execution_count": 174,
      "metadata": {
        "id": "miBtqMaVIjFJ"
      },
      "outputs": [],
      "source": [
        "# Run simulation for 1 <= n <= 21\n",
        "win_percentages = [None] * 21\n",
        "\n",
        "for n in range(1, 21+1):\n",
        "    win_percentages[n-1] = blackjack(n)"
      ]
    },
    {
      "cell_type": "code",
      "source": [
        "# Plot win percentages\n",
        "plt.plot(np.arange(1, 21+1), win_percentages)\n",
        "plt.show()"
      ],
      "metadata": {
        "colab": {
          "base_uri": "https://localhost:8080/",
          "height": 265
        },
        "id": "e_WxFMN3z9SQ",
        "outputId": "192b422b-c143-42ab-d4ed-6cd5bdac6951"
      },
      "execution_count": 175,
      "outputs": [
        {
          "output_type": "display_data",
          "data": {
            "text/plain": [
              "<Figure size 432x288 with 1 Axes>"
            ],
            "image/png": "[encoded data removed]"
          },
          "metadata": {
            "needs_background": "light"
          }
        }
      ]
    },
    {
      "cell_type": "markdown",
      "metadata": {
        "id": "lY8vR6Ygxxk-"
      },
      "source": [
        "*Identify which value(s) give the highest win-rate here*"
      ]
    },
    {
      "cell_type": "code",
      "source": [
        "# The best-performing value of n\n",
        "best_n = np.argmax(win_percentages) + 1\n",
        "print('best n:', best_n)"
      ],
      "metadata": {
        "colab": {
          "base_uri": "https://localhost:8080/"
        },
        "id": "1pkcr5mBzYwD",
        "outputId": "228d89ea-67b6-4b3e-c1c3-eb49945a3bc5"
      },
      "execution_count": 177,
      "outputs": [
        {
          "output_type": "stream",
          "name": "stdout",
          "text": [
            "best n: 14\n"
          ]
        }
      ]
    },
    {
      "cell_type": "markdown",
      "metadata": {
        "id": "i9xB1KaZ5OJ3"
      },
      "source": [
        "# Problem 3\n",
        "\n",
        "* Implement `cartpole()`.\n",
        "* Render the game and run your function once.\n",
        "* Run Cartpole 100 times (without rendering) and print out the average number of steps before it terminates."
      ]
    },
    {
      "cell_type": "code",
      "execution_count": 229,
      "metadata": {
        "id": "AGEUkBOx5Qbk"
      },
      "outputs": [],
      "source": [
        "# Problem 3\n",
        "def cartpole(render=False):\n",
        "    \"\"\"\n",
        "    Solve CartPole-v1 by checking the velocity\n",
        "    of the tip of the pole.\n",
        "    Parameters: \n",
        "        render (bool): If True, render environment at each step\n",
        "    Return:\n",
        "        iterations (integer): If render, number of steps survived;\n",
        "            Else, average number of steps survived over NUM_TESTS runs\n",
        "    \"\"\"\n",
        "\n",
        "    # Init environment\n",
        "    env = gym.make('CartPole-v1', render_mode='rgb_array')\n",
        "    env.reset()\n",
        "\n",
        "    if render:\n",
        "        NUM_TESTS = 1\n",
        "    else:\n",
        "        NUM_TESTS = 100\n",
        "    \n",
        "    # Accelerate the cart depending on the velocity of the pole, and visualize each step\n",
        "    try:\n",
        "        # This is cumulative across all NUM_TESTS experiments\n",
        "        num_steps = 0\n",
        "        for _ in range(NUM_TESTS):\n",
        "            # Reset environment and get initial pole velocity\n",
        "            obs, info = env.reset()\n",
        "            pole_velocity = obs[3]\n",
        "\n",
        "            if render:\n",
        "                # Initialize visualization\n",
        "                img = plt.imshow(env.render())\n",
        "\n",
        "            # Step until done, recording the number of steps taken\n",
        "            done = False\n",
        "            while not done:\n",
        "                # If pole moving left, push cart left\n",
        "                if pole_velocity <= 0:\n",
        "                    action = 0\n",
        "                # Else, push cart right\n",
        "                else:\n",
        "                    action = 1\n",
        "                \n",
        "                # Step, get new pole velocity\n",
        "                obs, reward, done, trunc, info = env.step(action)\n",
        "                pole_velocity = obs[3]\n",
        "                num_steps += reward\n",
        "\n",
        "                if render:\n",
        "                    # Update visualization\n",
        "                    img.set_data(env.render())\n",
        "                    display.display(plt.gcf())\n",
        "                    display.clear_output(wait=True)\n",
        "            \n",
        "        return num_steps/NUM_TESTS\n",
        "    \n",
        "    finally:\n",
        "        env.close()"
      ]
    },
    {
      "cell_type": "code",
      "execution_count": 228,
      "metadata": {
        "id": "78iSdRs6wZKb",
        "colab": {
          "base_uri": "https://localhost:8080/",
          "height": 286
        },
        "outputId": "1c0c5c3e-96bf-4724-9b94-f840ae3cb1f2"
      },
      "outputs": [
        {
          "output_type": "execute_result",
          "data": {
            "text/plain": [
              "225.0"
            ]
          },
          "metadata": {},
          "execution_count": 228
        },
        {
          "output_type": "display_data",
          "data": {
            "text/plain": [
              "<Figure size 432x288 with 1 Axes>"
            ],
            "image/png": "[encoded data removed]"
          },
          "metadata": {
            "needs_background": "light"
          }
        }
      ],
      "source": [
        "# Render the game and run once here\n",
        "cartpole(True)"
      ]
    },
    {
      "cell_type": "code",
      "execution_count": 232,
      "metadata": {
        "id": "EaNbYfsuIhxN",
        "colab": {
          "base_uri": "https://localhost:8080/"
        },
        "outputId": "99d9ef0e-fe2a-4ae0-a09d-43dc550126cb"
      },
      "outputs": [
        {
          "output_type": "execute_result",
          "data": {
            "text/plain": [
              "199.53"
            ]
          },
          "metadata": {},
          "execution_count": 232
        }
      ],
      "source": [
        "# Run the game here and print average steps to termination\n",
        "cartpole(False)"
      ]
    },
    {
      "cell_type": "markdown",
      "metadata": {
        "id": "TPFFk0nX5U_b"
      },
      "source": [
        "# Problem 4\n",
        "\n",
        "* Implement `car()`.\n",
        "* Render the game and run your function once.\n",
        "* Run MountainCar 100 times (without rendering) and print out the average number of steps before it terminates."
      ]
    },
    {
      "cell_type": "code",
      "execution_count": 17,
      "metadata": {
        "id": "Lqq3Q6EO5Wgq"
      },
      "outputs": [],
      "source": [
        "# Problem 4\n",
        "def car(render=False):\n",
        "    \"\"\"\n",
        "    Solve MountainCar-v0 by checking the position of the car.\n",
        "    Parameters: \n",
        "        render (bool): If True, render environment at each step\n",
        "    Return:\n",
        "        iterations (integer): If render, number of steps survived;\n",
        "            Else, average number of steps survived over NUM_TESTS runs\n",
        "    \"\"\"\n",
        "    # Based on the velocity formula in the docs, the middle of the\n",
        "    # valley is at position = -pi/6 ~ -0.524.\n",
        "    # But a solution doesn't require position, just velocity\n",
        "    MIDDLE = -np.pi/6\n",
        "    \n",
        "    # Init environment\n",
        "    env = gym.make('MountainCar-v0', render_mode='rgb_array')\n",
        "    env.reset()\n",
        "\n",
        "    if render:\n",
        "        NUM_TESTS = 1\n",
        "    else:\n",
        "        NUM_TESTS = 100\n",
        "    \n",
        "    # Accelearte the car depending on its position and velocity, and visualize each step\n",
        "    try:\n",
        "        # This is cumulative across all NUM_TESTS experiments\n",
        "        num_steps = 0\n",
        "        for _ in range(NUM_TESTS):\n",
        "            # Reset and get initial car position and velocity\n",
        "            obs, info = env.reset()\n",
        "            position, velocity = obs\n",
        "\n",
        "            if render:\n",
        "                # Initialize visualization\n",
        "                img = plt.imshow(env.render())\n",
        "\n",
        "            # Step until done, recording the number of steps taken\n",
        "            done = False\n",
        "            while not done:\n",
        "                # Note that the left wall immediately sets velocity to zero\n",
        "                # If car is going left,\n",
        "                if velocity < 0:\n",
        "                    # acclerate left\n",
        "                    action = 0\n",
        "                else:\n",
        "                    # acclerate right\n",
        "                    action = 2\n",
        "\n",
        "                # Step, get new car position and velocity\n",
        "                obs, reward, done, trunc, info = env.step(action)\n",
        "                position, velocity = obs\n",
        "                \n",
        "                num_steps += 1\n",
        "\n",
        "                if render:\n",
        "                    # Update visualization\n",
        "                    img.set_data(env.render())\n",
        "                    display.display(plt.gcf())\n",
        "                    display.clear_output(wait=True)\n",
        "            \n",
        "        return num_steps/NUM_TESTS\n",
        "    \n",
        "    finally:\n",
        "        env.close()"
      ]
    },
    {
      "cell_type": "code",
      "execution_count": 18,
      "metadata": {
        "id": "4_kSEBYdwgnc",
        "colab": {
          "base_uri": "https://localhost:8080/",
          "height": 286
        },
        "outputId": "59c324fb-516f-46c6-a2e3-87506cef6f6a"
      },
      "outputs": [
        {
          "output_type": "execute_result",
          "data": {
            "text/plain": [
              "124.0"
            ]
          },
          "metadata": {},
          "execution_count": 18
        },
        {
          "output_type": "display_data",
          "data": {
            "text/plain": [
              "<Figure size 432x288 with 1 Axes>"
            ],
            "image/png": "[encoded data removed]"
          },
          "metadata": {
            "needs_background": "light"
          }
        }
      ],
      "source": [
        "# Render the game here\n",
        "car(True)"
      ]
    },
    {
      "cell_type": "code",
      "execution_count": 19,
      "metadata": {
        "id": "fUsBDn6KIgw5",
        "colab": {
          "base_uri": "https://localhost:8080/"
        },
        "outputId": "e189bbb6-c792-40b8-a4d5-faf89e267dc0"
      },
      "outputs": [
        {
          "output_type": "execute_result",
          "data": {
            "text/plain": [
              "119.99"
            ]
          },
          "metadata": {},
          "execution_count": 19
        }
      ],
      "source": [
        "# Run the game here and print average steps to termination\n",
        "car(False)"
      ]
    },
    {
      "cell_type": "markdown",
      "metadata": {
        "id": "U5tSd-zE4sHZ"
      },
      "source": [
        "## Helper Function for Problem 5"
      ]
    },
    {
      "cell_type": "code",
      "execution_count": 27,
      "metadata": {
        "id": "zNNc3x9x09Zr"
      },
      "outputs": [],
      "source": [
        "def find_qvalues(env,alpha=.1,gamma=.6,epsilon=.1):\n",
        "    \"\"\"\n",
        "    Use the Q-learning algorithm to find qvalues.\n",
        "    Parameters:\n",
        "        env (str): environment name\n",
        "        alpha (float): learning rate\n",
        "        gamma (float): discount factor\n",
        "        epsilon (float): maximum value\n",
        "    Returns:\n",
        "        q_table (ndarray nxm)\n",
        "    \"\"\"\n",
        "    # Make environment\n",
        "    env = gym.make(env)\n",
        "    # Make Q-table\n",
        "    q_table = np.zeros((env.observation_space.n, env.action_space.n))\n",
        "\n",
        "    # Train\n",
        "    for i in range(1, 100001):\n",
        "        # Reset state\n",
        "        state, info = env.reset()\n",
        "\n",
        "        epochs, penalties, reward, = 0, 0, 0\n",
        "        done = False\n",
        "\n",
        "        while not done:\n",
        "            # Accept based on alpha\n",
        "            if random.uniform(0,1) < epsilon:\n",
        "                action = env.action_space.sample()\n",
        "            else:\n",
        "                action = np.argmax(q_table[state])\n",
        "\n",
        "            # Take action\n",
        "            next_state, reward, done, truncated, info = env.step(action)\n",
        "\n",
        "            # Calculate new qvalue\n",
        "            old_value = q_table[state,action]\n",
        "            next_max = np.max(q_table[next_state])\n",
        "\n",
        "            new_value = (1-alpha) * old_value + alpha * (reward + gamma * next_max)\n",
        "            q_table[state, action] = new_value\n",
        "\n",
        "            # Check if penalty is made\n",
        "            if reward == -10:\n",
        "                penalties += 1\n",
        "\n",
        "            # Get next observation\n",
        "            state = next_state\n",
        "            epochs += 1\n",
        "\n",
        "        # Print episode number\n",
        "        if i % 100 == 0:\n",
        "            display.clear_output(wait=True)\n",
        "            print(f'Episode: {i}')\n",
        "\n",
        "    print('Training finished.')\n",
        "    return q_table"
      ]
    },
    {
      "cell_type": "markdown",
      "metadata": {
        "id": "ZODhO4AS5YQq"
      },
      "source": [
        "# Problem 5\n",
        "\n",
        "* Initialize the \"`Taxi-v3`\" environment (without rendering), act randomly until it terminates, and print the total reward\n",
        "* Render the \"`Taxi-v3`\" environment, use the Q-table to act optimally until it terminates, and print the total reward\n",
        "* Implement `taxi()`, then use it to print the average total reward for each algorithm.\n"
      ]
    },
    {
      "cell_type": "code",
      "execution_count": 71,
      "metadata": {
        "id": "e3i-LEnYKHyz",
        "colab": {
          "base_uri": "https://localhost:8080/"
        },
        "outputId": "30280bf5-3b13-4f2f-e902-e5266c82e2f9"
      },
      "outputs": [
        {
          "output_type": "stream",
          "name": "stdout",
          "text": [
            "-4766\n"
          ]
        }
      ],
      "source": [
        "# Random actions Taxi game\n",
        "TOTALLY_RANDOM = True\n",
        "try:\n",
        "    # Init environment\n",
        "    env = gym.make('Taxi-v3')\n",
        "    _, info = env.reset()\n",
        "    random_action = env.action_space.sample\n",
        "\n",
        "    # Iterate until termination\n",
        "    done = False\n",
        "    rand_reward = 0\n",
        "    while not done:\n",
        "        # Take random steps until terminating\n",
        "        if TOTALLY_RANDOM:\n",
        "            _, reward, done, _, _ = env.step(random_action())\n",
        "        # Mask non-modifying actions\n",
        "        else:\n",
        "            _, reward, done, _, info = env.step(env.action_space.sample(info['action_mask']))\n",
        "        \n",
        "        rand_reward += reward\n",
        "    \n",
        "    print(rand_reward)\n",
        "\n",
        "finally:\n",
        "    env.close()"
      ]
    },
    {
      "cell_type": "code",
      "source": [
        "# Train (get q-table)\n",
        "qtable = find_qvalues('Taxi-v3')"
      ],
      "metadata": {
        "colab": {
          "base_uri": "https://localhost:8080/"
        },
        "id": "x-xmJQtyDzzz",
        "outputId": "b0addece-8303-43e7-9ae7-de833f01a50b"
      },
      "execution_count": 28,
      "outputs": [
        {
          "output_type": "stream",
          "name": "stdout",
          "text": [
            "Episode: 100000\n",
            "Training finished.\n"
          ]
        }
      ]
    },
    {
      "cell_type": "code",
      "execution_count": 73,
      "metadata": {
        "id": "0ejXeML7KJSJ",
        "colab": {
          "base_uri": "https://localhost:8080/"
        },
        "outputId": "343f6539-1953-4858-c5c7-91291ffe7f16"
      },
      "outputs": [
        {
          "output_type": "stream",
          "name": "stdout",
          "text": [
            "6\n"
          ]
        }
      ],
      "source": [
        "# Q-table actions Taxi game\n",
        "try:\n",
        "    # Init environment\n",
        "    env = gym.make('Taxi-v3')\n",
        "    obs, info = env.reset()\n",
        "\n",
        "    # Iterate until termination\n",
        "    done = False\n",
        "    q_reward = 0\n",
        "    while not done:\n",
        "        # Use the qtable to choose the next action\n",
        "        action = np.argmax(qtable[obs])\n",
        "        obs, reward, done, trunc, info = env.step(action)\n",
        "        q_reward += reward\n",
        "    \n",
        "    print(q_reward)\n",
        "\n",
        "finally:\n",
        "    env.close()"
      ]
    },
    {
      "cell_type": "code",
      "execution_count": 76,
      "metadata": {
        "id": "APK2iYQV5aR4"
      },
      "outputs": [],
      "source": [
        "def taxi(q_table):\n",
        "    \"\"\"\n",
        "    Compare naive and q-learning algorithms.\n",
        "    Parameters:\n",
        "        q_table (ndarray nxm): table of qvalues\n",
        "    Returns:\n",
        "        naive (float): mean reward of naive algorithm\n",
        "                       of 1000 runs\n",
        "        q_reward (float): mean reward of Q-learning algorithm\n",
        "                          of 1000 runs\n",
        "    \"\"\"\n",
        "    NUM_TESTS = 1000\n",
        "\n",
        "    ### Play random game\n",
        "    # This is cumulative and will be averaged using NUM_TESTS later\n",
        "    rand_reward = 0\n",
        "    TOTALLY_RANDOM = True\n",
        "    try:\n",
        "        # Init environment\n",
        "        env = gym.make('Taxi-v3')\n",
        "        _, info = env.reset()\n",
        "        random_action = env.action_space.sample\n",
        "\n",
        "        # Run NUM_TESTS experiments\n",
        "        for _ in range(NUM_TESTS):\n",
        "            # Reset env and get initial state\n",
        "            _, info = env.reset()\n",
        "\n",
        "            # Iterate until termination\n",
        "            done = False\n",
        "            while not done:\n",
        "                # Take random steps until terminating\n",
        "                if TOTALLY_RANDOM:\n",
        "                    _, reward, done, _, _ = env.step(random_action())\n",
        "                # Mask non-modifying actions\n",
        "                else:\n",
        "                    _, reward, done, _, info = env.step(env.action_space.sample(info['action_mask']))\n",
        "                \n",
        "                rand_reward += reward\n",
        "\n",
        "    finally:\n",
        "        env.close()\n",
        "\n",
        "    ### Play Q-table game\n",
        "    # This is again cumulative\n",
        "    q_reward = 0\n",
        "    try:\n",
        "        # Init environment\n",
        "        env = gym.make('Taxi-v3')\n",
        "        obs, info = env.reset()\n",
        "\n",
        "        # Run NUM_TESTS experiments\n",
        "        for _ in range(NUM_TESTS):\n",
        "            # Reset env and get initial state\n",
        "            obs, info = env.reset()\n",
        "\n",
        "            # Iterate until termination\n",
        "            done = False\n",
        "            while not done:\n",
        "                # Use the qtable to choose the next action\n",
        "                action = np.argmax(qtable[obs])\n",
        "                obs, reward, done, trunc, info = env.step(action)\n",
        "                q_reward += reward\n",
        "\n",
        "    finally:\n",
        "        env.close()\n",
        "    \n",
        "    return rand_reward/NUM_TESTS, q_reward/NUM_TESTS"
      ]
    },
    {
      "cell_type": "code",
      "execution_count": 77,
      "metadata": {
        "id": "PhS7JR1JKOQu",
        "colab": {
          "base_uri": "https://localhost:8080/"
        },
        "outputId": "a6018c37-152f-4d2d-d326-e1e38121f379"
      },
      "outputs": [
        {
          "output_type": "execute_result",
          "data": {
            "text/plain": [
              "(-9183.246, 7.887)"
            ]
          },
          "metadata": {},
          "execution_count": 77
        }
      ],
      "source": [
        "# Print the average rewards of the Taxi game for both algorithms run 1000 times\n",
        "taxi(qtable)"
      ]
    }
  ],
  "metadata": {
    "colab": {
      "provenance": []
    },
    "kernelspec": {
      "display_name": "Python 3 (ipykernel)",
      "language": "python",
      "name": "python3"
    },
    "language_info": {
      "codemirror_mode": {
        "name": "ipython",
        "version": 3
      },
      "file_extension": ".py",
      "mimetype": "text/x-python",
      "name": "python",
      "nbconvert_exporter": "python",
      "pygments_lexer": "ipython3",
      "version": "3.7.4"
    }
  },
  "nbformat": 4,
  "nbformat_minor": 0
}